{
 "cells": [
  {
   "cell_type": "markdown",
   "metadata": {},
   "source": [
    "University of Helsinki, Master's Programme in Mathematics and Statistics  \n",
    "MAST32001 Computational Statistics, Autumn 2022  \n",
    "Luigi Acerbi  \n",
    "\n",
    "# Week 1 exercises"
   ]
  },
  {
   "cell_type": "code",
   "execution_count": 13,
   "metadata": {},
   "outputs": [],
   "source": [
    "# Useful imports\n",
    "%matplotlib inline\n",
    "import numpy as np\n",
    "import numpy.random as npr\n",
    "import matplotlib.pyplot as plt\n",
    "from scipy.special import gammaln\n",
    "from scipy.linalg import solve_triangular\n",
    "\n",
    "\n",
    "rng = npr.default_rng(42)\n"
   ]
  },
  {
   "cell_type": "markdown",
   "metadata": {},
   "source": [
    "## 1. Input ranges for overflow and underflow (4 pts)\n",
    "\n",
    "i. Write a program to find the largest integer for which `exp()` over double precision floating point numbers (`float64`) returns a finite value.\n",
    "\n",
    "ii. The logistic function $$ \\phi(x) = \\frac{1}{1 + \\exp(-x)} $$ is often used to map the real line to probabilities in the range $(0, 1)$, for example in logistic regression. For real numbers, the equation $ \\phi(x) = 1 $ has no solution, but the same is not true for floating point numbers on a computer. Write a program to determine the smallest integer $ x $ for which $ \\phi(x) =_F 1$ when using double precision floating point (`float64`) arithmetic.\n",
    "\n",
    "*Note*: \"Write a program\" means you should not try out all values manually, but program the computer to find the solution."
   ]
  },
  {
   "cell_type": "code",
   "execution_count": 14,
   "metadata": {},
   "outputs": [
    {
     "name": "stdout",
     "output_type": "stream",
     "text": [
      "709\n",
      "37\n"
     ]
    },
    {
     "name": "stderr",
     "output_type": "stream",
     "text": [
      "/tmp/ipykernel_10063/359217853.py:9: RuntimeWarning: overflow encountered in exp\n",
      "  result = np.exp(target)\n"
     ]
    }
   ],
   "source": [
    "# i \n",
    "def largest_valid_exp_argument() -> int:\n",
    "    # we know that np.exp(1) is valid and np.exp(1000) is an overflow, so binary search\n",
    "    minn, maxx = 1, 1000\n",
    "    target = np.ceil((minn/maxx)/2)\n",
    "    while(True):\n",
    "        if target == maxx:\n",
    "            return int(minn) # our we tried to go up, but reached maxx. So minn is the correct result.\n",
    "        result = np.exp(target)\n",
    "        if np.isinf(result): # go down\n",
    "            maxx = target\n",
    "            target = np.ceil((minn+target)/2)\n",
    "            \n",
    "        else: # go up\n",
    "            minn = target\n",
    "            target = np.ceil((target+maxx)/2)\n",
    "    \n",
    "print(largest_valid_exp_argument())\n",
    "\n",
    "# ii\n",
    "\n",
    "def logistic(x: np.float_) -> np.float_:\n",
    "    return (\n",
    "        1 / (\n",
    "            1 + np.exp(-x)\n",
    "        )\n",
    "    )\n",
    "\n",
    "def find_logistic_outputs_1() -> np.int_:\n",
    "    minn, maxx = 0, 1_000_000\n",
    "    target = np.ceil((minn/maxx)/2)\n",
    "    while(True):\n",
    "        if target == maxx:\n",
    "            return int(maxx)\n",
    "        result = logistic(target)\n",
    "        if np.equal(result, 1.0): # go down\n",
    "            maxx = target\n",
    "            target = np.ceil((minn+target)/2)\n",
    "            \n",
    "        else: # go up\n",
    "            minn = target\n",
    "            target = np.ceil((target+maxx)/2)\n",
    "\n",
    "print(find_logistic_outputs_1())"
   ]
  },
  {
   "cell_type": "markdown",
   "metadata": {},
   "source": [
    "## 2. Numerical computation of binomial probabilities (4 pts)\n",
    "\n",
    "Write a computer program to compute sums of binomial probabilities:\n",
    "$$ f(l, u, n, p) = \\sum_{i=l}^u \\binom{n}{i} p^i (1-p)^{n-i}. $$\n",
    "Use it to compute:\n",
    "\n",
    "i. $ f(0, 5, 10, 0.25) = \\sum_{i=0}^{5} \\binom{10}{i} 0.25^i 0.75^{10-i} $\n",
    "\n",
    "ii. $ f(10, 20, 20, 0.25) = \\sum_{i=10}^{20} \\binom{20}{i} 0.25^i 0.75^{20-i} $\n",
    "\n",
    "iii. $ f(40, 60, 100, 0.25) = \\sum_{i=40}^{60} \\binom{100}{i} 0.25^i 0.75^{100-i} $\n",
    "\n",
    "iv. $ f(75, 100, 100, 0.25) = \\sum_{i=75}^{100} \\binom{100}{i} 0.25^i 0.75^{100-i} $\n",
    "\n",
    "*Hint*: Remember to use log probabilities and `logsumexp` as appropriate."
   ]
  },
  {
   "cell_type": "code",
   "execution_count": 15,
   "metadata": {},
   "outputs": [
    {
     "name": "stdout",
     "output_type": "stream",
     "text": [
      "1.0000000000000002\n",
      "0.9999999999999999\n",
      "0.9999999999999996\n",
      "1.0000000000000013\n"
     ]
    }
   ],
   "source": [
    "\n",
    "def f(l, u, n, p):\n",
    "    l_u = np.arange(start=l, stop=u+1)\n",
    "\n",
    "    # compute the binom coeff\n",
    "    n_coeff = gammaln(n+1)\n",
    "    k_coeff = gammaln(l_u+1)\n",
    "    nk_coeff = gammaln(n-l_u+1)\n",
    "    log_binom_coeff = n_coeff - (k_coeff + nk_coeff)\n",
    "\n",
    "    # first term\n",
    "    _p = np.multiply(l_u, np.log(p))\n",
    "    # we need to add a small constant here or we'll end up doing np.log(0)\n",
    "    _p_prime = np.multiply(np.log(n-l_u+1e-20), np.log(1-p))\n",
    "\n",
    "    log_binom_pmf = log_binom_coeff + _p + _p_prime\n",
    "    m = np.max(log_binom_pmf)\n",
    "\n",
    "    # logsumexp and normalisation\n",
    "    return np.exp( log_binom_pmf - (m + np.log(np.sum(np.exp(log_binom_pmf-m))) ))\n",
    "\n",
    "res1 = f(0, 5, 10, 0.25)\n",
    "res2= f(10, 20, 20, 0.25)\n",
    "res3= f(40, 60, 100, 0.25)\n",
    "res4= f(75, 100, 100, 0.25)\n",
    "\n",
    "for res in [res1, res2, res3, res4]:\n",
    "    print(np.sum(res))\n"
   ]
  },
  {
   "cell_type": "markdown",
   "metadata": {},
   "source": [
    "## 3. Numerical evaluation of multivariate normal probabilities (4 pts)\n",
    "\n",
    "Consider the $d$-variate normal distribution $\\mathcal{N}(x;\\; \\mu, \\Sigma)$ with the log-probability density\n",
    "$$ \\ln p(x;\\; \\mu, \\Sigma) = -\\frac{d}{2} \\ln(2 \\pi) - \\frac{1}{2} \\ln |\\det \\Sigma| - \\frac{1}{2} (x - \\mu)^T \\Sigma^{-1} (x - \\mu). $$\n",
    "Let $\\mu = \\begin{pmatrix}0 \\\\ 0\\end{pmatrix}$, $\\Sigma = \\begin{pmatrix}2^2 & 2\\rho \\\\ 2\\rho & 1\\end{pmatrix}$.\n",
    "\n",
    "Evaluate the following log-probabilities:\n",
    "\n",
    "i. $ \\ln p( \\begin{pmatrix}0 \\\\ 0\\end{pmatrix} ; \\; \\mu, \\Sigma), $ when $\\rho = 0.8$\n",
    "\n",
    "ii. $ \\ln p( \\begin{pmatrix}0 \\\\ 0\\end{pmatrix} ; \\; \\mu, \\Sigma), $ when $\\rho = 0.999$\n",
    "\n",
    "iii. $ \\ln p( \\begin{pmatrix}1 \\\\ 1\\end{pmatrix} ; \\; \\mu, \\Sigma), $ when $\\rho = 0.999$\n",
    "\n",
    "iv. $ \\ln p( \\begin{pmatrix}1 \\\\ 1\\end{pmatrix} ; \\; \\mu, \\Sigma), $ when $\\rho = -0.999$\n",
    "\n",
    "*Note*: `ln` denotes the logarithm in natural base (for us it is the same as `log`, per our usual notational convention)."
   ]
  },
  {
   "cell_type": "code",
   "execution_count": 16,
   "metadata": {
    "collapsed": true
   },
   "outputs": [
    {
     "name": "stdout",
     "output_type": "stream",
     "text": [
      "-2.0201986232033\n",
      "0.5765298647626529\n",
      "0.20127986476265292\n",
      "-0.29822013523734714\n"
     ]
    }
   ],
   "source": [
    "mu = np.array([0,0])\n",
    "\n",
    "def multivariate(x: np.ndarray, mu: np.ndarray, p: float, d: int = 2):\n",
    "    sigma = np.array([[2**2, 2*p], [2*p, 1]])\n",
    "    term1 = -(d/2) * np.log(2*np.pi)\n",
    "    term2 = -(1/2) * np.log(np.abs(np.linalg.det(sigma)))\n",
    "    term3 = -(1/2) * np.sum(solve_triangular(sigma, x-mu, lower=True))\n",
    "    return term1 + term2 + term3\n",
    "\n",
    "print(multivariate(x=np.array([0, 0]), mu=mu, p=0.8, d=2))\n",
    "print(multivariate(x=np.array([0, 0]), mu=mu, p=0.999, d=2))\n",
    "print(multivariate(x=np.array([1,1]), mu=mu, p=0.999, d=2))\n",
    "print(multivariate(x=np.array([1,1]), mu=mu, p=-0.999, d=2))"
   ]
  },
  {
   "cell_type": "markdown",
   "metadata": {},
   "source": [
    "## 4. Rejection sampling of Beta(2, 3) (4 pts)\n",
    "\n",
    "Write a program to draw samples from the $\\text{Beta(2, 3)}$ distribution\n",
    "$ p(x) = 12 x (1-x)^2, \\quad 0 \\le x \\le 1 $  \n",
    "using the uniform distribution on the interval $(0, 1)$ as the proposal distribution $q(x)$.\n",
    "\n",
    "Remember that you need to find a constant $M$ such that $p(x) \\le M q(x)$ for all $x$. Plotting the function $p(x)/q(x)$ is a good way to start looking for one.\n",
    "\n",
    "Plot a normed histogram of your samples together with the density to check that they match.\n",
    "\n",
    "Draw at least 10000 samples from the distribution and report your estimate of $ \\mathbb{E}[x^5] $ for $ x \\sim \\mathrm{Beta}(2, 3)$.\n",
    "\n",
    "*Note*: Please report the actual value you obtain to Moodle, not your guess of the true value. Values within the expected Monte Carlo error will be accepted as correct.\n",
    "\n",
    "*Hint for evaluating the expectation* $\\mathbb{E}[x^5]$: assuming we have samples $x_i \\sim p(x), i = 1, \\dots, n$ following the distribution $p(x)$, we can compute a simple Monte Carlo approximation of the expectation of an arbitrary function $g(x)$ as\n",
    "$$ \\mathbb{E}_p[g(x)] \\approx \\frac{1}{n} \\sum_{i=1}^n g(x_i), \\qquad \\text{ for } x_i \\sim p(x).$$"
   ]
  },
  {
   "cell_type": "code",
   "execution_count": 17,
   "metadata": {},
   "outputs": [
    {
     "data": {
      "text/plain": [
       "array([0.77395605, 0.43887844, 0.85859792, 0.69736803, 0.09417735,\n",
       "       0.97562235, 0.7611397 , 0.78606431, 0.12811363, 0.45038594,\n",
       "       0.37079802, 0.92676499, 0.64386512, 0.82276161, 0.4434142 ,\n",
       "       0.22723872, 0.55458479, 0.06381726, 0.82763117, 0.6316644 ,\n",
       "       0.75808774, 0.35452597, 0.97069802, 0.89312112, 0.7783835 ,\n",
       "       0.19463871, 0.466721  , 0.04380377, 0.15428949, 0.68304895,\n",
       "       0.74476216, 0.96750973, 0.32582536, 0.37045971, 0.46955581,\n",
       "       0.18947136, 0.12992151, 0.47570493, 0.22690935, 0.66981399,\n",
       "       0.43715192, 0.8326782 , 0.7002651 , 0.31236664, 0.8322598 ,\n",
       "       0.80476436, 0.38747838, 0.2883281 , 0.6824955 , 0.13975248,\n",
       "       0.1999082 , 0.00736227, 0.78692438, 0.66485086, 0.70516538,\n",
       "       0.78072903, 0.45891578, 0.5687412 , 0.139797  , 0.11453007,\n",
       "       0.66840296, 0.47109621, 0.56523611, 0.76499886, 0.63471832,\n",
       "       0.5535794 , 0.55920716, 0.3039501 , 0.03081783, 0.43671739,\n",
       "       0.21458467, 0.40852864, 0.85340307, 0.23393949, 0.05830274,\n",
       "       0.28138389, 0.29359376, 0.66191651, 0.55703215, 0.78389821,\n",
       "       0.66431354, 0.40638686, 0.81402038, 0.16697292, 0.02271207,\n",
       "       0.09004786, 0.72235935, 0.46187723, 0.16127178, 0.50104478,\n",
       "       0.1523121 , 0.69632038, 0.44615628, 0.38102123, 0.30151209,\n",
       "       0.63028259, 0.36181261, 0.08764992, 0.1180059 , 0.96189766,\n",
       "       0.90858069, 0.69970713, 0.26586996, 0.96917638, 0.7787509 ,\n",
       "       0.71689019, 0.4493615 , 0.27224156, 0.09639096, 0.9026024 ,\n",
       "       0.45577629, 0.20236336, 0.30595662, 0.57921957, 0.17677278,\n",
       "       0.85661428, 0.75851953, 0.71946296, 0.43209304, 0.62730884,\n",
       "       0.58409797, 0.6498466 , 0.08444432, 0.4158074 , 0.04161417,\n",
       "       0.49399082, 0.32986121, 0.14452419, 0.10340297, 0.58764457,\n",
       "       0.17059297, 0.92512012, 0.58106114, 0.3468698 , 0.59091549,\n",
       "       0.02280387, 0.95855921, 0.48230344, 0.78273523, 0.08273   ,\n",
       "       0.48665833, 0.49070699, 0.93782645, 0.57172805, 0.4734894 ,\n",
       "       0.26697566, 0.331569  , 0.5206724 , 0.43891146, 0.02161208,\n",
       "       0.82629192, 0.89616077, 0.14024909, 0.55403614, 0.10857574,\n",
       "       0.67224009, 0.28123378, 0.65942263, 0.72699461, 0.76864749,\n",
       "       0.10774095, 0.91601185, 0.23021399, 0.03741256, 0.55485247,\n",
       "       0.37092228, 0.82978974, 0.80825147, 0.31713889, 0.9528994 ,\n",
       "       0.29091784, 0.51505713, 0.25596509, 0.93604357, 0.16460782,\n",
       "       0.04491062, 0.43509706, 0.99237556, 0.89167727, 0.74860802,\n",
       "       0.89079249, 0.89344664, 0.51885836, 0.31592905, 0.77201243,\n",
       "       0.66166126, 0.37365773, 0.09446667, 0.74678961, 0.26246052,\n",
       "       0.93681315, 0.24097058, 0.12275793, 0.83111267, 0.15328432,\n",
       "       0.17926831, 0.59938279, 0.87456204, 0.19643467, 0.31032367,\n",
       "       0.77740484, 0.97182643, 0.50074119, 0.1438975 , 0.01393629,\n",
       "       0.22965603, 0.13182222, 0.67765867, 0.1218325 , 0.50632993,\n",
       "       0.69426244, 0.58111661, 0.19977565, 0.80412453, 0.71540713,\n",
       "       0.738984  , 0.13105775, 0.1237538 , 0.92756255, 0.39757819,\n",
       "       0.30094869, 0.48858405, 0.66286421, 0.95562326, 0.28644623,\n",
       "       0.92480843, 0.02485949, 0.55519804, 0.63397511, 0.1058974 ,\n",
       "       0.1403396 , 0.41911432, 0.96623191, 0.59604255, 0.93302322,\n",
       "       0.80436092, 0.4673816 , 0.78476345, 0.01783678, 0.109144  ,\n",
       "       0.82942861, 0.79681709, 0.23264074, 0.53076959, 0.60601582,\n",
       "       0.86773895, 0.60310716, 0.41257157, 0.37418404, 0.42588209,\n",
       "       0.65193103, 0.86749063, 0.45389688, 0.24783956, 0.23666236,\n",
       "       0.74601428, 0.81656876, 0.10527808, 0.06655886, 0.59443366,\n",
       "       0.14617324, 0.82466419, 0.31033467, 0.14387193, 0.92097047,\n",
       "       0.16553172, 0.28472008, 0.1536134 , 0.11549006, 0.02114802,\n",
       "       0.05539541, 0.17464147, 0.05338193, 0.59114382, 0.68071453,\n",
       "       0.39363046, 0.3179911 , 0.50452624, 0.87500494, 0.85113163,\n",
       "       0.04347506, 0.18149841, 0.23674487, 0.24938758, 0.57123265,\n",
       "       0.41626243, 0.04925412, 0.37361414, 0.52375295, 0.1016719 ,\n",
       "       0.83345855, 0.05196187, 0.92484187, 0.09911314, 0.84357495,\n",
       "       0.90265314, 0.97957068, 0.80202588, 0.77947754, 0.64248328,\n",
       "       0.77899635, 0.13455221, 0.53606804, 0.51422287, 0.85757214,\n",
       "       0.46279937, 0.3850895 , 0.63956327, 0.26646332, 0.13976841,\n",
       "       0.47787727, 0.41688937, 0.23256994, 0.36751181, 0.36639245,\n",
       "       0.32749556, 0.37946408, 0.68574335, 0.29687647, 0.94885793,\n",
       "       0.91634802, 0.48091043, 0.32836121, 0.53543479, 0.84856049,\n",
       "       0.65258734, 0.80439183, 0.53272228, 0.63291763, 0.28815561,\n",
       "       0.73489316, 0.20240459, 0.69479813, 0.86071907, 0.13210284,\n",
       "       0.61437974, 0.09509575, 0.72571563, 0.08449322, 0.93593982,\n",
       "       0.13740793, 0.95888025, 0.80088418, 0.593682  , 0.7826241 ,\n",
       "       0.79511484, 0.94602706, 0.25338335, 0.5900759 , 0.0950492 ,\n",
       "       0.6161657 , 0.1712913 , 0.56495061, 0.57243051, 0.46598515,\n",
       "       0.52263178, 0.76392339, 0.79924472, 0.49215322, 0.59959344,\n",
       "       0.93123624, 0.11973359, 0.11710357, 0.08770901, 0.65786329,\n",
       "       0.4186083 , 0.77432142, 0.67123141, 0.33363776, 0.89836655,\n",
       "       0.76253215, 0.27053494, 0.36419202, 0.31443998, 0.15761165,\n",
       "       0.14778337, 0.93612746, 0.43790404, 0.38331982, 0.72968571,\n",
       "       0.55299307, 0.93613999, 0.78030149, 0.47936956, 0.37635947,\n",
       "       0.98663154, 0.71776024, 0.95119466, 0.11847858, 0.85053368,\n",
       "       0.63707388, 0.12192168, 0.588258  , 0.68609637, 0.01230269,\n",
       "       0.45431796, 0.82539951, 0.29535903, 0.45854808, 0.44231413,\n",
       "       0.30192739, 0.9184419 , 0.78129404, 0.11058841, 0.99703466,\n",
       "       0.87920002, 0.28390844, 0.83689658, 0.10641953, 0.99910473,\n",
       "       0.66568474, 0.65012502, 0.09044073, 0.8970334 , 0.0289995 ,\n",
       "       0.24082806, 0.14302188, 0.77676794, 0.19820423, 0.91063823,\n",
       "       0.65626904, 0.03616271, 0.00542983, 0.05165792, 0.60592518,\n",
       "       0.80148181, 0.23855282, 0.84940884, 0.05723194, 0.80096385,\n",
       "       0.92779543, 0.7721084 , 0.69812078, 0.83798022, 0.0401513 ,\n",
       "       0.20178211, 0.12492368, 0.50453099, 0.74518813, 0.63001184,\n",
       "       0.8511311 , 0.15521299, 0.73462109, 0.19304149, 0.27075875,\n",
       "       0.7099047 , 0.98020478, 0.61154361, 0.05450031, 0.61630897,\n",
       "       0.04235055, 0.88414571, 0.70957829, 0.17312785, 0.09172101,\n",
       "       0.18353323, 0.98002718, 0.45856064, 0.78408095, 0.63640834,\n",
       "       0.57241315, 0.14513025, 0.94602445, 0.30134263, 0.57801722,\n",
       "       0.69977594, 0.64923316, 0.94059441, 0.14843899, 0.50835274,\n",
       "       0.40403439, 0.47416873, 0.11921753, 0.13409461, 0.27807555,\n",
       "       0.3047046 , 0.42790321, 0.61098755, 0.63462912, 0.4118109 ,\n",
       "       0.40878311, 0.21762853, 0.58830625, 0.31704091, 0.03605983,\n",
       "       0.41840004, 0.47413268, 0.22559287, 0.57245793, 0.5657719 ,\n",
       "       0.70200218, 0.64794848, 0.65243306, 0.31621415, 0.78743222,\n",
       "       0.54914438, 0.4314182 , 0.62601248, 0.36065733, 0.51273924])"
      ]
     },
     "execution_count": 17,
     "metadata": {},
     "output_type": "execute_result"
    }
   ],
   "source": [
    "rng.uniform(0, 1, size=500)"
   ]
  },
  {
   "cell_type": "code",
   "execution_count": 21,
   "metadata": {
    "collapsed": true
   },
   "outputs": [
    {
     "data": {
      "text/plain": [
       "[<matplotlib.lines.Line2D at 0x7f1983bc8bb0>]"
      ]
     },
     "execution_count": 21,
     "metadata": {},
     "output_type": "execute_result"
    },
    {
     "data": {
      "image/png": "[encoded data removed]",
      "text/plain": [
       "<Figure size 640x480 with 1 Axes>"
      ]
     },
     "metadata": {},
     "output_type": "display_data"
    }
   ],
   "source": [
    "xbeta = np.linspace(0, 1, 1000)\n",
    "plt.grid(True)\n",
    "plt.plot(\n",
    "    xbeta,\n",
    "    (12*xbeta**2 * (1-xbeta)**2)/(1/1.33),\n",
    "    color='blue'\n",
    ")\n",
    "plt.plot(\n",
    "    xbeta,\n",
    "    np.repeat([1-0], 1000),\n",
    "    color='red'\n",
    "    \n",
    ")\n",
    "plt.plot(xbeta,\n",
    "        (xbeta - 0) / (1 - 0),\n",
    "        color='orange'\n",
    "        )"
   ]
  },
  {
   "cell_type": "code",
   "execution_count": 6,
   "metadata": {},
   "outputs": [],
   "source": [
    "def beta_2_3(x):\n",
    "    return 12*x**2 * (1-x)**2\n"
   ]
  },
  {
   "cell_type": "markdown",
   "metadata": {},
   "source": [
    "## 5. Rejection sampling of a Gaussian with Laplace  (4 pts)\n",
    "\n",
    "Consider the standard $\\text{Laplace}(0, 1)$ distribution defined by:\n",
    "$$ q(x) = 1/2 \\exp(- | x | ),$$ \n",
    "and the standard normal distribution defined by\n",
    "$$p(x) = \\frac{1}{\\sqrt{2 \\pi}} \\exp\\left( - \\frac{1}{2} x^2 \\right).$$\n",
    "For both the Laplace and normal distribution, $x \\in (-\\infty, \\infty)$.\n",
    "\n",
    "1. Write a program to draw samples from the $\\text{Laplace}(0, 1)$ distribution. (*Hint*: transformation considered on Lecture 2.) Test your program by comparing the normed histogram of the samples with the density.\n",
    "2. Design a method to draw samples from the standard normal using the standard Laplace distribution as the proposal. (*Hint*: you need to find a constant $M$ such that $p(x) \\le M q(x)$ for all $x$. Plotting the function $p(x)/q(x)$ is again useful for looking for one.)\n",
    "3. Use 10000 samples to compute the expectation $ E[x^4] $ for $ x $ following the standard normal distribution.\n",
    "4. Assume the underlying uniform random generator uses full 53 bits of precision of `float64` and produces random numbers in the range $[2^{-53}, 1]$, that is the smallest number $u$ that can be generated is $2^{-53}$. Considering the same setup as above, what is the largest value the rejection sampling method can generate, if it were executed for long enough? \n",
    "\n",
    "Hints for part 5.4:\n",
    "- You need to check that the algorithm can both generate an extreme value, and accept it.\n",
    "- What's the equation for accepting a value in rejection sampling? In particular, the fact that $u$ cannot be smaller than $2^{-53}$ implies that there are some values of $x$ that you will never be able to accept. Figure out the maximum $x$ that you can accept!\n",
    "- You can use the same $M$ that you used in part 5.2 (as long as you chose a reasonable $M$, the answer will be valid)."
   ]
  },
  {
   "cell_type": "code",
   "execution_count": null,
   "metadata": {},
   "outputs": [],
   "source": []
  }
 ],
 "metadata": {
  "kernelspec": {
   "display_name": "computational-statistics-LzaSaxBQ-py3.10",
   "language": "python",
   "name": "python3"
  },
  "language_info": {
   "codemirror_mode": {
    "name": "ipython",
    "version": 3
   },
   "file_extension": ".py",
   "mimetype": "text/x-python",
   "name": "python",
   "nbconvert_exporter": "python",
   "pygments_lexer": "ipython3",
   "version": "3.10.10"
  },
  "vscode": {
   "interpreter": {
    "hash": "06235b941621d43ec573df3de2ae2942753ab760f91174a05cd454369406daa1"
   }
  }
 },
 "nbformat": 4,
 "nbformat_minor": 1
}
