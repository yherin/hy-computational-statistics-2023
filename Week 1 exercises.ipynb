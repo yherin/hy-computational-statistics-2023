{
 "cells": [
  {
   "cell_type": "markdown",
   "metadata": {},
   "source": [
    "University of Helsinki, Master's Programme in Mathematics and Statistics  \n",
    "MAST32001 Computational Statistics, Autumn 2023  \n",
    "Luigi Acerbi  \n",
    "\n",
    "# Week 1 exercises"
   ]
  },
  {
   "cell_type": "code",
   "execution_count": null,
   "metadata": {},
   "outputs": [
    {
     "ename": "",
     "evalue": "",
     "output_type": "error",
     "traceback": [
      "\u001b[1;31mRunning cells with 'computational-statistics-qlF0ErcH-py3.11' requires the ipykernel package.\n",
      "\u001b[1;31mRun the following command to install 'ipykernel' into the Python environment. \n",
      "\u001b[1;31mCommand: '/home/sjack/.cache/pypoetry/virtualenvs/computational-statistics-qlF0ErcH-py3.11/bin/python -m pip install ipykernel -U --force-reinstall'"
     ]
    }
   ],
   "source": [
    "# Useful imports\n",
    "%matplotlib inline\n",
    "import numpy as np\n",
    "import numpy.random as npr\n",
    "import matplotlib.pyplot as plt\n",
    "\n",
    "from scipy.special import gammaln\n",
    "from scipy.linalg import solve_triangular, cholesky\n",
    "\n",
    "import seaborn as sns\n",
    "plt.rcParams['figure.figsize'] = (12, 8)\n",
    "plt.rcParams['font.size'] = 16\n",
    "plt.rcParams['axes.grid'] = True\n",
    "\n",
    "rng = npr.default_rng(42)"
   ]
  },
  {
   "cell_type": "markdown",
   "metadata": {},
   "source": [
    "## 1. Input ranges for overflow and underflow (4 pts)\n",
    "\n",
    "i. Write a program to find the largest integer for which `exp()` over double precision floating point numbers (`float64`) returns a finite value.\n",
    "\n",
    "ii. The logistic function $$ \\phi(x) = \\frac{1}{1 + \\exp(-x)} $$ is often used to map the real line to probabilities in the range $(0, 1)$, for example in logistic regression. For real numbers, the equation $ \\phi(x) = 1 $ has no solution, but the same is not true for floating point numbers on a computer. Write a program to determine the smallest integer $ x $ for which $ \\phi(x) =_F 1$ when using double precision floating point (`float64`) arithmetic.\n",
    "\n",
    "*Note*: \"Write a program\" means you should not try out all values manually, but program the computer to find the solution."
   ]
  },
  {
   "cell_type": "code",
   "execution_count": null,
   "metadata": {},
   "outputs": [
    {
     "ename": "",
     "evalue": "",
     "output_type": "error",
     "traceback": [
      "\u001b[1;31mRunning cells with 'computational-statistics-qlF0ErcH-py3.11' requires the ipykernel package.\n",
      "\u001b[1;31mRun the following command to install 'ipykernel' into the Python environment. \n",
      "\u001b[1;31mCommand: '/home/sjack/.cache/pypoetry/virtualenvs/computational-statistics-qlF0ErcH-py3.11/bin/python -m pip install ipykernel -U --force-reinstall'"
     ]
    }
   ],
   "source": [
    "# i)\n",
    "def largest_valid_exp_argument() -> int:\n",
    "    # we know that np.exp(1) is valid and np.exp(1000) is an overflow, so binary search\n",
    "    minn, maxx = 1, 1000\n",
    "    target = np.ceil((minn/maxx)/2)\n",
    "    while(True):\n",
    "        if target == maxx:\n",
    "            return int(minn) # our we tried to go up, but reached maxx. So minn is the correct result.\n",
    "        result = np.exp(target)\n",
    "        if np.isinf(result): # go down\n",
    "            maxx = target\n",
    "            target = np.ceil((minn+target)/2)\n",
    "            \n",
    "        else: # go up\n",
    "            minn = target\n",
    "            target = np.ceil((target+maxx)/2)\n",
    "    \n",
    "\n",
    "largest_exp_x = largest_valid_exp_argument()\n",
    "assert not np.isinf(largest_exp_x)\n",
    "print(f\"Largest value of x for which `exp(x)` is valid: {largest_exp_x}\")\n",
    "\n",
    "# ii\n",
    "\n",
    "def logistic(x: np.float_) -> np.float_:\n",
    "    return (\n",
    "        1 / (\n",
    "            1 + np.exp(-x)\n",
    "        )\n",
    "    )\n",
    "\n",
    "def find_logistic_outputs_1() -> np.int_:\n",
    "    minn, maxx = 0, 1_000_000\n",
    "    target = np.ceil((minn/maxx)/2)\n",
    "    while(True):\n",
    "        if target == maxx:\n",
    "            return int(maxx)\n",
    "        result = logistic(target)\n",
    "        if np.equal(result, 1.0): # go down\n",
    "            maxx = target\n",
    "            target = np.ceil((minn+target)/2)\n",
    "            \n",
    "        else: # go up\n",
    "            minn = target\n",
    "            target = np.ceil((target+maxx)/2)\n",
    "\n",
    "smallest_logistic_x = find_logistic_outputs_1()\n",
    "assert not np.isinf(smallest_logistic_x)\n",
    "print(f\"Smallest value of x for which `logistic(x)`=1: {smallest_logistic_x}\")"
   ]
  },
  {
   "cell_type": "markdown",
   "metadata": {},
   "source": [
    "## 2. Numerical computation of binomial probabilities (4 pts)\n",
    "\n",
    "Write a computer program to compute sums of binomial probabilities:\n",
    "$$ f(l, u, n, p) = \\sum_{i=l}^u \\binom{n}{i} p^i (1-p)^{n-i}. $$\n",
    "Use it to compute:\n",
    "\n",
    "i. $ f(0, 5, 10, 0.25) = \\sum_{i=0}^{5} \\binom{10}{i} 0.25^i 0.75^{10-i} $\n",
    "\n",
    "ii. $ f(10, 20, 20, 0.25) = \\sum_{i=10}^{20} \\binom{20}{i} 0.25^i 0.75^{20-i} $\n",
    "\n",
    "iii. $ f(40, 60, 100, 0.25) = \\sum_{i=40}^{60} \\binom{100}{i} 0.25^i 0.75^{100-i} $\n",
    "\n",
    "iv. $ f(75, 100, 100, 0.25) = \\sum_{i=75}^{100} \\binom{100}{i} 0.25^i 0.75^{100-i} $\n",
    "\n",
    "*Hint*: Remember to use log probabilities and `logsumexp` as appropriate."
   ]
  },
  {
   "cell_type": "code",
   "execution_count": null,
   "metadata": {},
   "outputs": [
    {
     "ename": "",
     "evalue": "",
     "output_type": "error",
     "traceback": [
      "\u001b[1;31mRunning cells with 'computational-statistics-qlF0ErcH-py3.11' requires the ipykernel package.\n",
      "\u001b[1;31mRun the following command to install 'ipykernel' into the Python environment. \n",
      "\u001b[1;31mCommand: '/home/sjack/.cache/pypoetry/virtualenvs/computational-statistics-qlF0ErcH-py3.11/bin/python -m pip install ipykernel -U --force-reinstall'"
     ]
    }
   ],
   "source": [
    "\n",
    "def f(l, u, n, p):\n",
    "    l_u = np.arange(start=l, stop=u+1)\n",
    "\n",
    "    # compute the binom coeff\n",
    "    n_coeff = gammaln(n+1)\n",
    "    k_coeff = gammaln(l_u+1)\n",
    "    nk_coeff = gammaln(n-l_u+1)\n",
    "    log_binom_coeff = n_coeff - (k_coeff + nk_coeff)\n",
    "\n",
    "    # first term\n",
    "    _p = np.multiply(l_u, np.log(p))\n",
    "    eps = np.finfo(float).eps\n",
    "    # we need to add a small constant here or we'll end up doing np.log(0)\n",
    "    # I guess you could avoid this when doing the computation iteratively\n",
    "    # but I want to use vectorized operations\n",
    "    _p_prime = np.multiply(np.log(n-l_u+eps), np.log(1-p))\n",
    "\n",
    "    log_binom_pmf = log_binom_coeff + _p + _p_prime\n",
    "    m = np.max(log_binom_pmf)\n",
    "\n",
    "    # logsumexp and normalisation\n",
    "    return np.exp( log_binom_pmf - (m + np.log(np.sum(np.exp(log_binom_pmf-m))) ))\n",
    "\n",
    "res1 = f(0, 5, 10, 0.25)\n",
    "res2= f(10, 20, 20, 0.25)\n",
    "res3= f(40, 60, 100, 0.25)\n",
    "res4= f(75, 100, 100, 0.25)\n",
    "\n",
    "for res in [res1, res2, res3, res4]:\n",
    "    print(np.sum(res))\n"
   ]
  },
  {
   "cell_type": "markdown",
   "metadata": {},
   "source": [
    "## 3. Numerical evaluation of multivariate normal probabilities (4 pts)\n",
    "\n",
    "Consider the $d$-variate normal distribution $\\mathcal{N}(x;\\; \\mu, \\Sigma)$ with the log-probability density\n",
    "$$ \\ln p(x;\\; \\mu, \\Sigma) = -\\frac{d}{2} \\ln(2 \\pi) - \\frac{1}{2} \\ln |\\det \\Sigma| - \\frac{1}{2} (x - \\mu)^T \\Sigma^{-1} (x - \\mu). $$\n",
    "Let $\\mu = \\begin{pmatrix}0 \\\\ 0\\end{pmatrix}$, $\\Sigma = \\begin{pmatrix}2^2 & 2\\rho \\\\ 2\\rho & 1\\end{pmatrix}$.\n",
    "\n",
    "Evaluate the following log-probabilities:\n",
    "\n",
    "i. $ \\ln p( \\begin{pmatrix}0 \\\\ 0\\end{pmatrix} ; \\; \\mu, \\Sigma), $ when $\\rho = 0.8$\n",
    "\n",
    "ii. $ \\ln p( \\begin{pmatrix}0 \\\\ 0\\end{pmatrix} ; \\; \\mu, \\Sigma), $ when $\\rho = 0.999$\n",
    "\n",
    "iii. $ \\ln p( \\begin{pmatrix}1 \\\\ 1\\end{pmatrix} ; \\; \\mu, \\Sigma), $ when $\\rho = 0.999$\n",
    "\n",
    "iv. $ \\ln p( \\begin{pmatrix}1 \\\\ 1\\end{pmatrix} ; \\; \\mu, \\Sigma), $ when $\\rho = -0.999$\n",
    "\n",
    "*Note*: `ln` denotes the logarithm in natural base (for us it is the same as `log`, per our usual notational convention)."
   ]
  },
  {
   "cell_type": "code",
   "execution_count": null,
   "metadata": {
    "collapsed": true
   },
   "outputs": [
    {
     "ename": "",
     "evalue": "",
     "output_type": "error",
     "traceback": [
      "\u001b[1;31mRunning cells with 'computational-statistics-qlF0ErcH-py3.11' requires the ipykernel package.\n",
      "\u001b[1;31mRun the following command to install 'ipykernel' into the Python environment. \n",
      "\u001b[1;31mCommand: '/home/sjack/.cache/pypoetry/virtualenvs/computational-statistics-qlF0ErcH-py3.11/bin/python -m pip install ipykernel -U --force-reinstall'"
     ]
    }
   ],
   "source": [
    "mu = np.array([0,0])\n",
    "\n",
    "def multivariate(x: np.ndarray, mu: np.ndarray, p: float, d: int = 2):\n",
    "    sigma = np.array([[2**2, 2*p], [2*p, 1]])\n",
    "    l_sigma = cholesky(sigma, lower=True)\n",
    "    log_det = 2 * np.trace(\n",
    "        l_sigma\n",
    "    )\n",
    "    z = solve_triangular(l_sigma, x-mu, lower=True)\n",
    "    return(\n",
    "      (-d/2 * np.log(2*np.pi)) - (.5*log_det) - (.5*(z.T @ z))\n",
    "    )\n",
    "\n",
    "\n",
    "print(multivariate(x=np.array([0, 0]), mu=mu, p=0.8, d=2))\n",
    "print(multivariate(x=np.array([0, 0]), mu=mu, p=0.999, d=2))\n",
    "print(multivariate(x=np.array([1,1]), mu=mu, p=0.999, d=2))\n",
    "print(multivariate(x=np.array([1,1]), mu=mu, p=-0.999, d=2))"
   ]
  },
  {
   "cell_type": "markdown",
   "metadata": {},
   "source": [
    "## 4. Rejection sampling of Beta(2, 3) (4 pts)\n",
    "\n",
    "Write a program to draw samples from the $\\text{Beta(2, 3)}$ distribution\n",
    "$ p(x) = 12 x (1-x)^2, \\quad 0 \\le x \\le 1 $  \n",
    "using the uniform distribution on the interval $(0, 1)$ as the proposal distribution $q(x)$.\n",
    "\n",
    "Remember that you need to find a constant $M$ such that $p(x) \\le M q(x)$ for all $x$. Plotting the function $p(x)/q(x)$ is a good way to start looking for one.\n",
    "\n",
    "Plot a normed histogram of your samples together with the density to check that they match.\n",
    "\n",
    "Draw at least 10000 samples from the distribution and report your estimate of $ \\mathbb{E}[x^5] $ for $ x \\sim \\mathrm{Beta}(2, 3)$.\n",
    "\n",
    "*Note*: Please report the actual value you obtain to Moodle, not your guess of the true value. Values within the expected Monte Carlo error will be accepted as correct.\n",
    "\n",
    "*Hint for evaluating the expectation* $\\mathbb{E}[x^5]$: assuming we have samples $x_i \\sim p(x), i = 1, \\dots, n$ following the distribution $p(x)$, we can compute a simple Monte Carlo approximation of the expectation of an arbitrary function $g(x)$ as\n",
    "$$ \\mathbb{E}_p[g(x)] \\approx \\frac{1}{n} \\sum_{i=1}^n g(x_i), \\qquad \\text{ for } x_i \\sim p(x).$$"
   ]
  },
  {
   "cell_type": "code",
   "execution_count": null,
   "metadata": {
    "collapsed": true
   },
   "outputs": [
    {
     "ename": "",
     "evalue": "",
     "output_type": "error",
     "traceback": [
      "\u001b[1;31mRunning cells with 'computational-statistics-qlF0ErcH-py3.11' requires the ipykernel package.\n",
      "\u001b[1;31mRun the following command to install 'ipykernel' into the Python environment. \n",
      "\u001b[1;31mCommand: '/home/sjack/.cache/pypoetry/virtualenvs/computational-statistics-qlF0ErcH-py3.11/bin/python -m pip install ipykernel -U --force-reinstall'"
     ]
    }
   ],
   "source": [
    "def beta_2_3(x):\n",
    "    return 12*x * (1-x)**2\n",
    "\n",
    "# p(x) = 12x(1-x)**2\n",
    "# dp/dx = 12(3x**2 - 4x + 1)\n",
    "# Local maxima at 0\n",
    "# 0 = 12(3x-1)(x-1)\n",
    "# Roots at 1/3 or 1\n",
    "# Compute the beta at the maximum\n",
    "M = beta_2_3(1/3)\n",
    "M = round(M, 3)\n",
    "print(f\"M = {M}\")\n",
    "xarr = np.linspace(0, 1, 1000)\n",
    "fig, ax = plt.subplots()\n",
    "sns.lineplot(\n",
    "    x=xarr,\n",
    "    y=beta_2_3(xarr),\n",
    "    color='blue',\n",
    "    label='p(x)',\n",
    "    ax=ax,\n",
    ")\n",
    "sns.lineplot(\n",
    "    x=xarr,\n",
    "    y=np.repeat(1, 1000) * M,\n",
    "    color='orange',\n",
    "    label='Mq(x)',\n",
    "    ax=ax,\n",
    "\n",
    ")\n",
    "ax.set_title(\"Beta(2,3) and Mq(x)\")\n",
    "\n",
    "fig, ax = plt.subplots()\n",
    "sns.lineplot(\n",
    "    x=xarr,\n",
    "    y=beta_2_3(xarr) / (np.repeat(1, 1000) * M),\n",
    "    color='blue',\n",
    "    label='p(x)',\n",
    "    ax=ax,\n",
    ")\n",
    "ax.set_title(\"Beta(2,3) / Mq(x)\")"
   ]
  },
  {
   "cell_type": "code",
   "execution_count": null,
   "metadata": {},
   "outputs": [
    {
     "ename": "",
     "evalue": "",
     "output_type": "error",
     "traceback": [
      "\u001b[1;31mRunning cells with 'computational-statistics-qlF0ErcH-py3.11' requires the ipykernel package.\n",
      "\u001b[1;31mRun the following command to install 'ipykernel' into the Python environment. \n",
      "\u001b[1;31mCommand: '/home/sjack/.cache/pypoetry/virtualenvs/computational-statistics-qlF0ErcH-py3.11/bin/python -m pip install ipykernel -U --force-reinstall'"
     ]
    }
   ],
   "source": [
    "def rejection_sample_beta_2_3(n_draws: int = 100000) -> np.ndarray:\n",
    "\n",
    "    x_prop = rng.uniform(0, 1, n_draws)\n",
    "    u = rng.uniform(0, 1, n_draws)\n",
    "    accept_samples = u*M <= beta_2_3(x_prop)\n",
    "    print(f\"Acceptance rate: {np.sum(accept_samples)/n_draws}\")\n",
    "    return x_prop[accept_samples]\n",
    "\n",
    "accepted_samples = rejection_sample_beta_2_3(n_draws=100000)\n",
    "fix, ax = plt.subplots()\n",
    "sns.histplot(accepted_samples, ax=ax, stat='density', color='darkblue', label='Rejection sampling for p(x)')\n",
    "sns.lineplot(x=xarr, y=beta_2_3(xarr), ax=ax, color='orange', label='p(x)')\n"
   ]
  },
  {
   "cell_type": "code",
   "execution_count": null,
   "metadata": {},
   "outputs": [
    {
     "ename": "",
     "evalue": "",
     "output_type": "error",
     "traceback": [
      "\u001b[1;31mRunning cells with 'computational-statistics-qlF0ErcH-py3.11' requires the ipykernel package.\n",
      "\u001b[1;31mRun the following command to install 'ipykernel' into the Python environment. \n",
      "\u001b[1;31mCommand: '/home/sjack/.cache/pypoetry/virtualenvs/computational-statistics-qlF0ErcH-py3.11/bin/python -m pip install ipykernel -U --force-reinstall'"
     ]
    }
   ],
   "source": [
    "e_x_5 = np.mean(rejection_sample_beta_2_3(n_draws=100_000)**5)\n",
    "print(f\"E[X^5] = {e_x_5}\")"
   ]
  },
  {
   "cell_type": "markdown",
   "metadata": {},
   "source": [
    "## 5. Rejection sampling of a Gaussian with Laplace  (4 pts)\n",
    "\n",
    "Consider the standard $\\text{Laplace}(0, 1)$ distribution defined by:\n",
    "$$ q(x) = 1/2 \\exp(- | x | ),$$ \n",
    "and the standard normal distribution defined by\n",
    "$$p(x) = \\frac{1}{\\sqrt{2 \\pi}} \\exp\\left( - \\frac{1}{2} x^2 \\right).$$\n",
    "For both the Laplace and normal distribution, $x \\in (-\\infty, \\infty)$.\n",
    "\n",
    "1. Write a program to draw samples from the $\\text{Laplace}(0, 1)$ distribution. (*Hint*: transformation considered on Lecture 2.) Test your program by comparing the normed histogram of the samples with the density.\n",
    "2. Design a method to draw samples from the standard normal using the standard Laplace distribution as the proposal. (*Hint*: you need to find a constant $M$ such that $p(x) \\le M q(x)$ for all $x$. Plotting the function $p(x)/q(x)$ is again useful for looking for one.)\n",
    "3. Use 10000 samples to compute the expectation $ E[x^4] $ for $ x $ following the standard normal distribution.\n",
    "4. Assume the underlying uniform random generator uses full 53 bits of precision of `float64` and produces random numbers in the range $[2^{-53}, 1]$, that is the smallest number $u$ that can be generated is $2^{-53}$. Considering the same setup as above, what is the largest value the rejection sampling method can generate, if it were executed for long enough? \n",
    "\n",
    "Hints for part 5.4:\n",
    "- You need to check that the algorithm can both generate an extreme value, and accept it.\n",
    "- What's the equation for accepting a value in rejection sampling? In particular, the fact that $u$ cannot be smaller than $2^{-53}$ implies that there are some values of $x$ that you will never be able to accept. Figure out the maximum $x$ that you can accept!\n",
    "- You can use the same $M$ that you used in part 5.2 (as long as you chose a reasonable $M$, the answer will be valid)."
   ]
  },
  {
   "cell_type": "code",
   "execution_count": null,
   "metadata": {},
   "outputs": [
    {
     "ename": "",
     "evalue": "",
     "output_type": "error",
     "traceback": [
      "\u001b[1;31mRunning cells with 'computational-statistics-qlF0ErcH-py3.11' requires the ipykernel package.\n",
      "\u001b[1;31mRun the following command to install 'ipykernel' into the Python environment. \n",
      "\u001b[1;31mCommand: '/home/sjack/.cache/pypoetry/virtualenvs/computational-statistics-qlF0ErcH-py3.11/bin/python -m pip install ipykernel -U --force-reinstall'"
     ]
    }
   ],
   "source": [
    "def laplace_inv_cdf(x: np.ndarray, mu: float, b: float):\n",
    "    return mu - b * np.sign(x-0.5) * np.log(1 - 2*np.abs(x-0.5))\n",
    "\n",
    "def laplace_pdf(x: np.ndarray, mu: float, b: float):\n",
    "    return (1/(2*b)) * np.exp(-np.abs(x-mu)/b)\n",
    "\n",
    "def gaussian_pdf(x: np.ndarray, mu: float, sigma: float):\n",
    "    return (1/(sigma*np.sqrt(2*np.pi))) * np.exp(-((x-mu)**2)/(2*sigma**2))\n",
    "\n",
    "def draw_uniform_samples(a: float, b: float, n_draws: int = 10000) -> np.ndarray:\n",
    "    return rng.uniform(a, b, n_draws)\n",
    "\n",
    "\n",
    "def laplace_inv_cdf_samples(n_draws: int = 10000, mu: float = 0, b: float = 1) -> np.ndarray:\n",
    "    samples = laplace_inv_cdf(\n",
    "        draw_uniform_samples(0, 1, n_draws=n_draws),\n",
    "        mu=mu,\n",
    "        b=b\n",
    "    )\n",
    "    return samples\n"
   ]
  },
  {
   "cell_type": "code",
   "execution_count": null,
   "metadata": {},
   "outputs": [
    {
     "ename": "",
     "evalue": "",
     "output_type": "error",
     "traceback": [
      "\u001b[1;31mRunning cells with 'computational-statistics-qlF0ErcH-py3.11' requires the ipykernel package.\n",
      "\u001b[1;31mRun the following command to install 'ipykernel' into the Python environment. \n",
      "\u001b[1;31mCommand: '/home/sjack/.cache/pypoetry/virtualenvs/computational-statistics-qlF0ErcH-py3.11/bin/python -m pip install ipykernel -U --force-reinstall'"
     ]
    }
   ],
   "source": [
    "fig, ax = plt.subplots()\n",
    "sns.histplot(\n",
    "    laplace_inv_cdf_samples(n_draws=10000, mu=0, b=1), ax=ax,\n",
    "    color='darkblue',\n",
    "    stat='density',\n",
    ")\n",
    "sns.lineplot(\n",
    "    x=np.linspace(-5, 5, 10000),\n",
    "    y=laplace_pdf(np.linspace(-5, 5, 10000), mu=0, b=1),\n",
    "    ax=ax,\n",
    "    color='orange'\n",
    ")\n",
    "ax.set_title(\"Laplace(0,1) distribution from uniform distribution inverse CDF\")"
   ]
  },
  {
   "cell_type": "code",
   "execution_count": null,
   "metadata": {},
   "outputs": [
    {
     "ename": "",
     "evalue": "",
     "output_type": "error",
     "traceback": [
      "\u001b[1;31mRunning cells with 'computational-statistics-qlF0ErcH-py3.11' requires the ipykernel package.\n",
      "\u001b[1;31mRun the following command to install 'ipykernel' into the Python environment. \n",
      "\u001b[1;31mCommand: '/home/sjack/.cache/pypoetry/virtualenvs/computational-statistics-qlF0ErcH-py3.11/bin/python -m pip install ipykernel -U --force-reinstall'"
     ]
    }
   ],
   "source": [
    "\n",
    "xarr_2 = np.linspace(-5, 5, 10000)\n",
    "fig, ax = plt.subplots()\n",
    "sns.lineplot(\n",
    "    x=xarr_2,\n",
    "    y=laplace_pdf(xarr_2, mu=0, b=1),\n",
    "    ax=ax,\n",
    "    color='darkblue',\n",
    "    label='g(x)'\n",
    ")\n",
    "sns.lineplot(\n",
    "    x=xarr_2,\n",
    "    y=gaussian_pdf(xarr_2, mu=0, sigma=1),\n",
    "    ax=ax,\n",
    "    color='orange',\n",
    "    label='f(x)'\n",
    ")\n",
    "sns.lineplot(\n",
    "    x=xarr_2,\n",
    "    y=laplace_pdf(xarr_2, mu=0, b=1) * 1.3333,\n",
    "    ax=ax,\n",
    "    color='green',\n",
    "    label='g(x) * 1.3333'\n",
    ")\n",
    "ax.legend()\n",
    "ax.set_title(\"Laplace(0,1), and Gaussian(0,1) distributions. Proposal distribution scaled by 1.3333\")"
   ]
  },
  {
   "cell_type": "code",
   "execution_count": null,
   "metadata": {},
   "outputs": [
    {
     "ename": "",
     "evalue": "",
     "output_type": "error",
     "traceback": [
      "\u001b[1;31mRunning cells with 'computational-statistics-qlF0ErcH-py3.11' requires the ipykernel package.\n",
      "\u001b[1;31mRun the following command to install 'ipykernel' into the Python environment. \n",
      "\u001b[1;31mCommand: '/home/sjack/.cache/pypoetry/virtualenvs/computational-statistics-qlF0ErcH-py3.11/bin/python -m pip install ipykernel -U --force-reinstall'"
     ]
    }
   ],
   "source": [
    "# finding M for gaussian(0, 1) and laplace(0, 1)\n",
    "M=1.3333\n",
    "fig, ax = plt.subplots()\n",
    "sns.lineplot(\n",
    "    x=np.linspace(-5, 5, 10000),\n",
    "    y=gaussian_pdf(np.linspace(-5, 5, 10000), mu=0, sigma=1) / (M *  laplace_pdf(np.linspace(-5, 5, 10000), mu=0, b=1)),\n",
    "    ax=ax,\n",
    "    color='orange'\n",
    ")\n",
    "ax.title.set_text('f(x)/g(x) when M=1.3333')"
   ]
  },
  {
   "cell_type": "code",
   "execution_count": null,
   "metadata": {},
   "outputs": [
    {
     "ename": "",
     "evalue": "",
     "output_type": "error",
     "traceback": [
      "\u001b[1;31mRunning cells with 'computational-statistics-qlF0ErcH-py3.11' requires the ipykernel package.\n",
      "\u001b[1;31mRun the following command to install 'ipykernel' into the Python environment. \n",
      "\u001b[1;31mCommand: '/home/sjack/.cache/pypoetry/virtualenvs/computational-statistics-qlF0ErcH-py3.11/bin/python -m pip install ipykernel -U --force-reinstall'"
     ]
    }
   ],
   "source": [
    "# do rejection sampling of gaussian\n",
    "def rejection_sample_gaussian(n_draws: int = 100000, mu: float = 0, sigma: float = 1, b: float = 1, M: float = 1.3333) -> np.ndarray:\n",
    "    x_proposal = laplace_inv_cdf_samples(n_draws=n_draws, mu=mu, b=b)\n",
    "    u = draw_uniform_samples(0, 1, n_draws=n_draws)\n",
    "    accept = (u * M * laplace_pdf(x_proposal, mu=mu, b=b)) <= gaussian_pdf(x_proposal, mu=mu, sigma=sigma)\n",
    "    print(f\"Acceptance rate: {accept.mean()}\")\n",
    "    return x_proposal[accept]\n",
    "\n",
    "fig, ax = plt.subplots()\n",
    "sns.histplot(\n",
    "    rejection_sample_gaussian(n_draws=100000, mu=0, sigma=1, M=1.3333), ax=ax,\n",
    "    color='darkblue',\n",
    "    stat='density',\n",
    ")\n",
    "sns.lineplot(\n",
    "    x=np.linspace(-5, 5, 10000),\n",
    "    y=gaussian_pdf(np.linspace(-5, 5, 10000), mu=0, sigma=1),\n",
    "    ax=ax,\n",
    "    color='orange'\n",
    ")"
   ]
  },
  {
   "cell_type": "code",
   "execution_count": null,
   "metadata": {},
   "outputs": [
    {
     "ename": "",
     "evalue": "",
     "output_type": "error",
     "traceback": [
      "\u001b[1;31mRunning cells with 'computational-statistics-qlF0ErcH-py3.11' requires the ipykernel package.\n",
      "\u001b[1;31mRun the following command to install 'ipykernel' into the Python environment. \n",
      "\u001b[1;31mCommand: '/home/sjack/.cache/pypoetry/virtualenvs/computational-statistics-qlF0ErcH-py3.11/bin/python -m pip install ipykernel -U --force-reinstall'"
     ]
    }
   ],
   "source": [
    "print(f\"Expectation of E[X^5] = {np.mean(rejection_sample_gaussian(n_draws=100000, mu=0, sigma=1, M=1.3333)**5)}\")"
   ]
  },
  {
   "cell_type": "code",
   "execution_count": null,
   "metadata": {},
   "outputs": [
    {
     "ename": "",
     "evalue": "",
     "output_type": "error",
     "traceback": [
      "\u001b[1;31mRunning cells with 'computational-statistics-qlF0ErcH-py3.11' requires the ipykernel package.\n",
      "\u001b[1;31mRun the following command to install 'ipykernel' into the Python environment. \n",
      "\u001b[1;31mCommand: '/home/sjack/.cache/pypoetry/virtualenvs/computational-statistics-qlF0ErcH-py3.11/bin/python -m pip install ipykernel -U --force-reinstall'"
     ]
    }
   ],
   "source": [
    "# finding the most extreme sample\n",
    "\n",
    "# Part 1, finding the most extreme sample from Laplace(0,1)\n",
    "import scipy\n",
    "\n",
    "\n",
    "M = 1.3333\n",
    "converged = False\n",
    "laplace_epsilon = 1e-10\n",
    "max_laplace_x = 0\n",
    "while not converged:\n",
    "    x = np.array([1])\n",
    "    laplace_draw = laplace_inv_cdf(x-laplace_epsilon, mu=0, b=1)\n",
    "    if np.isinf(laplace_draw):\n",
    "        if max_laplace_x!= 0:\n",
    "            converged = True\n",
    "            print(f\"max_laplace_x converged to {max_laplace_x}\")\n",
    "            break\n",
    "        laplace_epsilon = laplace_epsilon * 2\n",
    "    else:\n",
    "        max_laplace_x = laplace_draw\n",
    "        u = x - laplace_epsilon\n",
    "        laplace_epsilon = laplace_epsilon / 2\n",
    "\n",
    "# Part 2, finding the most extreme sample from Gaussian(0,1)\n",
    "converged = False\n",
    "gaussian_epsilon = 1e-10\n",
    "max_gaussian_x = 0\n",
    "gaussian_ = scipy.stats.norm(0, 1)\n",
    "while not converged:\n",
    "    x = np.array([1])\n",
    "    gaussian_draw = gaussian_.ppf(x-gaussian_epsilon)\n",
    "    if np.isinf(gaussian_draw):\n",
    "        if max_gaussian_x!= 0:\n",
    "            converged = True\n",
    "            print(f\"max_gaussian converged to {max_gaussian_x}\")\n",
    "            break\n",
    "        gaussian_epsilon = gaussian_epsilon * 2\n",
    "    else:\n",
    "        max_gaussian_x = gaussian_draw\n",
    "        u = x - gaussian_epsilon\n",
    "        gaussian_epsilon = gaussian_epsilon / 2\n",
    "\n",
    "# Most extreme sample is the one with the largest absolute value\n",
    "accepted = np.log(1) + np.log(M) + np.log(laplace_pdf(max_laplace_x, mu=0, b=1)) <= np.log(gaussian_pdf(max_gaussian_x, mu=0, sigma=1))\n",
    "\n",
    "print(f\"Most extreme sample that can be generated and accepted with float64 is {max_laplace_x}\")"
   ]
  },
  {
   "cell_type": "code",
   "execution_count": null,
   "metadata": {},
   "outputs": [
    {
     "ename": "",
     "evalue": "",
     "output_type": "error",
     "traceback": [
      "\u001b[1;31mRunning cells with 'computational-statistics-qlF0ErcH-py3.11' requires the ipykernel package.\n",
      "\u001b[1;31mRun the following command to install 'ipykernel' into the Python environment. \n",
      "\u001b[1;31mCommand: '/home/sjack/.cache/pypoetry/virtualenvs/computational-statistics-qlF0ErcH-py3.11/bin/python -m pip install ipykernel -U --force-reinstall'"
     ]
    }
   ],
   "source": []
  }
 ],
 "metadata": {
  "kernelspec": {
   "display_name": "computational-statistics-qlF0ErcH-py3.11",
   "language": "python",
   "name": "python3"
  },
  "language_info": {
   "codemirror_mode": {
    "name": "ipython",
    "version": 3
   },
   "file_extension": ".py",
   "mimetype": "text/x-python",
   "name": "python",
   "nbconvert_exporter": "python",
   "pygments_lexer": "ipython3",
   "version": "3.11.5"
  },
  "vscode": {
   "interpreter": {
    "hash": "53d6570113b994f255c5776c8cfb3ba753c6be772e819a2f7ee89343d6cab335"
   }
  }
 },
 "nbformat": 4,
 "nbformat_minor": 1
}
