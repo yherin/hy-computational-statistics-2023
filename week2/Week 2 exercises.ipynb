{
 "cells": [
  {
   "cell_type": "markdown",
   "metadata": {},
   "source": [
    "University of Helsinki, Master's Programme in Mathematics and Statistics  \n",
    "MAST32001 Computational Statistics, Autumn 2023  \n",
    "Luigi Acerbi  \n",
    "\n",
    "# Week 2 exercises"
   ]
  },
  {
   "cell_type": "markdown",
   "metadata": {},
   "source": [
    "## 1. Permutation testing (6 pts)\n",
    "\n",
    "We will use permutation testing to study if the mother's age (`age`) affects the birth weight (`bwt`) of their babies. We will use the absolute difference in the means as the test statistic. We will focus the analysis on full term pregnancies (`gestation >= 273`).\n",
    "\n",
    "*Note*: When reporting a $p$-value for $b$ more extreme tests out of $m$, use $p = (b+1)/(m+1)$ to avoid zero p-values. 50000 permutations will be sufficient for obtaining the required accuracy.\n",
    "\n",
    "1. Load the data set below. Test whether the birth weights (`bwt`) of babies with young (`age < 26`) and older (`age >= 26`) mothers are statistically significantly different using the difference of the means as the test statistic. Report the $p$-value you obtain in Moodle.\n",
    "2. Stratify the analysis by the variable smoking status of the mothers by splitting to separate smoker (`smoke = 0`) and non-smoker (`smoke = 1`) groups. Constrain the permutations so that only changes within each group are allowed. After the permutation, merge the two groups back together to compute the means. Report the $p$-value you obtain in Moodle."
   ]
  },
  {
   "cell_type": "code",
   "execution_count": 2,
   "metadata": {},
   "outputs": [],
   "source": [
    "import pandas as pd\n",
    "import numpy as np\n",
    "from typing import Callable\n",
    "\n",
    "rng = np.random.default_rng(42)\n",
    "# Load the data set\n",
    "babies_full = pd.read_csv(\"https://raw.githubusercontent.com/lacerbi/compstats-files/main/data/babies2.txt\", sep='\\t')\n",
    "\n",
    "# Pick a subset\n",
    "babies1: pd.DataFrame = babies_full.iloc[(babies_full['gestation']>=273).values]\n"
   ]
  },
  {
   "cell_type": "code",
   "execution_count": 3,
   "metadata": {},
   "outputs": [],
   "source": [
    "def shuffle(x1, x2):\n",
    "    \"\"\"Return a random reshuffling of elements in two arrays.\"\"\"\n",
    "    n1 = len(x1)\n",
    "    z = rng.permutation(np.concatenate((x1, x2)))\n",
    "    return z[0:n1], z[n1:]\n",
    "\n",
    "def permutation_test(x1: np.ndarray, x2: np.ndarray, n_perm: int = 50000) -> float:\n",
    "    population_diff = np.abs(np.mean(x1) - np.mean(x2))\n",
    "    permutation_diff = np.zeros(n_perm)\n",
    "    for i in range(n_perm):\n",
    "        z1, z2 = shuffle(x1, x2)\n",
    "        permutation_diff[i] = np.abs(np.mean(z1) - np.mean(z2))\n",
    "    return (np.sum(population_diff <= permutation_diff) + 1) / (n_perm + 1)\n",
    "\n",
    "\n",
    "def stratified_permutation_test(x1a: np.ndarray, x2a: np.ndarray, x1b: np.ndarray, x2b: np.ndarray, n_perm: int = 50000) -> float:\n",
    "    permutation_diff = np.zeros(n_perm)\n",
    "    population_diff = np.abs(np.concatenate((x1a, x1b)).mean() - np.concatenate((x2a, x2b)).mean())\n",
    "    for i in range(n_perm):\n",
    "        z1a, z2a = shuffle(x1a, x2a) # mix of older and young mothers who smoke\n",
    "        z1b, z2b = shuffle(x1b, x2b) # mix of older and young mothers who don't smoke\n",
    "        z1 = np.concatenate((z1a, z1b))\n",
    "        z2 = np.concatenate((z2a, z2b))\n",
    "        permutation_diff[i] = np.abs(z1.mean() - z2.mean())\n",
    "    return (np.sum(population_diff <= permutation_diff) + 1) / (n_perm + 1)\n",
    "\n"
   ]
  },
  {
   "cell_type": "code",
   "execution_count": 4,
   "metadata": {},
   "outputs": [
    {
     "name": "stdout",
     "output_type": "stream",
     "text": [
      "Does the age of the mother affect the birth weight of the baby? p-value: 0.07335853282934342\n"
     ]
    }
   ],
   "source": [
    "young_mothers_bwt = babies1.query('age < 26')['bwt'].values\n",
    "older_mothers_bwt = babies1.query('age >= 26')['bwt'].values\n",
    "print(\"Does the age of the mother affect the birth weight of the baby? p-value:\", permutation_test(young_mothers_bwt, older_mothers_bwt))"
   ]
  },
  {
   "cell_type": "code",
   "execution_count": 5,
   "metadata": {},
   "outputs": [
    {
     "name": "stdout",
     "output_type": "stream",
     "text": [
      "Does the age of the mother affect the birth weight of the baby, controlled by smoking? stratified p-value: 0.07933841323173536\n"
     ]
    }
   ],
   "source": [
    "young_mothers_smokers_bwt = babies1.query('age < 26 and smoke == 1')['bwt'].values\n",
    "older_mothers_smokers_bwt = babies1.query('age >= 26 and smoke == 1')['bwt'].values\n",
    "young_mothers_non_smokers_bwt = babies1.query('age < 26 and smoke == 0')['bwt'].values\n",
    "older_mothers_non_smokers_bwt = babies1.query('age >= 26 and smoke == 0')['bwt'].values\n",
    "\n",
    "print(\"Does the age of the mother affect the birth weight of the baby, controlled by smoking? stratified p-value:\", \n",
    "    stratified_permutation_test(young_mothers_smokers_bwt, older_mothers_smokers_bwt, young_mothers_non_smokers_bwt, older_mothers_non_smokers_bwt)\n",
    "    )"
   ]
  },
  {
   "cell_type": "markdown",
   "metadata": {},
   "source": [
    "## 2. Bootstrap confidence intervals on data statistics (4 pts)\n",
    "\n",
    "In this exercise we use bootstrap to estimate confidence intervals for various quantities. (Using 1000 bootstrap samples will give you enough accuracy assuming everything is correctly done.)\n",
    "\n",
    "1. Use bootstrap to estimate the central 95% confidence interval for the mean of `bwt` in the *full* data set loaded in Problem 1. Report the lower and upper ends of the interval in Moodle.\n",
    "2. Use bootstrap to estimate the central 95% confidence interval for the mean of `bwt` in the smaller subset (`gestation >= 273`) of the data set used in Problem 1. Report the lower and upper ends of the interval in Moodle.\n",
    "3. Use bootstrap to estimate the central 95% confidence interval for the correlation coefficient of `gestation` and `age` in the full data set loaded in Problem 1. What does this tell about the relation between the duration of the pregnancy and the age of the mother? Report the bounds of the interval in Moodle.\n",
    "4. Use bootstrap to estimate the central 95% confidence interval for the correlation coefficient of `gestation` and `age` in the smaller subset (`gestation >= 273`) used in Problem 1. What does this tell about the relation between the duration of the pregnancy and the age of the mother? Report the bounds of the interval in Moodle.\n",
    "\n",
    "*Hint*: Remember that the size of the bootstrap sample is always the same as the size of the original data set."
   ]
  },
  {
   "cell_type": "code",
   "execution_count": 71,
   "metadata": {},
   "outputs": [
    {
     "name": "stdout",
     "output_type": "stream",
     "text": [
      "95% CI for the mean birth weight of all mothers: [118.42689685 120.50419864]\n",
      "95% CI for the mean birth weight of term mothers: [122.46066092 124.56014368]\n",
      "95% CI for the correlation coefficient between age and gestation: [-0.10477816  0.00422615]\n",
      "95% CI for the correlation coefficient between age and gestation: [-0.09040178  0.03347546]\n"
     ]
    }
   ],
   "source": [
    "n_bootstrap_samples = 1_000\n",
    "\n",
    "#2.1\n",
    "birth_weights_all = babies_full['bwt'].to_numpy()\n",
    "birth_weights_full_bootstrapped_means = rng.choice(birth_weights_all, size=(n_bootstrap_samples, len(birth_weights_all)), replace=True).mean(axis=1)\n",
    "birth_weights_full_mean_ci = np.quantile(birth_weights_full_bootstrapped_means, [0.025, 0.975])\n",
    "print(f\"95% CI for the mean birth weight of all mothers: {birth_weights_full_mean_ci}\")\n",
    "\n",
    "#2.2\n",
    "birth_weights_full_term = babies1['bwt'].to_numpy()\n",
    "birth_weights_full_term_bootstrapped_means = rng.choice(birth_weights_full_term, size=(n_bootstrap_samples, len(birth_weights_full_term)), replace=True).mean(axis=1)\n",
    "birth_weights_full_term_mean_ci = np.quantile(birth_weights_full_term_bootstrapped_means, [0.025, 0.975])\n",
    "print(f\"95% CI for the mean birth weight of term mothers: {birth_weights_full_term_mean_ci}\")\n",
    "\n",
    "#2.3\n",
    "corrcoef_bootstraps = np.zeros(n_bootstrap_samples)\n",
    "age_ = babies_full['age'].to_numpy()\n",
    "gestation_ = babies_full['gestation'].to_numpy()\n",
    "assert len(age_) == len(gestation_)\n",
    "n = len(age_)\n",
    "for i in range(n_bootstrap_samples):\n",
    "    indices = rng.choice(n, n, replace=True)\n",
    "    corrcoef_bootstraps[i] = np.corrcoef(age_[indices], gestation_[indices])[0, 1]\n",
    "print(f\"95% CI for the correlation coefficient between age and gestation: {np.quantile(corrcoef_bootstraps, [0.025, 0.975])}\")\n",
    "\n",
    "#2.4\n",
    "corrcoef_bootstraps = np.zeros(n_bootstrap_samples)\n",
    "age_ = babies1['age'].to_numpy()\n",
    "gestation_ = babies1['gestation'].to_numpy()\n",
    "assert len(age_) == len(gestation_)\n",
    "n = len(age_)\n",
    "for i in range(n_bootstrap_samples):\n",
    "    indices = rng.choice(n, n, replace=True)\n",
    "    corrcoef_bootstraps[i] = np.corrcoef(age_[indices], gestation_[indices])[0, 1]\n",
    "print(f\"95% CI for the correlation coefficient between age and gestation: {np.quantile(corrcoef_bootstraps, [0.025, 0.975])}\")\n"
   ]
  },
  {
   "cell_type": "markdown",
   "metadata": {},
   "source": [
    "## 3. Bootstrap confidence intervals on parameter estimates (4 pts)\n",
    "\n",
    "In this task, we will use bootstrap to obtain confidence intervals on maximum likelihood parameter estimates for linear regression models. We will apply simple case resampling, i.e. resampling the individuals and then fitting the model using the data $(x_i, y_i)$ from these individuals. There are alternative methods that may work better when the data are limited, but in our case there are enough observations so that this will not be a problem. 1000 bootstrap samples will again give you enough accuracy.\n",
    "\n",
    "A linear regression fit to scalar $x_i, y_i$ involves fitting the model\n",
    "$$ y_i = \\alpha + \\beta x_i + \\epsilon_i, $$\n",
    "where $\\beta$ is the regression coefficient and $\\alpha$ is the intercept. Assuming $\\epsilon_i \\sim N(0, \\sigma^2)$, the log-likelihood of the model is\n",
    "$$ \\log p(Y | X, \\alpha, \\beta) = \\sum_{i=1}^n \\log p(y_i | x_i, \\alpha, \\beta)\n",
    "  = \\sum_{i=1}^n - \\frac{1}{2 \\sigma^2} (y_i - \\alpha - \\beta x_i)^2 + C, $$\n",
    "where $C$ is independent of $\\alpha, \\beta$. This is maximised when\n",
    "$$ \\hat{\\beta}= \\frac{\\sum_{i = 1}^n (x_i - \\bar{x})(y_i - \\bar{y}) }{ \\sum_{i = 1}^n (x_i - \\bar{x})^2} \\\\\n",
    "   \\hat{\\alpha} = \\bar{y} - \\hat{\\beta} \\bar{x},$$\n",
    "where $\\bar{x} = \\frac{1}{n} \\sum_{i = 1}^n x_i$ and $\\bar{y} = \\frac{1}{n} \\sum_{i = 1}^n y_i$.\n",
    "\n",
    "1. Implement the above linear regression model to predict `gestation` ($y$) as a function of `age` ($x$) in the full data set. Report the estimated $\\beta$ in Moodle.\n",
    "2. Use bootstrap to estimate the confidence interval of the regression coefficient $\\beta$ in the above model by resampling the individuals used to fit the model. Report the lower and upper bounds of the central 95% confidence interval of $\\beta$ in Moodle.\n"
   ]
  },
  {
   "cell_type": "code",
   "execution_count": 7,
   "metadata": {},
   "outputs": [
    {
     "name": "stdout",
     "output_type": "stream",
     "text": [
      "gestation = 283.12 + -0.15 * age\n",
      "Beta: -0.14772779151120377\n",
      "95% CI for beta: [-0.29008701 -0.00520346]\n"
     ]
    }
   ],
   "source": [
    "import pandas as pd\n",
    "import numpy as np\n",
    "import numpy.random as npr\n",
    "\n",
    "# Load the data set\n",
    "babies_full = pd.read_csv(\"https://raw.githubusercontent.com/lacerbi/compstats-files/main/data/babies2.txt\", sep='\\t')\n",
    "\n",
    "babies3 = babies_full\n",
    "\n",
    "age_array = babies3['age'].to_numpy()\n",
    "gestation_array = babies3['gestation'].to_numpy()\n",
    "\n",
    "beta_hat = np.sum((age_array - age_array.mean()) * (gestation_array - gestation_array.mean())) / np.sum((age_array - age_array.mean())**2)\n",
    "alpha_hat = gestation_array.mean() - beta_hat * age_array.mean()\n",
    "print(f\"gestation = {alpha_hat:.2f} + {beta_hat:.2f} * age\")\n",
    "print(f\"Beta: {beta_hat}\")\n",
    "\n",
    "def solve_beta_alpha(x: np.ndarray, y: np.ndarray) -> tuple[float, float]:\n",
    "    beta_hat = np.sum((x - x.mean()) * (y - y.mean())) / np.sum((x - x.mean())**2)\n",
    "    alpha_hat = y.mean() - beta_hat * x.mean()\n",
    "    return beta_hat, alpha_hat\n",
    "\n",
    "def bootstrap_beta(x: np.ndarray, y: np.ndarray, n_bootstraps: int) -> np.ndarray:\n",
    "    bootstrap_samples = np.zeros(n_bootstraps)\n",
    "    l = len(x)\n",
    "    assert len(x) == len(y)\n",
    "    for i in range(n_bootstraps):\n",
    "        indices = npr.choice(l, size=l, replace=True)\n",
    "        x_ = x[indices]\n",
    "        y_ = y[indices]\n",
    "        beta_hat, alpha_hat = solve_beta_alpha(x_, y_)\n",
    "        bootstrap_samples[i] = beta_hat\n",
    "    return bootstrap_samples\n",
    "\n",
    "bootstrapped_beta = bootstrap_beta(age_array, gestation_array, 1000)\n",
    "print(f\"95% CI for beta: {np.quantile(bootstrapped_beta, [0.025, 0.975])}\")    \n"
   ]
  },
  {
   "cell_type": "markdown",
   "metadata": {},
   "source": [
    "## 4. Density estimation (6 pts)\n",
    "\n",
    "1. Estimate the joint density of `bwt` and `age` in the full data set using kernel density estimation with a 2-dimensional Gaussian kernel\n",
    "$$ K(\\mathbf{x}) = \\frac{1}{2\\pi} \\exp\\left( - \\frac{\\|\\mathbf{x}\\|^2}{2} \\right)\n",
    " = \\frac{1}{2\\pi} \\exp\\left( - \\frac{x_1^2 + x_2^2}{2} \\right) $$\n",
    "using bandwidth $h=5$. Report the value of the estimated density at point `bwt=110`, `age=31` in Moodle.\n",
    "\n",
    "*Hint*: you can verify your results by ploting a 2D histogram of the data (`matplotlib.pyplot.hist2d`) and a contour plot of the estimated density (see e.g. Sec. 5.1.1 in Course notes for a contour plot example).\n",
    "\n",
    "2. With the Gaussian kernel above, use leave-one-out (LOO) cross validation to find the optimal $h$ in the range `np.linspace(1.0, 5.0, 50)`. The optimal $h$ maximizes the LOO log-likelihood. Report the value of $h$ and the value of the estimated density at `bwt=110`, `age=31` in Moodle.\n",
    "\n",
    "3. Use $k$-fold cross validation with $k=17$ to find the optimal $h$ in the range `np.linspace(1.0, 5.0, 50)`. Report the value of $h$ and the value of the estimated density at `bwt=110`, `age=31` in Moodle. For this exercise, the sample point indices for the $k$ partitions of the data should consist of consecutive indices, e.g. the first partition should be the data with indices `0:69` and so on. (In practical applications it is generally good practice to randomly permute the indices as well when creating partitions, but don't do it for this exercise.)"
   ]
  },
  {
   "cell_type": "code",
   "execution_count": 88,
   "metadata": {},
   "outputs": [],
   "source": [
    "def two_dimensional_gaussian_kernel(x1: np.ndarray, x2: np.ndarray) -> np.ndarray:\n",
    "    xterm = x1**2 + x2**2\n",
    "    return np.exp(-xterm / 2) / (2 * np.pi)\n",
    "\n",
    "def kde_two_dimensional(x1: np.ndarray, x2: np.ndarray, x1_range: np.ndarray, x2_range: np.ndarray, h: float) -> np.ndarray:\n",
    "    n = len(x1)\n",
    "    if x1_range is not None and x2_range is not None:\n",
    "        kde = np.zeros((len(x1_range), len(x2_range)))\n",
    "        for i in range(kde.shape[0]):\n",
    "            for j in range(kde.shape[1]):\n",
    "                kde[i, j] = np.sum(two_dimensional_gaussian_kernel((x1_range[i] - x1) / h, (x2_range[j] - x2) / h)) / (n * h**2)\n",
    "        return kde\n",
    "    else:\n",
    "        k = np.zeros(n)\n",
    "        for i in range(n):\n",
    "            k[i] = np.sum(two_dimensional_gaussian_kernel((x1[i] - x1) / h, (x2[i] - x2) / h)) / (n * h**2)\n",
    "        return k\n",
    "\n",
    "age_array = babies_full['age'].to_numpy()\n",
    "bwt_array = babies_full['bwt'].to_numpy()\n",
    "\n",
    "age_range = np.arange(15, 51)\n",
    "bwt_range = np.arange(60, 180)\n",
    "\n",
    "result = kde_two_dimensional(age_array, bwt_array, age_range ,bwt_range, 3)"
   ]
  },
  {
   "cell_type": "code",
   "execution_count": 89,
   "metadata": {},
   "outputs": [
    {
     "data": {
      "text/plain": [
       "176"
      ]
     },
     "execution_count": 89,
     "metadata": {},
     "output_type": "execute_result"
    }
   ],
   "source": [
    "bwt_array.max()"
   ]
  },
  {
   "cell_type": "code",
   "execution_count": 90,
   "metadata": {},
   "outputs": [
    {
     "data": {
      "text/plain": [
       "(array([[ 0.,  0.,  0.,  0.,  1.,  4.,  1.,  2.,  0.,  0.],\n",
       "        [ 0.,  1., 10., 17., 27., 29., 24.,  8.,  3.,  2.],\n",
       "        [ 0.,  3.,  8., 27., 53., 82., 39., 18.,  1.,  1.],\n",
       "        [ 3.,  3., 12., 30., 54., 59., 54., 17.,  6.,  2.],\n",
       "        [ 0.,  2.,  7., 23., 42., 58., 43., 20.,  9.,  1.],\n",
       "        [ 1.,  4.,  6., 17., 24., 35., 34., 11.,  4.,  2.],\n",
       "        [ 2.,  1.,  4., 14., 17., 28., 19.,  9.,  7.,  1.],\n",
       "        [ 0.,  4.,  3.,  7., 16., 16., 12.,  6.,  3.,  1.],\n",
       "        [ 0.,  2.,  2.,  6., 10.,  9.,  9.,  6.,  2.,  1.],\n",
       "        [ 0.,  0.,  0.,  1.,  2.,  5.,  2.,  1.,  1.,  0.]]),\n",
       " array([15., 18., 21., 24., 27., 30., 33., 36., 39., 42., 45.]),\n",
       " array([ 55. ,  67.1,  79.2,  91.3, 103.4, 115.5, 127.6, 139.7, 151.8,\n",
       "        163.9, 176. ]),\n",
       " <matplotlib.collections.QuadMesh at 0x7f9e15008fd0>)"
      ]
     },
     "execution_count": 90,
     "metadata": {},
     "output_type": "execute_result"
    },
    {
     "data": {
      "image/png": "[encoded data removed]",
      "text/plain": [
       "<Figure size 640x480 with 1 Axes>"
      ]
     },
     "metadata": {},
     "output_type": "display_data"
    }
   ],
   "source": [
    "from matplotlib import pyplot as plt\n",
    "plt.hist2d(age_array, bwt_array)\n"
   ]
  },
  {
   "cell_type": "code",
   "execution_count": 91,
   "metadata": {},
   "outputs": [
    {
     "name": "stderr",
     "output_type": "stream",
     "text": [
      "/tmp/ipykernel_42410/1043664678.py:3: UserWarning: The following kwargs were not used by contour: 'xunits', 'yunits'\n",
      "  plt.contourf(result.T, cmap='Blues', xunits=xticks, yunits=yticks)\n"
     ]
    },
    {
     "data": {
      "text/plain": [
       "<matplotlib.contour.QuadContourSet at 0x7f9e14d39f50>"
      ]
     },
     "execution_count": 91,
     "metadata": {},
     "output_type": "execute_result"
    },
    {
     "data": {
      "image/png": "[encoded data removed]",
      "text/plain": [
       "<Figure size 640x480 with 1 Axes>"
      ]
     },
     "metadata": {},
     "output_type": "display_data"
    }
   ],
   "source": [
    "xticks = np.arange(15, 51, 5)\n",
    "yticks = np.arange(60, 180, 10)\n",
    "plt.contourf(result.T, cmap='Blues', xunits=xticks, yunits=yticks)"
   ]
  },
  {
   "cell_type": "code",
   "execution_count": 92,
   "metadata": {},
   "outputs": [
    {
     "data": {
      "text/plain": [
       "0.0007101226311425995"
      ]
     },
     "execution_count": 92,
     "metadata": {},
     "output_type": "execute_result"
    }
   ],
   "source": [
    "kde_two_dimensional(age_array, bwt_array, np.array([31]), np.array([110]), 5).item()"
   ]
  },
  {
   "cell_type": "code",
   "execution_count": 99,
   "metadata": {},
   "outputs": [],
   "source": [
    "def loo_kde_h(x1: np.ndarray, x2: np.ndarray, x1_range: np.ndarray, x2_range: np.ndarray, h_range: np.ndarray) -> tuple[np.ndarray, np.ndarray]:\n",
    "    loo = np.zeros(len(h_range))\n",
    "    assert x1.shape == x2.shape\n",
    "    for i, h in enumerate(h_range):\n",
    "        log_lh = 0\n",
    "        for j in range(len(x1)):\n",
    "            x1_ = np.delete(x1, j)\n",
    "            x2_ = np.delete(x2, j)\n",
    "            kde = kde_two_dimensional(x1_, x2_, x1_range, x2_range, h)\n",
    "            log_lh += np.sum(np.log(kde))\n",
    "        loo[i] = log_lh\n",
    "        print(f\"Log LH for h={h}: {log_lh}\")\n",
    "    return loo, h_range\n"
   ]
  },
  {
   "cell_type": "code",
   "execution_count": 100,
   "metadata": {},
   "outputs": [
    {
     "name": "stdout",
     "output_type": "stream",
     "text": [
      "Log LH for h=1.0: -9868312.789760549\n",
      "Log LH for h=1.0816326530612246: -9911435.177325992\n",
      "Log LH for h=1.163265306122449: -9947733.265705854\n",
      "Log LH for h=1.2448979591836735: -9978589.903536256\n",
      "Log LH for h=1.3265306122448979: -10005064.279091606\n",
      "Log LH for h=1.4081632653061225: -10027982.370169152\n",
      "Log LH for h=1.489795918367347: -10047997.278474288\n",
      "Log LH for h=1.5714285714285714: -10065630.564650282\n",
      "Log LH for h=1.6530612244897958: -10081301.60062702\n",
      "Log LH for h=1.7346938775510203: -10095349.190884909\n",
      "Log LH for h=1.816326530612245: -10108048.034777632\n",
      "Log LH for h=1.8979591836734693: -10119621.59661525\n",
      "Log LH for h=1.9795918367346939: -10130252.341364734\n",
      "Log LH for h=2.061224489795918: -10140089.932748087\n",
      "Log LH for h=2.142857142857143: -10149257.791431066\n",
      "Log LH for h=2.224489795918367: -10157858.310502045\n",
      "Log LH for h=2.3061224489795915: -10165976.974607943\n",
      "Log LH for h=2.387755102040816: -10173685.596460715\n",
      "Log LH for h=2.4693877551020407: -10181044.855032794\n",
      "Log LH for h=2.5510204081632653: -10188106.289750865\n",
      "Log LH for h=2.63265306122449: -10194913.875494992\n",
      "Log LH for h=2.7142857142857144: -10201505.276348032\n",
      "Log LH for h=2.7959183673469385: -10207912.8532332\n",
      "Log LH for h=2.877551020408163: -10214164.482229609\n",
      "Log LH for h=2.9591836734693877: -10220284.22614113\n",
      "Log LH for h=3.0408163265306123: -10226292.891153686\n",
      "Log LH for h=3.1224489795918364: -10232208.492422404\n",
      "Log LH for h=3.204081632653061: -10238046.646532616\n",
      "Log LH for h=3.2857142857142856: -10243820.90445173\n",
      "Log LH for h=3.36734693877551: -10249543.035424251\n",
      "Log LH for h=3.4489795918367343: -10255223.269954095\n",
      "Log LH for h=3.530612244897959: -10260870.508328728\n",
      "Log LH for h=3.6122448979591835: -10266492.49989852\n",
      "Log LH for h=3.693877551020408: -10272095.997398572\n",
      "Log LH for h=3.7755102040816326: -10277686.889895575\n",
      "Log LH for h=3.8571428571428568: -10283270.317388937\n",
      "Log LH for h=3.9387755102040813: -10288850.769652048\n",
      "Log LH for h=4.020408163265306: -10294432.171529213\n",
      "Log LH for h=4.1020408163265305: -10300017.95659006\n",
      "Log LH for h=4.183673469387754: -10305611.130774427\n",
      "Log LH for h=4.26530612244898: -10311214.327425597\n",
      "Log LH for h=4.346938775510203: -10316829.854907155\n",
      "Log LH for h=4.428571428571429: -10322459.737823563\n",
      "Log LH for h=4.5102040816326525: -10328105.75271222\n",
      "Log LH for h=4.591836734693877: -10333769.458947958\n",
      "Log LH for h=4.673469387755102: -10339452.225491455\n",
      "Log LH for h=4.755102040816326: -10345155.254021568\n",
      "Log LH for h=4.836734693877551: -10350879.59891672\n",
      "Log LH for h=4.918367346938775: -10356626.184486274\n",
      "Log LH for h=5.0: -10362395.819801122\n"
     ]
    }
   ],
   "source": [
    "likelihoods, h_values = loo_kde_h(\n",
    "    age_array, bwt_array, None, None, h_range=np.linspace(1, 5, 50)\n",
    ")"
   ]
  },
  {
   "cell_type": "code",
   "execution_count": 101,
   "metadata": {},
   "outputs": [
    {
     "data": {
      "text/plain": [
       "0"
      ]
     },
     "execution_count": 101,
     "metadata": {},
     "output_type": "execute_result"
    }
   ],
   "source": [
    "likelihoods.argmax()"
   ]
  },
  {
   "cell_type": "code",
   "execution_count": null,
   "metadata": {},
   "outputs": [],
   "source": []
  }
 ],
 "metadata": {
  "kernelspec": {
   "display_name": "computational-statistics-qlF0ErcH-py3.11",
   "language": "python",
   "name": "python3"
  },
  "language_info": {
   "codemirror_mode": {
    "name": "ipython",
    "version": 3
   },
   "file_extension": ".py",
   "mimetype": "text/x-python",
   "name": "python",
   "nbconvert_exporter": "python",
   "pygments_lexer": "ipython3",
   "version": "3.11.5"
  },
  "vscode": {
   "interpreter": {
    "hash": "53d6570113b994f255c5776c8cfb3ba753c6be772e819a2f7ee89343d6cab335"
   }
  }
 },
 "nbformat": 4,
 "nbformat_minor": 1
}
