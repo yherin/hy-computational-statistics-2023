{
 "cells": [
  {
   "cell_type": "markdown",
   "metadata": {},
   "source": [
    "University of Helsinki, Master's Programme in Mathematics and Statistics  \n",
    "MAST32001 Computational Statistics, Autumn 2022  \n",
    "Luigi Acerbi  \n",
    "Based on notebook by Antti Honkela  \n",
    "\n",
    "# Lecture 4: Resampling: permutation testing and bootstrap\n",
    "\n",
    "Background reading: please see Chapter 4 of the \"Course notes\" available in Moodle."
   ]
  },
  {
   "cell_type": "markdown",
   "metadata": {},
   "source": [
    "## 1. Playing with the example from lecture\n",
    "\n",
    "Experiment with the below example shown in the lecture video. How large does the difference in the means need to be to yield a statistically significant result? How does this change when the number of samples is changed?"
   ]
  },
  {
   "cell_type": "code",
   "execution_count": 56,
   "metadata": {},
   "outputs": [],
   "source": [
    "# Play around with this \n",
    "delta_mean = 0.5\n",
    "n_samples = 20"
   ]
  },
  {
   "cell_type": "code",
   "execution_count": 57,
   "metadata": {},
   "outputs": [
    {
     "name": "stdout",
     "output_type": "stream",
     "text": [
      "mean(x1): -0.17129856144182892\n",
      "mean(x2): 0.23402488460595014\n"
     ]
    }
   ],
   "source": [
    "import numpy as np\n",
    "import numpy.random as npr\n",
    "\n",
    "# Here we generate a simulated dataset\n",
    "# We keep this fixed, except for the difference in means\n",
    "\n",
    "npr.seed(42)\n",
    "\n",
    "# Generate two samples\n",
    "x1 = npr.normal(size=n_samples)\n",
    "x2 = npr.normal(size=n_samples) + delta_mean\n",
    "\n",
    "# Concatenate to form a whole\n",
    "print(\"mean(x1):\", np.mean(x1))\n",
    "print(\"mean(x2):\", np.mean(x2))\n",
    "truediff = np.abs(np.mean(x1) - np.mean(x2))"
   ]
  },
  {
   "cell_type": "code",
   "execution_count": 58,
   "metadata": {},
   "outputs": [
    {
     "name": "stdout",
     "output_type": "stream",
     "text": [
      "p-value: 0.1937806219378062\n"
     ]
    }
   ],
   "source": [
    "npr.seed(41)\n",
    "\n",
    "# Set the number of permutations\n",
    "N_perm = 10000\n",
    "\n",
    "def shuffle(x1, x2):\n",
    "    \"\"\"Return a random reshuffling of elements in two arrays.\"\"\"\n",
    "    n1 = len(x1)\n",
    "    z = npr.permutation(np.concatenate((x1, x2)))\n",
    "    return z[0:n1], z[n1:]\n",
    "\n",
    "# Repeatedly randomly permute to mix the groups\n",
    "meandiffs = np.zeros(N_perm)\n",
    "for i in range(N_perm):\n",
    "    z1, z2 = shuffle(x1, x2)\n",
    "    meandiffs[i] = np.abs(np.mean(z1) - np.mean(z2))\n",
    "print('p-value:', (np.sum(meandiffs >= truediff)+1)/(len(meandiffs)+1))"
   ]
  },
  {
   "cell_type": "code",
   "execution_count": 59,
   "metadata": {},
   "outputs": [
    {
     "data": {
      "image/png": "[encoded data removed]",
      "text/plain": [
       "<Figure size 432x288 with 1 Axes>"
      ]
     },
     "metadata": {
      "needs_background": "light"
     },
     "output_type": "display_data"
    }
   ],
   "source": [
    "import matplotlib.pyplot as plt\n",
    "plt.hist(x1,density=True)\n",
    "plt.hist(x2,density=True)\n",
    "plt.xlabel('x')\n",
    "plt.ylabel('p(x)')\n",
    "plt.show()"
   ]
  },
  {
   "cell_type": "code",
   "execution_count": 60,
   "metadata": {},
   "outputs": [
    {
     "data": {
      "text/plain": [
       "Text(0, 0.5, 'pdf')"
      ]
     },
     "execution_count": 60,
     "metadata": {},
     "output_type": "execute_result"
    },
    {
     "data": {
      "image/png": "[encoded data removed]",
      "text/plain": [
       "<Figure size 432x288 with 1 Axes>"
      ]
     },
     "metadata": {
      "needs_background": "light"
     },
     "output_type": "display_data"
    }
   ],
   "source": [
    "plt.hist(meandiffs, density=True)\n",
    "ylims = plt.ylim()\n",
    "plt.plot(np.ones(2)*truediff,ylims,'k')\n",
    "plt.xlabel('|mean($x_1$) - mean($x_2$)|')\n",
    "plt.ylabel('pdf')\n"
   ]
  },
  {
   "cell_type": "markdown",
   "metadata": {},
   "source": [
    "## 2. Working with real data in Python\n",
    "\n",
    "Statistics is all about data. In Python, the Pandas package provides many tools for working with real data, but its interface can be a little cumbersome. This exercise will familiarise you with the most important features.\n",
    "\n",
    "The basic data structure in Pandas is DataFrame, which is modelled after data.frame in R. In this course, the DataFrame will be provided by the `pandas.read_csv()` function which reads from a `.csv` file (a text file representing a table, where each line is a row of separated numerical values, where the separator is typically a comma `,` or a tab `\\t`).\n",
    "\n",
    "For our purposes, the most important features of the DataFrame are: \n",
    "- the ability to extract selected columns by name using `['colname']` style indexing;\n",
    "- the ability to extract rows using `.iloc[rows]` style indexing, where `rows` can be integers (list, array, slice) or a boolean array; and \n",
    "- the ability to extract the data as a NumPy Array using the `.values` attribute (*Note*: `df.values`, no need to add parentheses as per a function call.).\n",
    "\n",
    "In order to select subgroups of the data, one can create a boolean index vector and use it for indexing using e.g.\n",
    "```{python}\n",
    "Ismokers = (fram['CIG'] > 0).values    # boolean numpy array\n",
    "smokers = fram.iloc[Ismokers]\n",
    "```\n",
    "\n",
    "-------------------------------------\n",
    "\n",
    "1. Load the data set using the data set using the code below and print the dataframe. Note the column names at the top.\n",
    "2. Plot a histogram of the values of the ages of the data subjects. (*Hint*: extract the age column and use `.values` to turn it to a Numpy Array.)\n",
    "3. Compute the correlation coefficient (`np.corrcoef`) of the age and systolic blood pressure (SBP) values in the data.\n",
    "4. Create index vectors for male and female participants. Plot separate histograms of the cholesterol (CHOL) values of the male and female subjects."
   ]
  },
  {
   "cell_type": "code",
   "execution_count": 4,
   "metadata": {},
   "outputs": [
    {
     "data": {
      "text/html": [
       "<div>\n",
       "<style scoped>\n",
       "    .dataframe tbody tr th:only-of-type {\n",
       "        vertical-align: middle;\n",
       "    }\n",
       "\n",
       "    .dataframe tbody tr th {\n",
       "        vertical-align: top;\n",
       "    }\n",
       "\n",
       "    .dataframe thead th {\n",
       "        text-align: right;\n",
       "    }\n",
       "</style>\n",
       "<table border=\"1\" class=\"dataframe\">\n",
       "  <thead>\n",
       "    <tr style=\"text-align: right;\">\n",
       "      <th></th>\n",
       "      <th>ID</th>\n",
       "      <th>SEX</th>\n",
       "      <th>AGE</th>\n",
       "      <th>FRW</th>\n",
       "      <th>SBP</th>\n",
       "      <th>SBP10</th>\n",
       "      <th>DBP</th>\n",
       "      <th>CHOL</th>\n",
       "      <th>CIG</th>\n",
       "      <th>CHD</th>\n",
       "      <th>YRS_CHD</th>\n",
       "      <th>DEATH</th>\n",
       "      <th>YRS_DTH</th>\n",
       "      <th>CAUSE</th>\n",
       "    </tr>\n",
       "  </thead>\n",
       "  <tbody>\n",
       "    <tr>\n",
       "      <th>0</th>\n",
       "      <td>4988</td>\n",
       "      <td>female</td>\n",
       "      <td>57</td>\n",
       "      <td>135</td>\n",
       "      <td>186</td>\n",
       "      <td>NaN</td>\n",
       "      <td>120</td>\n",
       "      <td>150</td>\n",
       "      <td>0</td>\n",
       "      <td>1</td>\n",
       "      <td>pre</td>\n",
       "      <td>7</td>\n",
       "      <td>11</td>\n",
       "      <td>unknown</td>\n",
       "    </tr>\n",
       "    <tr>\n",
       "      <th>1</th>\n",
       "      <td>3001</td>\n",
       "      <td>female</td>\n",
       "      <td>60</td>\n",
       "      <td>123</td>\n",
       "      <td>165</td>\n",
       "      <td>NaN</td>\n",
       "      <td>100</td>\n",
       "      <td>167</td>\n",
       "      <td>25</td>\n",
       "      <td>0</td>\n",
       "      <td>16</td>\n",
       "      <td>10</td>\n",
       "      <td>17</td>\n",
       "      <td>unknown</td>\n",
       "    </tr>\n",
       "    <tr>\n",
       "      <th>2</th>\n",
       "      <td>5079</td>\n",
       "      <td>female</td>\n",
       "      <td>54</td>\n",
       "      <td>115</td>\n",
       "      <td>140</td>\n",
       "      <td>NaN</td>\n",
       "      <td>90</td>\n",
       "      <td>213</td>\n",
       "      <td>5</td>\n",
       "      <td>0</td>\n",
       "      <td>8</td>\n",
       "      <td>8</td>\n",
       "      <td>13</td>\n",
       "      <td>unknown</td>\n",
       "    </tr>\n",
       "    <tr>\n",
       "      <th>3</th>\n",
       "      <td>5162</td>\n",
       "      <td>female</td>\n",
       "      <td>52</td>\n",
       "      <td>102</td>\n",
       "      <td>170</td>\n",
       "      <td>NaN</td>\n",
       "      <td>104</td>\n",
       "      <td>280</td>\n",
       "      <td>15</td>\n",
       "      <td>0</td>\n",
       "      <td>10</td>\n",
       "      <td>7</td>\n",
       "      <td>11</td>\n",
       "      <td>unknown</td>\n",
       "    </tr>\n",
       "    <tr>\n",
       "      <th>4</th>\n",
       "      <td>4672</td>\n",
       "      <td>female</td>\n",
       "      <td>45</td>\n",
       "      <td>99</td>\n",
       "      <td>185</td>\n",
       "      <td>NaN</td>\n",
       "      <td>105</td>\n",
       "      <td>326</td>\n",
       "      <td>20</td>\n",
       "      <td>0</td>\n",
       "      <td>8</td>\n",
       "      <td>10</td>\n",
       "      <td>17</td>\n",
       "      <td>unknown</td>\n",
       "    </tr>\n",
       "    <tr>\n",
       "      <th>...</th>\n",
       "      <td>...</td>\n",
       "      <td>...</td>\n",
       "      <td>...</td>\n",
       "      <td>...</td>\n",
       "      <td>...</td>\n",
       "      <td>...</td>\n",
       "      <td>...</td>\n",
       "      <td>...</td>\n",
       "      <td>...</td>\n",
       "      <td>...</td>\n",
       "      <td>...</td>\n",
       "      <td>...</td>\n",
       "      <td>...</td>\n",
       "      <td>...</td>\n",
       "    </tr>\n",
       "    <tr>\n",
       "      <th>1389</th>\n",
       "      <td>4132</td>\n",
       "      <td>male</td>\n",
       "      <td>51</td>\n",
       "      <td>100</td>\n",
       "      <td>160</td>\n",
       "      <td>NaN</td>\n",
       "      <td>98</td>\n",
       "      <td>216</td>\n",
       "      <td>30</td>\n",
       "      <td>0</td>\n",
       "      <td>10</td>\n",
       "      <td>7</td>\n",
       "      <td>11</td>\n",
       "      <td>stroke</td>\n",
       "    </tr>\n",
       "    <tr>\n",
       "      <th>1390</th>\n",
       "      <td>5418</td>\n",
       "      <td>male</td>\n",
       "      <td>50</td>\n",
       "      <td>95</td>\n",
       "      <td>174</td>\n",
       "      <td>NaN</td>\n",
       "      <td>106</td>\n",
       "      <td>192</td>\n",
       "      <td>5</td>\n",
       "      <td>0</td>\n",
       "      <td>8</td>\n",
       "      <td>8</td>\n",
       "      <td>13</td>\n",
       "      <td>stroke</td>\n",
       "    </tr>\n",
       "    <tr>\n",
       "      <th>1391</th>\n",
       "      <td>6260</td>\n",
       "      <td>male</td>\n",
       "      <td>57</td>\n",
       "      <td>88</td>\n",
       "      <td>144</td>\n",
       "      <td>NaN</td>\n",
       "      <td>96</td>\n",
       "      <td>184</td>\n",
       "      <td>20</td>\n",
       "      <td>0</td>\n",
       "      <td>2</td>\n",
       "      <td>3</td>\n",
       "      <td>3</td>\n",
       "      <td>stroke</td>\n",
       "    </tr>\n",
       "    <tr>\n",
       "      <th>1392</th>\n",
       "      <td>5786</td>\n",
       "      <td>male</td>\n",
       "      <td>62</td>\n",
       "      <td>87</td>\n",
       "      <td>156</td>\n",
       "      <td>NaN</td>\n",
       "      <td>90</td>\n",
       "      <td>255</td>\n",
       "      <td>0</td>\n",
       "      <td>0</td>\n",
       "      <td>6</td>\n",
       "      <td>5</td>\n",
       "      <td>7</td>\n",
       "      <td>stroke</td>\n",
       "    </tr>\n",
       "    <tr>\n",
       "      <th>1393</th>\n",
       "      <td>6071</td>\n",
       "      <td>male</td>\n",
       "      <td>45</td>\n",
       "      <td>83</td>\n",
       "      <td>156</td>\n",
       "      <td>NaN</td>\n",
       "      <td>90</td>\n",
       "      <td>255</td>\n",
       "      <td>15</td>\n",
       "      <td>0</td>\n",
       "      <td>6</td>\n",
       "      <td>5</td>\n",
       "      <td>7</td>\n",
       "      <td>stroke</td>\n",
       "    </tr>\n",
       "  </tbody>\n",
       "</table>\n",
       "<p>1394 rows × 14 columns</p>\n",
       "</div>"
      ],
      "text/plain": [
       "        ID     SEX  AGE  FRW  SBP  SBP10  DBP  CHOL  CIG  CHD YRS_CHD  DEATH  \\\n",
       "0     4988  female   57  135  186    NaN  120   150    0    1     pre      7   \n",
       "1     3001  female   60  123  165    NaN  100   167   25    0      16     10   \n",
       "2     5079  female   54  115  140    NaN   90   213    5    0       8      8   \n",
       "3     5162  female   52  102  170    NaN  104   280   15    0      10      7   \n",
       "4     4672  female   45   99  185    NaN  105   326   20    0       8     10   \n",
       "...    ...     ...  ...  ...  ...    ...  ...   ...  ...  ...     ...    ...   \n",
       "1389  4132    male   51  100  160    NaN   98   216   30    0      10      7   \n",
       "1390  5418    male   50   95  174    NaN  106   192    5    0       8      8   \n",
       "1391  6260    male   57   88  144    NaN   96   184   20    0       2      3   \n",
       "1392  5786    male   62   87  156    NaN   90   255    0    0       6      5   \n",
       "1393  6071    male   45   83  156    NaN   90   255   15    0       6      5   \n",
       "\n",
       "      YRS_DTH    CAUSE  \n",
       "0          11  unknown  \n",
       "1          17  unknown  \n",
       "2          13  unknown  \n",
       "3          11  unknown  \n",
       "4          17  unknown  \n",
       "...       ...      ...  \n",
       "1389       11   stroke  \n",
       "1390       13   stroke  \n",
       "1391        3   stroke  \n",
       "1392        7   stroke  \n",
       "1393        7   stroke  \n",
       "\n",
       "[1394 rows x 14 columns]"
      ]
     },
     "execution_count": 4,
     "metadata": {},
     "output_type": "execute_result"
    }
   ],
   "source": [
    "import pandas as pd\n",
    "import numpy as np\n",
    "import numpy.random as npr\n",
    "\n",
    "# 1 (already done)\n",
    "# load the data from CSV file using pandas\n",
    "fram = pd.read_csv('https://raw.githubusercontent.com/lacerbi/compstats-files/main/data/fram.txt', sep='\\t')\n",
    "fram"
   ]
  },
  {
   "cell_type": "code",
   "execution_count": 5,
   "metadata": {},
   "outputs": [
    {
     "data": {
      "image/png": "[encoded data removed]",
      "text/plain": [
       "<Figure size 432x288 with 1 Axes>"
      ]
     },
     "metadata": {
      "needs_background": "light"
     },
     "output_type": "display_data"
    }
   ],
   "source": [
    "# 2 Histogram plot\n",
    "\n",
    "%matplotlib inline\n",
    "import matplotlib.pyplot as plt\n",
    "\n",
    "plt.hist(fram['AGE'].values)\n",
    "plt.xlabel('age')\n",
    "_ = plt.ylabel('count')"
   ]
  },
  {
   "cell_type": "code",
   "execution_count": 6,
   "metadata": {},
   "outputs": [
    {
     "name": "stdout",
     "output_type": "stream",
     "text": [
      "[[1.         0.17708106]\n",
      " [0.17708106 1.        ]]\n",
      "Correlation coefficient: 0.17708105676355693\n"
     ]
    }
   ],
   "source": [
    "# 3 correlation coefficient\n",
    "# note: .values is optional here, most numpy functions work without it too\n",
    "corr = np.corrcoef(fram['AGE'].values, fram['SBP'].values)\n",
    "print(corr)\n",
    "print('Correlation coefficient: ' + str(corr[0,1]))"
   ]
  },
  {
   "cell_type": "code",
   "execution_count": 7,
   "metadata": {},
   "outputs": [
    {
     "data": {
      "image/png": "[encoded data removed]",
      "text/plain": [
       "<Figure size 432x576 with 2 Axes>"
      ]
     },
     "metadata": {
      "needs_background": "light"
     },
     "output_type": "display_data"
    }
   ],
   "source": [
    "# 4. Separate histogram of cholesterol values for male/female subjects\n",
    "\n",
    "# Extract indices of male and female\n",
    "Imale = (fram['SEX'] == 'male').values\n",
    "Ifemale = (fram['SEX'] == 'female').values\n",
    "\n",
    "# Make two plots\n",
    "fig, axs = plt.subplots(2, sharex=True)  # Make plot sharing the x axis\n",
    "fig.set_size_inches(6,8)\n",
    "fig.suptitle('Cholesterol value by gender')\n",
    "\n",
    "axs[0].hist(fram.iloc[Imale]['CHOL'].values)\n",
    "axs[1].hist(fram.iloc[Ifemale]['CHOL'].values)\n",
    "\n",
    "axs[0].set_title('male')\n",
    "axs[0].set(ylabel='count')\n",
    "\n",
    "axs[1].set_title('female')\n",
    "axs[1].set(ylabel='count')\n",
    "axs[1].set(xlabel='cholesterol')\n",
    "\n",
    "plt.show()"
   ]
  },
  {
   "cell_type": "markdown",
   "metadata": {},
   "source": [
    "## 3. Simple permutation testing on real data\n",
    "\n",
    "1. Implement a permutation test to check if the ages (AGE) of male and female participants in the data set are statistically significantly different using the absolute difference of the means as the test statistic. How do you interpret the result?\n",
    "2. Try a similar test with other variables in the data set, such as cholesterol level (CHOL). How do you interpret the results?"
   ]
  },
  {
   "cell_type": "code",
   "execution_count": 61,
   "metadata": {},
   "outputs": [],
   "source": [
    "import pandas as pd\n",
    "import numpy as np\n",
    "import numpy.random as npr\n",
    "\n",
    "# load the data from CSV file using pandas\n",
    "fram = pd.read_csv('https://raw.githubusercontent.com/lacerbi/compstats-files/main/data/fram.txt', sep='\\t')\n",
    "\n",
    "def shuffle(x1, x2):\n",
    "    \"\"\"Return a random reshuffling of elements in two arrays\"\"\"\n",
    "    n1 = len(x1)\n",
    "    z = npr.permutation(np.concatenate((x1, x2)))\n",
    "    return z[0:n1], z[n1:]\n",
    "\n",
    "def permutation_test_absmeandiff(x1, x2, N_perm):\n",
    "    \"\"\"Perform permutation test for the absolute mean difference of two groups.\"\"\"\n",
    "    truediff = np.abs(np.mean(x1) - np.mean(x2))\n",
    "    meandiffs = np.zeros(N_perm)\n",
    "    for i in range(N_perm):\n",
    "        z1, z2 = shuffle(x1, x2)\n",
    "        meandiffs[i] = np.abs(np.mean(z1) - np.mean(z2))\n",
    "    return (np.sum(truediff <= meandiffs)+1)/(len(meandiffs)+1)"
   ]
  },
  {
   "cell_type": "code",
   "execution_count": 62,
   "metadata": {},
   "outputs": [
    {
     "name": "stdout",
     "output_type": "stream",
     "text": [
      "mean(males) = 52.47511312217195\n",
      "mean(females) = 52.39124487004104\n",
      "p = 0.7562437562437563\n"
     ]
    }
   ],
   "source": [
    "# 1\n",
    "\n",
    "# Create index vectors (np.array) for male and female samples\n",
    "Ifemale = (fram['SEX'] == 'female').values\n",
    "Imale = (fram['SEX'] == 'male').values\n",
    "\n",
    "# Find the values for males and females\n",
    "malevals = fram.iloc[Imale]['AGE'].values\n",
    "femalevals = fram.iloc[Ifemale]['AGE'].values\n",
    "\n",
    "print(\"mean(males) =\", np.mean(malevals))\n",
    "print(\"mean(females) =\", np.mean(femalevals))\n",
    "\n",
    "npr.seed(100)\n",
    "pval = permutation_test_absmeandiff(malevals, femalevals, 1000)\n",
    "print(\"p =\", pval)"
   ]
  },
  {
   "cell_type": "code",
   "execution_count": 63,
   "metadata": {},
   "outputs": [
    {
     "name": "stdout",
     "output_type": "stream",
     "text": [
      "mean(males) = 225.60331825037707\n",
      "mean(females) = 242.84541723666212\n",
      "p = 0.000999000999000999\n"
     ]
    }
   ],
   "source": [
    "# 2\n",
    "\n",
    "# Find the CHOL values for males and females\n",
    "malevals = fram.iloc[Imale]['CHOL'].values\n",
    "femalevals = fram.iloc[Ifemale]['CHOL'].values\n",
    "\n",
    "print(\"mean(males) =\", np.mean(malevals))\n",
    "print(\"mean(females) =\", np.mean(femalevals))\n",
    "\n",
    "npr.seed(100)\n",
    "pval = permutation_test_absmeandiff(malevals, femalevals, 1000)\n",
    "print(\"p =\", pval)"
   ]
  },
  {
   "cell_type": "markdown",
   "metadata": {},
   "source": [
    "## 4. Bootstrap sampling\n",
    "\n",
    "See Section 4.3 of the Course notes for background reading.\n",
    "\n",
    "1. Compute the bootstrap 95% confidence interval for the mean of the variable 'SBP' in the example data set. Compare that with the theoretical interval (see e.g. http://onlinestatbook.com/2/estimation/mean.html ).\n",
    "2. Compute the bootstrap 95% confidence interval for the median of the variable 'SBP' in the example data set.\n",
    "3. Compute the bootstrap 95% confidence interval for the correlation between the variables 'SBP' and 'CHOL' in the example data set.\n",
    "\n",
    "*Hints*: \n",
    "- You can use `numpy.random.randint()` to sample the indices for the bootstrap sample and `numpy.percentile()` to extract percentiles from the sampling results.\n",
    "- Remember that the 95% confidence interval corresponds to the `[2.5, 97.5]` percentiles."
   ]
  },
  {
   "cell_type": "code",
   "execution_count": 11,
   "metadata": {},
   "outputs": [
    {
     "name": "stdout",
     "output_type": "stream",
     "text": [
      "1. bootstrap interval: [146.66499283 149.57103659]\n",
      "1. theoretical interval: [146.6155699660916, 149.55659646145503]\n",
      "2. bootstrap interval: [140. 144.]\n",
      "3. bootstrap interval: [0.06413497 0.16437208]\n"
     ]
    }
   ],
   "source": [
    "#1\n",
    "npr.seed(42)\n",
    "sbp = fram['SBP']\n",
    "n_bootstrap = 10000\n",
    "n = len(sbp)\n",
    "bootstrap_means = np.array([np.mean(npr.choice(sbp, replace=True, size=n)) for i in range(n_bootstrap)])\n",
    "print('1. bootstrap interval:', np.percentile(bootstrap_means, [2.5, 97.5]))\n",
    "\n",
    "m = np.mean(sbp)\n",
    "sd = np.std(sbp)\n",
    "c_int_theo = [m-1.96*sd/np.sqrt(n), m+1.96*sd/np.sqrt(n)]\n",
    "print('1. theoretical interval:', c_int_theo)\n",
    "\n",
    "#2\n",
    "n_bootstrap = 10000\n",
    "bootstrap_medians = np.array([np.median(npr.choice(sbp, replace=True, size=n)) for i in range(n_bootstrap)])\n",
    "print('2. bootstrap interval:', np.percentile(bootstrap_medians, [2.5, 97.5]))\n",
    "\n",
    "#3\n",
    "chol = fram['CHOL']\n",
    "n_bootstrap = 10000\n",
    "bootstrap_correlate = np.zeros(n_bootstrap)\n",
    "for i in range(n_bootstrap):\n",
    "    indices = npr.choice(range(n), replace=True, size=n)\n",
    "    bootstrap_correlate[i] = np.corrcoef(sbp[indices], chol[indices])[0,1]\n",
    "\n",
    "print('3. bootstrap interval:', np.percentile(bootstrap_correlate, [2.5, 97.5]))"
   ]
  },
  {
   "cell_type": "markdown",
   "metadata": {},
   "source": [
    "## 5. Using bootstrap to study properties of estimators.\n",
    "\n",
    "1. Simulate data sets of 1000 samples with zero mean and unit variance from the Gaussian and the Laplace distribution.\n",
    "2. Estimate the mean, median and standard deviation and their bootstrap 95% confidence intervals. What do you observe?\n",
    "3. How do the results change when you change the initial data set size?"
   ]
  },
  {
   "cell_type": "code",
   "execution_count": 12,
   "metadata": {},
   "outputs": [
    {
     "name": "stdout",
     "output_type": "stream",
     "text": [
      "Gaussian Mean\n",
      "0.019232802501697406 [-0.04338146  0.08032506]\n",
      "Gaussian Median\n",
      "-0.01029515301411166 [-0.07563306  0.08841127]\n",
      "Gaussian SD\n",
      "0.9911275382625017 [0.94729033 1.03648898]\n",
      "Laplace Mean\n",
      "0.017134039888875977 [-0.04584275  0.07918672]\n",
      "Laplace Median\n",
      "0.003932006374351302 [-0.03804782  0.05099045]\n",
      "Laplace SD\n",
      "1.0016748155246955 [0.91195414 1.10065108]\n"
     ]
    }
   ],
   "source": [
    "#1\n",
    "x = npr.randn(1000)\n",
    "y = npr.laplace(loc=0.0, scale=1./np.sqrt(2.0), size=1000)\n",
    "\n",
    "def bootstrap(data, n_bootstrap, statistic, conf=0.95):\n",
    "    \"\"\"Compute confidence interval of a given statistic (a function) via bootstrap.\"\"\"\n",
    "    stat = statistic(data)\n",
    "    n = len(data)\n",
    "    bootstrap = np.array([statistic(npr.choice(data, replace=True, size=n)) for i in range(n_bootstrap)])\n",
    "    print(stat, np.percentile(bootstrap, [50 - 100*(conf/2), 50 + 100*(conf/2)]))\n",
    "\n",
    "statistics = [np.mean, np.median, np.std]\n",
    "data_names = ['Gaussian', 'Laplace']\n",
    "stat_names = ['Mean', 'Median', 'SD']\n",
    "n_bootstrap=1000\n",
    "for i, data in enumerate([x,y]):\n",
    "    for j, statistic in enumerate(statistics):\n",
    "        print(data_names[i], stat_names[j])\n",
    "        bootstrap(data, n_bootstrap, statistic)"
   ]
  },
  {
   "cell_type": "markdown",
   "metadata": {},
   "source": [
    "## 6. More complex permutations\n",
    "\n",
    "Let us focus on the difference in the blood pressure ('DBP') between males and females. A direct test shows that blood pressures of males and females are statistically highly significantly different (very low p-value, i.e. the observed difference would be highly unlikely under the null model). In this exercise we augment the model by balancing the permuted data with respect to another variable: weight ('FRW').\n",
    "\n",
    "This is a very crude method in this case, because we only look at one arbitrary split in FRW.\n",
    "\n",
    "1. Run a permutation test on 'DBP' the same way as in Problem 1, i.e. without stratification to low and high weight groups. What is the p-value you obtain? Try to increase the number of permutations until the p-value seems reasonably accurate. (*Note*: this should not take more than a few seconds to run!)\n",
    "2. Find the four subgroups of the data: males and females with FRW smaller/larger than median. How large are these groups?\n",
    "3. Construct separate vectors of males and females in high/low FRW groups.\n",
    "4. Perform a permutation test where males and females are shuffled within both FRW groups but do not mix the FRW groups. Repeat to compute the p-value by checking how often in the permutation you obtain results as extreme as those in the real data. Compare your result with that from case 1.\n",
    "\n",
    "*Hint*: Look at the example in Sec. 4.2.1 of the Course notes."
   ]
  },
  {
   "cell_type": "code",
   "execution_count": 13,
   "metadata": {},
   "outputs": [
    {
     "name": "stdout",
     "output_type": "stream",
     "text": [
      "mean(males) = 88.99547511312217\n",
      "mean(females) = 91.16963064295486\n",
      "p = 0.004399560043995601\n"
     ]
    }
   ],
   "source": [
    "import pandas as pd\n",
    "import numpy as np\n",
    "import numpy.random as npr\n",
    "\n",
    "def shuffle(x1, x2):\n",
    "    \"\"\"Return a random reshuffling of elements in two arrays\"\"\"\n",
    "    n1 = len(x1)\n",
    "    z = npr.permutation(np.concatenate((x1, x2)))\n",
    "    return z[0:n1], z[n1:]\n",
    "\n",
    "def merge(x1, x2):\n",
    "    \"\"\"Merge two data sets\"\"\"\n",
    "    return np.concatenate((x1, x2))\n",
    "\n",
    "def permutation_test_stratified_absmeandiff(x1a, x1b, x2a, x2b, N_perm):\n",
    "    \"\"\"Perform permutation test for the absolute mean difference of two groups with stratification.\"\"\"\n",
    "    truediff = np.abs(np.mean(merge(x1a, x1b)) - np.mean(merge(x2a, x2b)))\n",
    "    meandiffs = np.zeros(N_perm)\n",
    "    for i in range(N_perm):\n",
    "        # Shuffle two subgroups independently\n",
    "        z1a, z2a = shuffle(x1a, x2a)\n",
    "        z1b, z2b = shuffle(x1b, x2b)\n",
    "        # Re-merge the two subgroups for each unit\n",
    "        z1 = merge(z1a, z1b)\n",
    "        z2 = merge(z2a, z2b)\n",
    "        # Compute the difference as usual\n",
    "        meandiffs[i] = np.abs(np.mean(z1) - np.mean(z2))\n",
    "    return (np.sum(truediff <= meandiffs)+1)/(len(meandiffs)+1)\n",
    "\n",
    "# load the data from CSV file using pandas\n",
    "fram = pd.read_csv('https://raw.githubusercontent.com/lacerbi/compstats-files/main/data/fram.txt', sep='\\t')\n",
    "\n",
    "# Create index vectors (np.array) for male and female samples\n",
    "Ifemale = (fram['SEX'] == 'female').values\n",
    "Imale = (fram['SEX'] == 'male').values\n",
    "\n",
    "malevals = fram['DBP'].values[Imale]\n",
    "femalevals = fram['DBP'].values[Ifemale]\n",
    "\n",
    "print(\"mean(males) =\", np.mean(malevals))\n",
    "print(\"mean(females) =\", np.mean(femalevals))\n",
    "\n",
    "npr.seed(100)\n",
    "pval = permutation_test_absmeandiff(malevals, femalevals, 10000)\n",
    "print(\"p =\", pval)"
   ]
  },
  {
   "cell_type": "code",
   "execution_count": 14,
   "metadata": {},
   "outputs": [
    {
     "name": "stdout",
     "output_type": "stream",
     "text": [
      "p = 0.019598040195980403\n"
     ]
    }
   ],
   "source": [
    "medFRW = fram['FRW'].median()\n",
    "Ifemale = (fram['SEX'] == 'female').values\n",
    "Imale = (fram['SEX'] == 'male').values\n",
    "highFRW = (fram['FRW'] > medFRW).values\n",
    "lowFRW = (fram['FRW'] <= medFRW).values\n",
    "\n",
    "female_high = fram['DBP'].values[Ifemale & highFRW]\n",
    "female_low = fram['DBP'].values[Ifemale & lowFRW]\n",
    "male_high = fram['DBP'].values[Imale & highFRW]\n",
    "male_low = fram['DBP'].values[Imale & lowFRW]\n",
    "\n",
    "npr.seed(100)\n",
    "pval = permutation_test_stratified_absmeandiff(female_high, female_low, male_high, male_low, 10000)\n",
    "print(\"p =\", pval)"
   ]
  }
 ],
 "metadata": {
  "kernelspec": {
   "display_name": "Python 3",
   "language": "python",
   "name": "python3"
  },
  "language_info": {
   "codemirror_mode": {
    "name": "ipython",
    "version": 3
   },
   "file_extension": ".py",
   "mimetype": "text/x-python",
   "name": "python",
   "nbconvert_exporter": "python",
   "pygments_lexer": "ipython3",
   "version": "3.11.4"
  },
  "vscode": {
   "interpreter": {
    "hash": "04198cbdbd8290ad14fe5393da03c518364aa944069b35c8e2f23f130c55358c"
   }
  }
 },
 "nbformat": 4,
 "nbformat_minor": 1
}
