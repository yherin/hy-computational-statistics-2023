{
 "cells": [
  {
   "cell_type": "markdown",
   "metadata": {},
   "source": [
    "University of Helsinki, Master's Programme in Mathematics and Statistics  \n",
    "MAST32001 Computational Statistics, Autumn 2022   \n",
    "Luigi Acerbi  \n",
    "Based on notebook by Antti Honkela\n",
    "# Lecture 2: Random number generators and simulating random numbers\n",
    "\n",
    "Background reading: please see Chapter 2 of the \"Course notes\" available in Moodle."
   ]
  },
  {
   "cell_type": "markdown",
   "metadata": {},
   "source": [
    "## Important best practices\n",
    "\n",
    "**Always set and save your random seed to make your experiments repeatable**"
   ]
  },
  {
   "cell_type": "markdown",
   "metadata": {},
   "source": [
    "### 1. Simulating discrete distributions\n",
    "\n",
    "Many statistical applications depend on generating random numbers with a specific distribution. We will return to the topic many times with increasingly complex methods, but before that we start simple.\n",
    "\n",
    "1. Write a program to simulate a fair 6-sided die starting from a Uniform(0,1) random number generator (RNG) such as those provided by `numpy.random`. \n",
    "2. How many throws do you have to simulate to be reasonably sure (let's say ~95% probability) to get at least 10 6s? Write a computer program simulation to compute this approximately.\n",
    "3. Write a program to simulate a biased coin with a specified bias `0 <= bias <= 1` using a Uniform(0,1) RNG, where `bias` is the probability of success (so `bias = 0.5` is an unbiased coin).\n",
    "4. Simulate a coin flip competition between a person using a fair coin and a person using a biased coin where the competition consists of 100 coin flips. How large a bias do you need for the biased coin to lead to 95% probability of the person using the biased coin to obtain more heads than the person using the fair coin? What if you want 99% probability?\n",
    "\n",
    "*Note*: In Python, `numpy.random` draws uniformly in the range $[0, 1)$ (i.e., 0 is included and 1 is excluded)."
   ]
  },
  {
   "cell_type": "code",
   "execution_count": 1,
   "metadata": {},
   "outputs": [
    {
     "name": "stdout",
     "output_type": "stream",
     "text": [
      "6\n",
      "5\n",
      "1\n",
      "5\n",
      "6\n",
      "3\n",
      "4\n",
      "4\n",
      "3\n",
      "4\n"
     ]
    }
   ],
   "source": [
    "import numpy as np\n",
    "import numpy.random as npr\n",
    "\n",
    "# Did I mention to always set and save your random seed to make your experiments repeatable?\n",
    "rng = npr.default_rng(41)\n",
    "\n",
    "# Note that in older versions of NumPy, you would set the global random seed as follows, and it can still be done\n",
    "# npr.seed(41) \n",
    "\n",
    "#1\n",
    "def die_roll():\n",
    "    \"\"\"Return the outcome of a d6 (six-sided die) roll.\"\"\"\n",
    "    u = rng.random() # uniform random number between 0 and 1\n",
    "    roll = 1 + np.floor(u*6.0) # convert to integer from 1 to 6\n",
    "    return int(roll)\n",
    "\n",
    "for i in range(10):\n",
    "    print(die_roll())"
   ]
  },
  {
   "cell_type": "code",
   "execution_count": 2,
   "metadata": {},
   "outputs": [
    {
     "name": "stdout",
     "output_type": "stream",
     "text": [
      "2) 91 throws needed\n"
     ]
    }
   ],
   "source": [
    "# 2\n",
    "throwcount = 10 # start with minimum 10 dice\n",
    "num_reps = 1000 # you might need more simulations for better accuracy\n",
    "while True:\n",
    "    matches = 0\n",
    "    for i in range(num_reps):\n",
    "        if np.sum(np.array([die_roll() for i in range(throwcount)]) == 6) >= 10: # counts the number of 6s\n",
    "            matches += 1\n",
    "    if matches > 0.95*num_reps:\n",
    "        break\n",
    "    else:\n",
    "        throwcount += 1\n",
    "print(\"2)\", throwcount, \"throws needed\")"
   ]
  },
  {
   "cell_type": "code",
   "execution_count": 3,
   "metadata": {},
   "outputs": [
    {
     "name": "stdout",
     "output_type": "stream",
     "text": [
      "3)\n",
      "[0 1 0 1 1 1 1 0 0 1 1 1 1 1 1 1 1 1 1 1 1 0 1 1 1 1 1 0 1 1 1 0 1 1 1 0 1\n",
      " 1 0 1 1 1 1 1 1 1 1 0 1 1 1 1 1 0 1 1 0 1 0 1 1 1 1 1 1 1 1 0 0 0 1 0 1 1\n",
      " 1 1 0 1 1 1 1 1 1 1 1 0 0 1 0 1 1 0 1 1 1 1 1 1 1 1]\n"
     ]
    }
   ],
   "source": [
    "#3\n",
    "def biased_coin(bias, n_draws):\n",
    "    \"\"\"Return the outcome of n_draws biased coin flip.\"\"\"\n",
    "    return 1*(rng.random(n_draws)<bias)   # The outcome is bool, multiplying by 1 makes it integer\n",
    "\n",
    "print(\"3)\")\n",
    "print(biased_coin(0.7,100))"
   ]
  },
  {
   "cell_type": "code",
   "execution_count": 4,
   "metadata": {},
   "outputs": [
    {
     "name": "stdout",
     "output_type": "stream",
     "text": [
      "4) 95% certainty: 0.62\n",
      "4) 99% certainty: 0.67\n"
     ]
    }
   ],
   "source": [
    "#4\n",
    "# Consider that aim at each flip is to get 1\n",
    "def bias_difference(prob,num_matches=100):\n",
    "    \"\"\"Compute bias needed for the biased coin person to win with probability prob over num_matches matches.\"\"\"\n",
    "    bias = 0.51\n",
    "    num_reps = 5000\n",
    "    while True:\n",
    "        biased_wins = 0 # Initialize wins with biased coin\n",
    "        # We redo the experiment num_reps times\n",
    "        for i in range(num_reps):\n",
    "            if np.sum(biased_coin(bias, num_matches))>np.sum(biased_coin(0.5, num_matches)):\n",
    "                biased_wins+=1\n",
    "        if biased_wins>=(prob*num_reps) or bias>=0.99:\n",
    "            return round(bias,2) # round to two decimals\n",
    "        else:\n",
    "            bias += 0.01\n",
    "\n",
    "print(\"4) 95% certainty:\", bias_difference(0.95))\n",
    "print(\"4) 99% certainty:\", bias_difference(0.99))"
   ]
  },
  {
   "cell_type": "markdown",
   "metadata": {},
   "source": [
    "### 2. Simulating continuous distributions with transformations\n",
    "\n",
    "1. Derive and implement a method for sampling from the [exponential distribution](https://en.wikipedia.org/wiki/Exponential_distribution) $\\mathrm{Exponential}(\\lambda)$ using inverse cumulative density transformation (see course notes!).\n",
    "2. Test your method by drawing 1000 samples with the values $\\lambda = 0.1, 1, 10$. Compute the mean and standard deviation of the samples for each case. Plot a histogram of the samples together with the density and check if they match.\n",
    "3. Implement a method for sampling from the normal distribution using Box-Muller transformation (See Sec. 2.2.1 of the course notes)\n",
    "4. Test your method and plot the histogram of the samples together with the density and check if they match.\n",
    "5. Check what is the largest value of a normally distributed random number that can be generated like this?\n",
    "\n",
    "*Hints*: An example of how to use plotting is included below. You can use `plt.hist(..., density=True)` to plot a normalised histogram. Try to find a suitable number of bins to make the plot meaningful. You can view the documentation for the function `plt.hist` using the command: `? plt.hist`"
   ]
  },
  {
   "cell_type": "code",
   "execution_count": 5,
   "metadata": {},
   "outputs": [
    {
     "data": {
      "image/png": "[encoded data removed]",
      "text/plain": [
       "<Figure size 432x288 with 1 Axes>"
      ]
     },
     "metadata": {
      "needs_background": "light"
     },
     "output_type": "display_data"
    }
   ],
   "source": [
    "# Some hints for plotting.\n",
    "# In order to plot simple functions with matplotlib and NumPy you can use\n",
    "# Initialise plotting in the IPython/Jupyter notebook:\n",
    "%matplotlib inline\n",
    "import numpy as np  # import numpy, alias as np to save typying (common convention)\n",
    "import matplotlib.pyplot as plt   # import matplotlib, alias as plt to save typing (common convention)\n",
    "\n",
    "t = np.linspace(0, 10, 100)\n",
    "plt.plot(t, np.sin(t))\n",
    "plt.xlabel('t')\n",
    "plt.ylabel('sin(t)')\n",
    "plt.title('test plot')\n",
    "plt.show()"
   ]
  },
  {
   "cell_type": "code",
   "execution_count": 6,
   "metadata": {},
   "outputs": [
    {
     "data": {
      "text/plain": [
       "array([0.69259732, 0.46411749, 0.54663059, 0.28374424, 0.16351905,\n",
       "       0.17998128, 0.09920651, 0.66720214, 0.3826035 , 0.60965804])"
      ]
     },
     "execution_count": 6,
     "metadata": {},
     "output_type": "execute_result"
    }
   ],
   "source": [
    "import numpy as np\n",
    "import numpy.random as npr\n",
    "import matplotlib.pyplot as plt\n",
    "\n",
    "#1 \n",
    "# The Cumulative Density Function (CDF) for exponential distribution is 1-exp(-lambda*x).\n",
    "# The inverse CDF is given by x = -log(1-y)/lambda\n",
    "def exp_rvs(lambd, n_draws): #lambda is a keyword in Python so we use lambd to denote the parameter of exp dist.\n",
    "    \"\"\"Random samples from exponential distribution with parameter lambd.\"\"\"\n",
    "    y = npr.random(n_draws)\n",
    "    draws = -np.log(1-y)/lambd\n",
    "    return draws\n",
    "\n",
    "exp_rvs(2.,10)"
   ]
  },
  {
   "cell_type": "code",
   "execution_count": 7,
   "metadata": {},
   "outputs": [
    {
     "data": {
      "image/png": "[encoded data removed]",
      "text/plain": [
       "<Figure size 432x288 with 1 Axes>"
      ]
     },
     "metadata": {
      "needs_background": "light"
     },
     "output_type": "display_data"
    },
    {
     "data": {
      "image/png": "[encoded data removed]",
      "text/plain": [
       "<Figure size 432x288 with 1 Axes>"
      ]
     },
     "metadata": {
      "needs_background": "light"
     },
     "output_type": "display_data"
    },
    {
     "data": {
      "image/png": "[encoded data removed]",
      "text/plain": [
       "<Figure size 432x288 with 1 Axes>"
      ]
     },
     "metadata": {
      "needs_background": "light"
     },
     "output_type": "display_data"
    }
   ],
   "source": [
    "#2\n",
    "\n",
    "%matplotlib inline\n",
    "\n",
    "def exp_pdf(x, lambd):\n",
    "    \"\"\"Probability density function (pdf) of the exponential distribution.\"\"\"\n",
    "    return lambd*np.exp(-lambd*x)\n",
    "\n",
    "def plot_exp(lambd):\n",
    "    \"\"\"Plot exponential pdf and histogram of random samples.\"\"\"\n",
    "    samples = exp_rvs(lambd,1000)    \n",
    "    xx = np.linspace(0.0, np.max(samples), 100)\n",
    "    plt.plot(xx, exp_pdf(xx, lambd))\n",
    "    plt.hist(samples, bins=100, density=True)\n",
    "    plt.xlabel(r'$x$')\n",
    "    plt.ylabel(r'$p(x)$')\n",
    "    plt.title(r'Exponential pdf and histogram of samples ($\\lambda$ = ' + str(lambd) + ')')\n",
    "    plt.show()\n",
    "\n",
    "plot_exp(0.1)\n",
    "plot_exp(1.0)\n",
    "plot_exp(10.0)"
   ]
  },
  {
   "cell_type": "code",
   "execution_count": 8,
   "metadata": {},
   "outputs": [
    {
     "data": {
      "image/png": "[encoded data removed]",
      "text/plain": [
       "<Figure size 432x288 with 1 Axes>"
      ]
     },
     "metadata": {
      "needs_background": "light"
     },
     "output_type": "display_data"
    }
   ],
   "source": [
    "#3\n",
    "def normal_rvs(mu, sigma, n_draws):\n",
    "    \"\"\"Random samples from normal distribution with parameters mu and sigma (Box-Muller transform).\"\"\"\n",
    "    u1 = npr.random(n_draws)\n",
    "    u2 = npr.random(n_draws)\n",
    "    return sigma*np.sqrt(-2*np.log(u1))*np.cos(2*np.pi*u2)+mu\n",
    "\n",
    "#4\n",
    "def normal_pdf(x, mu, sigma):\n",
    "    \"\"\"Probability density function (pdf) of the normal distribution with parameters mu and sigma.\"\"\"\n",
    "    return np.exp(-(x-mu)**2/(2*sigma**2))/(np.sqrt(2*np.pi)*sigma)\n",
    "\n",
    "draws = normal_rvs(0.0, 1.0, 1000)\n",
    "x = np.linspace(np.min(draws), np.max(draws), 1000)\n",
    "plt.plot(x, normal_pdf(x, 0.0, 1.0))\n",
    "plt.hist(draws, bins=100, density=True)\n",
    "plt.xlabel(r'$x$')\n",
    "plt.ylabel(r'$p(x)$')\n",
    "plt.title(r'Normal pdf and histogram of samples')\n",
    "plt.show()"
   ]
  },
  {
   "cell_type": "code",
   "execution_count": 9,
   "metadata": {},
   "outputs": [
    {
     "name": "stdout",
     "output_type": "stream",
     "text": [
      "5) 8.571674348652905\n"
     ]
    }
   ],
   "source": [
    "#5\n",
    "# double has 53 bits for the fraction, therefore the smallest possible value is 2^-53\n",
    "# the largest value of Box-Muller is obtained when u1 is smallest, which is approximately\n",
    "print(\"5)\", np.sqrt(-2*np.log(2**-53)))"
   ]
  },
  {
   "cell_type": "markdown",
   "metadata": {},
   "source": [
    "### 3. Basic rejection sampling\n",
    "\n",
    "1. Design and implement rejection sampling for sampling from the density\n",
    "$$ p(x) = 4x^3, \\quad x \\in [0, 1] $$\n",
    "using the uniform distribution on the interval $[0,1]$ as the proposal.\n",
    "2. Which value of $M$ can you use? How does the choice of $M$ affect the method?\n",
    "3. Test your method and plot the generated samples together with the density and check that they match.\n",
    "\n",
    "*Note*: Technically the uniform distribution in Python is defined for $x \\in [0, 1)$, but we can typically ignore the fact that 1 is not included in the range. The probability of drawing any *specific* number in the range is so small - roughly equal to the precision of the number type, here `double` - that removing one number has no practical consequences. However, still be careful that 0 *is* included."
   ]
  },
  {
   "cell_type": "code",
   "execution_count": 10,
   "metadata": {},
   "outputs": [
    {
     "name": "stdout",
     "output_type": "stream",
     "text": [
      "Acceptance rate: 0.2515786560668193\n"
     ]
    },
    {
     "data": {
      "image/png": "[encoded data removed]",
      "text/plain": [
       "<Figure size 432x288 with 1 Axes>"
      ]
     },
     "metadata": {
      "needs_background": "light"
     },
     "output_type": "display_data"
    }
   ],
   "source": [
    "%matplotlib inline\n",
    "import numpy.random as npr\n",
    "import numpy as np\n",
    "import matplotlib.pyplot as plt\n",
    "\n",
    "def RejectionSampler(f_pdf, g_pdf, g_sample, M, N):\n",
    "    \"\"\"\n",
    "    Returns N samples following pdf f_pdf() using proposal g(x)\n",
    "    with pdf g_pdf() that can be sampled by g_sample().\n",
    "    Requirement: f_pdf(x) <= M*g_pdf(x) for all x.\n",
    "    \"\"\"\n",
    "    i = 0\n",
    "    rejects = 0\n",
    "    x = np.zeros(N)\n",
    "    while i < N:\n",
    "        x_prop = g_sample()\n",
    "        u = npr.uniform(0, 1)\n",
    "        if (u * M * g_pdf(x_prop)) < f_pdf(x_prop):\n",
    "            # Accept the sample and record it\n",
    "            x[i] = x_prop\n",
    "            i += 1\n",
    "        else:\n",
    "            rejects += 1\n",
    "    print(\"Acceptance rate:\", N/(N+rejects))\n",
    "    return x\n",
    "\n",
    "M = 4 # Maximum of p(x) in the range\n",
    "samples = RejectionSampler(lambda x: 4*x**3, lambda x: 1, npr.random, M, 10000)\n",
    "plt.hist(samples, 30, density=True)\n",
    "t = np.linspace(0, 1, 30)\n",
    "plt.plot(t, 4*t**3)\n",
    "plt.xlabel(r'$x$')\n",
    "plt.ylabel(r'$p(x)$')\n",
    "plt.title(r'Cubic pdf and histogram of samples via rejection sampling')\n",
    "plt.show()\n"
   ]
  },
  {
   "cell_type": "markdown",
   "metadata": {},
   "source": [
    "### 4. Mersenne Twister\n",
    "\n",
    "The most popular random number generator is the Mersenne Twister, which is also used by Python (`random.random()`). It can be used to generate uniformly distributed integers in a given interval, which can be transformed to floating point numbers in a given interval.\n",
    "\n",
    "1. Find the documentation of the Python random number generators.\n",
    "2. Try `random.random()` and `numpy.random.random()` generators while setting the seed to a known value.\n",
    "3. Test that you can recreate the same sequence of numbers by setting the seed to the same value.\n",
    "4. Guess how many different random numbers you need to sample until you start seeing the same number repeated. Test your guess.  \n",
    "  - *Hint*: If you are completely unsure about the guess, look up the \"[birthday problem](https://en.wikipedia.org/wiki/Birthday_problem)\". Think how many different numbers you can represent *uniformly* with double precision.\n",
    "  - When testing with a large number of random numbers, you may have trouble such as running out of memory etc. It is advisable to increase the number of random samples you test relatively slowly (say by a factor of 2 at a time) to avoid starting runs that completely kill your computer for a long time."
   ]
  },
  {
   "cell_type": "code",
   "execution_count": 11,
   "metadata": {},
   "outputs": [
    {
     "name": "stdout",
     "output_type": "stream",
     "text": [
      "[ True  True  True  True  True  True  True  True  True  True]\n",
      "Testing length 1048576\n",
      "Testing length 2097152\n",
      "Testing length 4194304\n",
      "Testing length 8388608\n",
      "Testing length 16777216\n",
      "Testing length 33554432\n",
      "Testing length 67108864\n",
      "Clash found at length 67108864 (i = 26)\n"
     ]
    }
   ],
   "source": [
    "#2\n",
    "import numpy as np\n",
    "import numpy.random as npr\n",
    "\n",
    "# Alternative (more recent) way for setting the seed\n",
    "rng = np.random.default_rng(123)\n",
    "draws1 = rng.random(10)\n",
    "\n",
    "#3\n",
    "rng = np.random.default_rng(123)\n",
    "draws2 = rng.random(10)\n",
    "print(draws1==draws2)\n",
    "\n",
    "#4\n",
    "import random as rnd\n",
    "# Here we use random.random to be sure we are using the Mersenne Twister\n",
    "\n",
    "rnd.seed(123)\n",
    "for i in range(20,30):\n",
    "    print(\"Testing length\", 2**i)\n",
    "    \n",
    "    draws3 = np.zeros(2**i)\n",
    "    for j in range(0,2**i):\n",
    "        draws3[j] = rnd.random()\n",
    "    \n",
    "    if len(np.unique(draws3)) != 2**i:\n",
    "        print(\"Clash found at length \" + str(2**i) + \" (i = \" + str(i) + \")\")\n",
    "        break"
   ]
  },
  {
   "cell_type": "markdown",
   "metadata": {},
   "source": [
    "### *5. More advanced random number generators (optional)\n",
    "\n",
    "The PCG family of RNGs claims to be superior to standard approaches such as Mersenne Twister, see http://www.pcg-random.org/\n",
    "\n",
    "1. Read the description of the PCG generator and its features.\n",
    "2. Find an implementation of the PCG generator and test it as above (*Hint*: recent versions of NumPy use the PCG generator as their default RNG stream)."
   ]
  },
  {
   "cell_type": "code",
   "execution_count": 12,
   "metadata": {},
   "outputs": [
    {
     "name": "stdout",
     "output_type": "stream",
     "text": [
      "Testing length 1048576\n",
      "Testing length 2097152\n",
      "Testing length 4194304\n",
      "Testing length 8388608\n",
      "Testing length 16777216\n",
      "Testing length 33554432\n",
      "Testing length 67108864\n",
      "Testing length 134217728\n",
      "Clash found at length 134217728 (i = 27)\n"
     ]
    }
   ],
   "source": [
    "import numpy as np\n",
    "\n",
    "rng = np.random.default_rng(123)\n",
    "\n",
    "for i in range(20,30):\n",
    "    print(\"Testing length\", 2**i)\n",
    "    draws = rng.random(2**i)\n",
    "    if len(np.unique(draws)) != 2**i:\n",
    "        print(\"Clash found at length \" + str(2**i) + \" (i = \" + str(i) + \")\")\n",
    "        break"
   ]
  },
  {
   "cell_type": "markdown",
   "metadata": {},
   "source": [
    "### Bonus extra: BBC In Our Time podcast \"Random and Pseudorandom\"\n",
    "\n",
    "http://www.bbc.co.uk/programmes/b00x9xjb"
   ]
  }
 ],
 "metadata": {
  "kernelspec": {
   "display_name": "Python 3",
   "language": "python",
   "name": "python3"
  },
  "language_info": {
   "codemirror_mode": {
    "name": "ipython",
    "version": 3
   },
   "file_extension": ".py",
   "mimetype": "text/x-python",
   "name": "python",
   "nbconvert_exporter": "python",
   "pygments_lexer": "ipython3",
   "version": "3.10.9"
  },
  "vscode": {
   "interpreter": {
    "hash": "48562baf5ec4044852c40c81624b046fbb3741edb6df52b5d8ff6faefb753e30"
   }
  }
 },
 "nbformat": 4,
 "nbformat_minor": 1
}
