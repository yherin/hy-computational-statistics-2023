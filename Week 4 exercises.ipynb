{
 "cells": [
  {
   "cell_type": "markdown",
   "metadata": {},
   "source": [
    "University of Helsinki, Master's Programme in Mathematics and Statistics  \n",
    "MAST32001 Computational Statistics, Autumn 2022  \n",
    "Luigi Acerbi\n",
    "\n",
    "# Week 4 exercises"
   ]
  },
  {
   "cell_type": "markdown",
   "metadata": {},
   "source": [
    "## 1. MCMC convergence diagnostics (4 pts)\n",
    "\n",
    "The file loaded below contains samples from 3 chains of Metropolis-Hastings sampling for the bimodal target \n",
    "$$\\pi^*(\\theta) = \\exp(-\\gamma (\\theta^2-1)^2)$$\n",
    "with $\\gamma = 4$. Warm-up samples have already been removed from the saved results, so you do not need to remove warm-up samples.\n",
    "\n",
    "1. Evaluate the $\\hat{R}$-statistic defined in Sec. 8.1.1 of the course notes using the original 3 chains. Report your result in Moodle.\n",
    "2. Evaluate the split-$\\hat{R}$ (see Sec. 8.1.1) by splitting the chains in half to obtain 6 chains. Report your result in Moodle.\n",
    "3. Compute the effective sample size (ESS) for the first chain (1000 samples), when we know the estimates $\\mu = 0$, $\\sigma^2 = 0.9185$ from an independent long simulation. Use the truncated sum estimate from Sec. 8.1.2 of the course notes. Report your result in Moodle.\n",
    "   *Hint*:  Use Eqs. 8.1 and 8.4, for which you will have to find the upper bound $K$ of the sum as indicated."
   ]
  },
  {
   "cell_type": "code",
   "execution_count": 35,
   "metadata": {},
   "outputs": [
    {
     "name": "stdout",
     "output_type": "stream",
     "text": [
      "(1000, 3)\n",
      "1.02592438270425\n"
     ]
    }
   ],
   "source": [
    "%matplotlib inline\n",
    "import pandas as pd\n",
    "import numpy as np\n",
    "import seaborn as sns\n",
    "import matplotlib.pyplot as plt\n",
    "from scipy.stats.distributions import rv_frozen\n",
    "from typing import Callable\n",
    "\n",
    "plt.rcParams['figure.figsize'] = (15, 10)\n",
    "sns.set_style('whitegrid')\n",
    "\n",
    "samples = pd.read_csv('https://raw.githubusercontent.com/lacerbi/compstats-files/main/data/bimod_samples.txt', header=None, sep='\\t').values\n",
    "\n",
    "# 1.1\n",
    "\n",
    "def compute_B(samples: np.ndarray) -> float:\n",
    "    n, m = samples.shape\n",
    "    scalar = n / (m - 1)\n",
    "    return scalar * np.sum([(np.mean(samples[:, j], axis=0) - np.mean(samples))**2 for j in range(m) ])\n",
    "\n",
    "\n",
    "def compute_W(samples: np.ndarray) -> float:\n",
    "    def compute_S(j: int) -> float:\n",
    "        return np.mean((samples[:, j] - samples[:, j].mean())**2)\n",
    "    _, m = samples.shape\n",
    "    return np.mean([compute_S(j) for j in range(m)])\n",
    "\n",
    "def rhat(samples: np.ndarray) -> float:\n",
    "    n, _ = samples.shape\n",
    "    w = compute_W(samples)\n",
    "    b = compute_B(samples)\n",
    "\n",
    "    var = ((n-1)/n) * w + (1/n) * b\n",
    "    return np.sqrt(var / w)\n",
    "\n",
    "print(samples.shape)\n",
    "print(rhat(samples))\n"
   ]
  },
  {
   "cell_type": "code",
   "execution_count": 36,
   "metadata": {},
   "outputs": [],
   "source": [
    "split_samples = np.zeros((500, 6))\n",
    "split_samples[:, 0] = samples[:500, 0]\n",
    "split_samples[:, 1] = samples[500:, 0]\n",
    "split_samples[:, 2] = samples[:500, 1]\n",
    "split_samples[:, 3] = samples[500:, 1]\n",
    "split_samples[:, 4] = samples[:500, 2]\n",
    "split_samples[:, 5] = samples[500:, 2]\n",
    "\n",
    "\n",
    "assert not np.equal(0, split_samples).any()"
   ]
  },
  {
   "cell_type": "code",
   "execution_count": 61,
   "metadata": {},
   "outputs": [],
   "source": [
    "def split_rhat(samples: np.ndarray) -> float:\n",
    "    n, m = samples.shape\n",
    "    assert n > m, \"Expect shape (samples, chains)\"\n",
    "    split_at = n // 2\n",
    "    split_samples = np.zeros((split_at, m*2))\n",
    "    # do the split\n",
    "    for i in range(0, split_samples.shape[1]):\n",
    "        if i % 2 == 0:\n",
    "            split_samples[:, i] = samples[split_at:, i//2]\n",
    "        else:\n",
    "            split_samples[:, i] = samples[:split_at, i//2]\n",
    "    return rhat(split_samples)"
   ]
  },
  {
   "cell_type": "code",
   "execution_count": 62,
   "metadata": {},
   "outputs": [
    {
     "name": "stdout",
     "output_type": "stream",
     "text": [
      "(500, 6)\n",
      "1.1157934720570248\n"
     ]
    }
   ],
   "source": [
    "# 1.2\n",
    "print(split_samples.shape)\n",
    "print(rhat(split_samples))"
   ]
  },
  {
   "cell_type": "code",
   "execution_count": 63,
   "metadata": {},
   "outputs": [
    {
     "name": "stdout",
     "output_type": "stream",
     "text": [
      "Upper bound for k: 85\n",
      "13.763929528261746\n"
     ]
    }
   ],
   "source": [
    "# 1.3\n",
    "\n",
    "from typing import Iterator\n",
    "\n",
    "\n",
    "mu = 0\n",
    "sigma_sq = .9185\n",
    "first_chain = samples[:, 0]\n",
    "assert first_chain.shape == (1000,)\n",
    "\n",
    "def compute_rho(samples: np.ndarray, k: int, mu: float = mu, sigma_sq: float = sigma_sq) -> float:\n",
    "    rho_i = 0\n",
    "    for i in range(samples.shape[0] - k):\n",
    "        rho_i += (samples[i] - mu) * (samples[i+k] - mu)\n",
    "    return rho_i * (1 / (samples.shape[0] * sigma_sq))\n",
    "\n",
    "def find_k_upper_bound(samples: np.ndarray, k: int) -> int:\n",
    "    i = 0\n",
    "    max_iterations = 1000\n",
    "    k = 0\n",
    "    while True:\n",
    "        rho_k_plus_1 = compute_rho(samples, k+1)\n",
    "        rho_k_plus_2 = compute_rho(samples, k+2)\n",
    "        if np.sum(rho_k_plus_1 + rho_k_plus_2) < 0 and k % 2 == 1:\n",
    "            break\n",
    "        k += 1\n",
    "        i += 1\n",
    "        if i > max_iterations:\n",
    "            raise ValueError('Max iterations reached')\n",
    "    return k\n",
    "k = find_k_upper_bound(first_chain, 0)\n",
    "print(f\"Upper bound for k: {k}\")\n",
    "\n",
    "M = first_chain.shape[0]\n",
    "ESS = M / (1 + (2 * np.sum([compute_rho(first_chain, k) for k in range(1, k+1)])))\n",
    "print(ESS)\n"
   ]
  },
  {
   "cell_type": "markdown",
   "metadata": {},
   "source": [
    "## 2. MCMC sampling for a Bayesian regression model (6 pts)\n",
    "\n",
    "In this task we will apply MCMC sampling to a linear regression model that predicts the birth weight ('bwt', $y_i$) for old mothers (age >= 30) as a function of the age of the mother, duration of the pregnancy and weight of the mother ('age', 'gestation', 'weight'; $\\mathbf{x}_i$).\n",
    "\n",
    "As our model we will consider a linear regression model fitted to the observations $((\\mathbf{x}_1, y_1), (\\mathbf{x}_2, y_2), \\dots, (\\mathbf{x}_n, y_n))$. The code below will load the matrix `x` (each row is one sample) and vector `y`. The values $\\mathbf{x}_1, \\dots, \\mathbf{x}_n$ are the *input values* and $y_1, \\dots, y_n$ are the *target values*. The loading code normalises all data to have zero mean and unit variance to get the regression coefficients to a shared scale.\n",
    "\n",
    "We model the data with a linear regression model\n",
    "$$ y_i = \\mathbf{x}_i \\boldsymbol{\\beta} + \\epsilon_i, $$\n",
    "where $\\mathbf{x}_i$ is a row vector of input values, $\\boldsymbol{\\beta} = (\\beta_1, \\beta_2, \\beta_3)^T$ is a column vector of regression coefficients and $\\epsilon_i$ is a Gaussian noise term $\\epsilon_i \\sim \\mathcal{N}(0, \\sigma_x^2)$.\n",
    "\n",
    "The likelihood of the model is\n",
    "$$ p(Y \\mid X, \\beta, \\sigma_x) = \\prod_{i=1}^n \\mathcal{N}(y_i; \\mathbf{x}_i \\boldsymbol{\\beta}, \\sigma_x^2). $$\n",
    "\n",
    "The regression coefficients $\\beta_j$ have a hierarchical prior\n",
    "$$ p(\\beta_j | \\sigma_{\\beta}) = \\mathcal{N}(\\beta_j;\\; 0, \\sigma_{\\beta}^2), \\quad j = 1, 2, 3, $$\n",
    "with standard deviation $\\sigma_{\\beta}$.\n",
    "Its prior is\n",
    "$$ p(\\sigma_{\\beta}) = \\mathrm{Gamma}(k_{\\beta} = 2, \\theta_{\\beta} = 1/2) $$\n",
    "with shape $k_{\\beta}=2$ and scale $\\theta_{\\beta} = 1/2$.\n",
    "The prior of the noise standard deviation $\\sigma_x$ is\n",
    "$$ p(\\sigma_{x}) = \\mathrm{Gamma}(k_{x} = 2, \\theta_{x} = 1/2) $$\n",
    "with shape $k_{x}=2$ and scale $\\theta_{x} = 1/2$.\n",
    "As usual, we assume the prior factorizes as $p(\\sigma_\\beta, \\sigma_x) = p(\\sigma_\\beta) p(\\sigma_x)$.\n",
    "\n",
    "To ensure the standard deviations are positive, express them as $\\sigma_{\\beta} = \\exp(s_{\\beta})$ and $\\sigma_x = \\exp(s_x)$. Remember to apply the density transformation to transform the priors over $\\sigma_{\\beta}$ and $\\sigma_x$ to those over $s_{\\beta}$ and $s_x$!\n",
    "\n",
    "The full set of model parameters for MCMC is thus $\\theta = (s_{\\beta}, s_x, \\beta_1, \\beta_2, \\beta_3)$.\n",
    "\n",
    "Write a Metropolis-Hastings MCMC sampler to sample from the joint posterior distribution of all model parameters $\\theta$, $$p(\\theta \\mid X, Y) = p(s_{\\beta}, s_x, \\beta_1, \\beta_2, \\beta_3 \\mid X, Y).$$\n",
    "\n",
    "1. Implement a Metropolis-Hastings MCMC sampler with proposal $q(\\theta' ; \\theta) = \\mathcal{N}(\\theta';\\; \\theta, 0.04^2 \\mathbf{I})$, i.e. a multivariate normal proposal centred around the current state with standard deviation 0.04 for each component.\n",
    "2. Run the sampler for 5000 iterations starting from each of the 4 initial points defined by the columns of `inits`. Discard the first 2500 iterations for each run as warm-up. Compute the split-$\\hat{R}$ statistic for the samples of $\\theta$. Report the largest split-$\\hat{R}$ over different components to Moodle.\n",
    "3. Check which variable is having convergence issues. Increase the proposal standard deviation for that component to 0.4 while keeping the proposals for the other components the same. Repeat the sampling as above and report the largest split-$\\hat{R}$ over different components to Moodle.\n",
    "4. Report the posterior mean of the log-standard deviation $s_{\\beta}$ obtained from combining all the 10000 retained samples from the latter sampler to Moodle.\n",
    "\n",
    "*Notes*: \n",
    "- Please note that all computations and results are based on the unbounded variables $s_{\\beta}$ and $s_x$. For the purpose of this exercise, there is no need to transform anything back to the original space of $\\sigma_{\\beta}$ and $\\sigma_x$.\n",
    "- The [Gamma distribution](https://en.wikipedia.org/wiki/Gamma_distribution) has two common representations, one in terms of shape and scale parameters ($k$ and $\\theta$) and one in terms of shape and rate parameters ($\\alpha$ and $\\beta$). Please check that you are using the correct one."
   ]
  },
  {
   "cell_type": "code",
   "execution_count": 41,
   "metadata": {},
   "outputs": [],
   "source": [
    "import pandas as pd\n",
    "import numpy as np\n",
    "import numpy.random as npr\n",
    "from scipy import stats\n",
    "\n",
    "# Load the data set\n",
    "babies_full = pd.read_csv(\"https://raw.githubusercontent.com/lacerbi/compstats-files/main/data/babies2.txt\", sep='\\t')\n",
    "\n",
    "# Pick a subset\n",
    "babies = babies_full.loc[(babies_full['age']>=30).values,:]\n",
    "\n",
    "x = babies[['age', 'gestation', 'weight']].values.astype(float)\n",
    "y = babies[['bwt']].values.astype(float).squeeze()\n",
    "\n",
    "# Remove mean from inputs\n",
    "x -= np.mean(x, 0)\n",
    "# Standardise input variance\n",
    "x /= np.std(x, 0)\n",
    "\n",
    "# Remove mean from outputs\n",
    "y -= np.mean(y, 0)\n",
    "# Standardise output variance\n",
    "y /= np.std(y, 0)\n",
    "\n",
    "inits = np.array([[ 1.67272789, -0.02134183, -0.78116796, -1.77420787],\n",
    "                  [-0.6030697,   0.4464263,   0.3627991,  -0.7342916 ],\n",
    "                  [-1.32685026, -0.37427079, -0.06744599,  0.21175491],\n",
    "                  [ 0.87702047, -0.54171875, -0.44736686, -2.39045985],\n",
    "                  [ 1.00631791, -1.34638203, -0.40343913, -0.64535026]])\n",
    "\n",
    "#print(x)\n",
    "#print(y)"
   ]
  },
  {
   "cell_type": "code",
   "execution_count": 48,
   "metadata": {},
   "outputs": [],
   "source": [
    "\n",
    "from typing import Callable\n",
    "\n",
    "rng = npr.default_rng(1234)\n",
    "\n",
    "def log_sigma_beta_prior(s: float) -> float:\n",
    "    return stats.gamma(a=2, scale=1/2).logpdf(s)\n",
    "\n",
    "def log_sigma_x_prior(s: float) -> float:\n",
    "    return stats.gamma(a=2, scale=1/2).logpdf(s)\n",
    "\n",
    "def log_beta_prior(beta: np.ndarray, s: float) -> float:\n",
    "    return stats.norm(0, s**2).logpdf(beta)\n",
    "\n",
    "def log_likelihood(y: float, xi: np.ndarray, beta: np.ndarray, s: np.ndarray) -> float:\n",
    "    return np.sum(stats.norm(xi @ beta, s**2).logpdf(y))\n",
    "\n",
    "def log_factorised_prior(beta: np.ndarray, sigma_beta: float, sigma_x: float) -> float:\n",
    "    # sigma and beta are transformed by exp to ensure they are positive\n",
    "    return np.sum(log_sigma_beta_prior(sigma_beta) + log_sigma_x_prior(sigma_x) + log_beta_prior(beta, sigma_beta))\n",
    "\n",
    "def log_posterior(theta: np.ndarray, y: float, xi: np.ndarray) -> float:\n",
    "    sigma_beta = theta[0]\n",
    "    sigma_x = theta[1]\n",
    "    beta = theta[2:]\n",
    "    prior = log_factorised_prior(beta, np.exp(sigma_beta), np.exp(sigma_x)) + np.abs(sigma_beta) + np.abs(sigma_x)\n",
    "    lh = log_likelihood(y, xi, beta, np.exp(sigma_x)) + np.abs(sigma_x)\n",
    "    posterior = prior + lh\n",
    "    return posterior\n",
    "\n",
    "\n",
    "def metropolis_hastings(theta0: np.ndarray, \n",
    "                        n: int, \n",
    "                        log_target: Callable[..., np.ndarray], \n",
    "                        proposal: Callable[..., np.ndarray],\n",
    "                        ) -> tuple[np.ndarray, float]:\n",
    "    theta = theta0\n",
    "    samples_3_1 = np.zeros(shape=(n, theta0.shape[0]))\n",
    "    accepts = 0\n",
    "    for i in range(n):\n",
    "        theta_prop = proposal(theta)\n",
    "        u = rng.uniform(size=theta0.shape[0])\n",
    "        x = log_target(theta_prop) - log_target(theta)\n",
    "        if (np.log(u) < x).all() :\n",
    "            theta = theta_prop\n",
    "            accepts += 1\n",
    "        samples_3_1[i] = theta\n",
    "    return samples_3_1, accepts / n\n",
    "\n",
    "\n",
    "def proposal(theta: np.ndarray) -> np.ndarray:\n",
    "    s = np.eye(theta.shape[0]) *(.04**2)\n",
    "    return rng.multivariate_normal(theta, s)\n",
    "\n",
    "def modified_proposal(theta: np.ndarray) -> np.ndarray:\n",
    "    s = np.eye(theta.shape[0]) *(.04**2)\n",
    "    s[0, 0] = 0.4**2\n",
    "    return rng.multivariate_normal(theta, s)"
   ]
  },
  {
   "cell_type": "code",
   "execution_count": 49,
   "metadata": {},
   "outputs": [
    {
     "name": "stdout",
     "output_type": "stream",
     "text": [
      "Chain 1 acceptance rate: 0.0724\n",
      "Chain 2 acceptance rate: 0.0712\n",
      "Chain 3 acceptance rate: 0.056\n",
      "Chain 4 acceptance rate: 0.0836\n"
     ]
    }
   ],
   "source": [
    "n_samples = 5000\n",
    "n_params, n_chains,  = inits.shape\n",
    "chains = np.zeros(( n_samples//2, n_chains, n_params))\n",
    "for chain in range(n_chains):\n",
    "    samples_3_1, acceptance_rate = metropolis_hastings(\n",
    "        theta0=inits[:,chain],\n",
    "        n=5000,\n",
    "        log_target=lambda theta: log_posterior(theta, y, x),\n",
    "        proposal=proposal,\n",
    "    )\n",
    "    chains[:, chain, :] = samples_3_1[n_samples//2:]\n",
    "    print(f'Chain {chain+1} acceptance rate: {acceptance_rate}')\n"
   ]
  },
  {
   "cell_type": "code",
   "execution_count": 50,
   "metadata": {},
   "outputs": [],
   "source": [
    "sigma_beta_chains, sigma_x_chains = chains[:, :, 0], chains[:, :, 1]\n",
    "beta0_chains, beta1_chains, beta2_chains, = chains[:, :, 2], chains[:, :, 3], chains[:, :, 4]"
   ]
  },
  {
   "cell_type": "code",
   "execution_count": 51,
   "metadata": {},
   "outputs": [
    {
     "name": "stdout",
     "output_type": "stream",
     "text": [
      "1.002429037883881 1.010562498021523 1.0086982777766802 1.003766821158278 1.0028403105805548\n"
     ]
    }
   ],
   "source": [
    "print(\n",
    "    rhat(sigma_beta_chains),\n",
    "    rhat(sigma_x_chains),\n",
    "    rhat(beta0_chains),\n",
    "    rhat(beta1_chains),\n",
    "    rhat(beta2_chains),\n",
    ")"
   ]
  },
  {
   "cell_type": "code",
   "execution_count": 52,
   "metadata": {},
   "outputs": [
    {
     "name": "stdout",
     "output_type": "stream",
     "text": [
      "1.0923264044675505 1.011718407525976 1.0075119913088955 1.0273901556204172 1.01483482633004\n"
     ]
    }
   ],
   "source": [
    "print(\n",
    "    split_rhat(sigma_beta_chains),\n",
    "    split_rhat(sigma_x_chains),\n",
    "    split_rhat(beta0_chains),\n",
    "    split_rhat(beta1_chains),\n",
    "    split_rhat(beta2_chains),\n",
    "\n",
    ")"
   ]
  },
  {
   "cell_type": "code",
   "execution_count": 57,
   "metadata": {},
   "outputs": [
    {
     "name": "stdout",
     "output_type": "stream",
     "text": [
      "Chain 1 acceptance rate: 0.0344\n",
      "Chain 2 acceptance rate: 0.0362\n",
      "Chain 3 acceptance rate: 0.0372\n",
      "Chain 4 acceptance rate: 0.0398\n"
     ]
    }
   ],
   "source": [
    "n_samples = 5000\n",
    "n_params, n_chains,  = inits.shape\n",
    "chains_2 = np.zeros(( n_samples//2, n_chains, n_params))\n",
    "for chain in range(n_chains):\n",
    "    samples_3_2, acceptance_rate = metropolis_hastings(\n",
    "        theta0=inits[:,chain],\n",
    "        n=5000,\n",
    "        log_target=lambda theta: log_posterior(theta, y, x),\n",
    "        proposal=modified_proposal,\n",
    "    )\n",
    "    chains_2[:, chain, :] = samples_3_2[n_samples//2:]\n",
    "    print(f'Chain {chain+1} acceptance rate: {acceptance_rate}')\n"
   ]
  },
  {
   "cell_type": "code",
   "execution_count": 58,
   "metadata": {},
   "outputs": [],
   "source": [
    "sigma_beta_chains, sigma_x_chains = chains_2[:, :, 0], chains_2[:, :, 1]\n",
    "beta0_chains, beta1_chains, beta2_chains, = chains_2[:, :, 2], chains_2[:, :, 3], chains_2[:, :, 4]"
   ]
  },
  {
   "cell_type": "code",
   "execution_count": 59,
   "metadata": {},
   "outputs": [
    {
     "data": {
      "text/plain": [
       "1.043559347814877"
      ]
     },
     "execution_count": 59,
     "metadata": {},
     "output_type": "execute_result"
    }
   ],
   "source": [
    "np.array([\n",
    "    split_rhat(sigma_beta_chains),\n",
    "    split_rhat(sigma_x_chains),\n",
    "    split_rhat(beta0_chains),\n",
    "    split_rhat(beta1_chains),\n",
    "    split_rhat(beta2_chains),\n",
    "]).max()"
   ]
  },
  {
   "cell_type": "code",
   "execution_count": 60,
   "metadata": {},
   "outputs": [
    {
     "name": "stdout",
     "output_type": "stream",
     "text": [
      "-0.6555921296976767\n"
     ]
    },
    {
     "data": {
      "image/png": "[encoded data removed]",
      "text/plain": [
       "<Figure size 500x500 with 1 Axes>"
      ]
     },
     "metadata": {},
     "output_type": "display_data"
    }
   ],
   "source": [
    "sigma_beta_posterior = sigma_beta_chains.flatten()\n",
    "assert sigma_beta_posterior.shape == (10000, )\n",
    "sns.displot(sigma_beta_posterior, kde=True)\n",
    "print(sigma_beta_posterior.mean())"
   ]
  },
  {
   "cell_type": "markdown",
   "metadata": {},
   "source": [
    "## 3. Importance sampling (4 pts)\n",
    "\n",
    "Develop an importance sampler for the bimodal target\n",
    "$$\\pi(\\theta) = \\sum_{i=1}^2 p_i \\mathcal{N}(\\theta ; \\mu_i, \\sigma_i^2),$$\n",
    "where $p_1 = p_2 = 1/2$ and $\\mu_1 = -1, \\mu_2 = 1$.\n",
    "Use $\\mathrm{Laplace}(0, b)$ with a suitable $b$ as the proposal and evaluate the expectation $\\mathbb{E}[(\\theta-1)^2]$ when\n",
    "1. $\\sigma_1^2 = \\sigma_2^2 = 0.5$.\n",
    "2. $\\sigma_1^2 = \\sigma_2^2 = 0.1$.\n",
    "\n",
    "The required tolerance for the answer is $\\pm 0.1$.\n",
    "\n",
    "In order to estimate the accuracy of your answer, it is recommended to run the sampler a few times and compute the standard deviation of the values you obtain. Monte Carlo error scales as $1/\\sqrt{n}$ with the number of iterations $n$."
   ]
  },
  {
   "cell_type": "code",
   "execution_count": 90,
   "metadata": {},
   "outputs": [],
   "source": [
    "import numpy as np\n",
    "from scipy import stats\n",
    "\n",
    "LAPLACE_LOC = 0\n",
    "\n",
    "\n",
    "def sample_laplace_proposal(b: float) -> np.ndarray:\n",
    "    return stats.laplace.rvs(loc=LAPLACE_LOC, scale=b)\n",
    "\n",
    "def pdf_laplace_proposal(x: float, b: float) -> float:\n",
    "    return stats.laplace.pdf(x, loc=LAPLACE_LOC, scale=b)\n",
    "\n",
    "\n",
    "def pi_of_theta(theta: np.ndarray, p: np.ndarray, mu: float, sigma_sq: float) -> float:\n",
    "    return np.sum( np.exp(np.log(p) + stats.norm(mu, sigma_sq).logpdf(theta)))\n",
    "\n",
    "\n",
    "def e_of_pi_of_theta(theta: np.ndarray) -> float:\n",
    "    return np.mean((theta - 1)**2)\n",
    "\n",
    "n_trials = 5\n",
    "n_samples = 25000\n",
    "\n",
    "\n",
    "# 3.1\n",
    "mu = [-1, 1]\n",
    "p = [0.5, 0.5]\n",
    "\n",
    "\n",
    "def importance_sample(n_trials: int, n_samples: int, b: float, p: np.ndarray, mu_1: np.ndarray, sigma_sq_1: np.ndarray) -> np.ndarray:\n",
    "    samples = np.zeros((n_trials, n_samples))\n",
    "    for i in range(n_trials):\n",
    "        for j in range(n_samples):\n",
    "            theta = sample_laplace_proposal(b)\n",
    "            importance_weight = pi_of_theta(theta, p, mu_1, sigma_sq_1) / pdf_laplace_proposal(theta, b)\n",
    "            samples[i,j] = e_of_pi_of_theta(theta) * importance_weight\n",
    "    return samples\n",
    "    \n"
   ]
  },
  {
   "cell_type": "code",
   "execution_count": 92,
   "metadata": {},
   "outputs": [
    {
     "name": "stdout",
     "output_type": "stream",
     "text": [
      "13.659642567591423\n",
      "[2.25380028 2.26400108 2.26119233 2.24753258 2.25043199]\n",
      "0.006271615663685633\n",
      "2.2553916524581106\n"
     ]
    }
   ],
   "source": [
    "sigma_sq_1 = [.5, .5]\n",
    "b_1 = 1.333\n",
    "\n",
    "samples_3_1 = importance_sample(5, 50000, b_1, p, mu, sigma_sq_1)\n",
    "print(np.var(samples_3_1))\n",
    "print(np.mean(samples_3_1, axis=1))\n",
    "print(np.mean(samples_3_1, axis=1).std())\n",
    "print(np.mean(samples_3_1))"
   ]
  },
  {
   "cell_type": "code",
   "execution_count": 69,
   "metadata": {},
   "outputs": [
    {
     "ename": "KeyboardInterrupt",
     "evalue": "",
     "output_type": "error",
     "traceback": [
      "\u001b[0;31m---------------------------------------------------------------------------\u001b[0m",
      "\u001b[0;31mKeyboardInterrupt\u001b[0m                         Traceback (most recent call last)",
      "\u001b[1;32m/Users/sjack/Studies/hy-computational-statistics-2023/Week 4 exercises.ipynb Cell 22\u001b[0m line \u001b[0;36m4\n\u001b[1;32m      <a href='vscode-notebook-cell:/Users/sjack/Studies/hy-computational-statistics-2023/Week%204%20exercises.ipynb#X31sZmlsZQ%3D%3D?line=0'>1</a>\u001b[0m sigma_sq_2 \u001b[39m=\u001b[39m [\u001b[39m.1\u001b[39m, \u001b[39m.1\u001b[39m]\n\u001b[1;32m      <a href='vscode-notebook-cell:/Users/sjack/Studies/hy-computational-statistics-2023/Week%204%20exercises.ipynb#X31sZmlsZQ%3D%3D?line=1'>2</a>\u001b[0m b_2 \u001b[39m=\u001b[39m \u001b[39m1\u001b[39m\n\u001b[0;32m----> <a href='vscode-notebook-cell:/Users/sjack/Studies/hy-computational-statistics-2023/Week%204%20exercises.ipynb#X31sZmlsZQ%3D%3D?line=3'>4</a>\u001b[0m samples_3_2 \u001b[39m=\u001b[39m importance_sample(n_trials, n_samples, b_2, p, mu, sigma_sq_2)\n\u001b[1;32m      <a href='vscode-notebook-cell:/Users/sjack/Studies/hy-computational-statistics-2023/Week%204%20exercises.ipynb#X31sZmlsZQ%3D%3D?line=4'>5</a>\u001b[0m \u001b[39mprint\u001b[39m(np\u001b[39m.\u001b[39mmean(samples_3_2, axis\u001b[39m=\u001b[39m\u001b[39m1\u001b[39m))\n\u001b[1;32m      <a href='vscode-notebook-cell:/Users/sjack/Studies/hy-computational-statistics-2023/Week%204%20exercises.ipynb#X31sZmlsZQ%3D%3D?line=5'>6</a>\u001b[0m \u001b[39mprint\u001b[39m(np\u001b[39m.\u001b[39mmean(samples_3_2, axis\u001b[39m=\u001b[39m\u001b[39m1\u001b[39m)\u001b[39m.\u001b[39mstd())\n",
      "\u001b[1;32m/Users/sjack/Studies/hy-computational-statistics-2023/Week 4 exercises.ipynb Cell 22\u001b[0m line \u001b[0;36m3\n\u001b[1;32m     <a href='vscode-notebook-cell:/Users/sjack/Studies/hy-computational-statistics-2023/Week%204%20exercises.ipynb#X31sZmlsZQ%3D%3D?line=32'>33</a>\u001b[0m     \u001b[39mfor\u001b[39;00m j \u001b[39min\u001b[39;00m \u001b[39mrange\u001b[39m(n_samples):\n\u001b[1;32m     <a href='vscode-notebook-cell:/Users/sjack/Studies/hy-computational-statistics-2023/Week%204%20exercises.ipynb#X31sZmlsZQ%3D%3D?line=33'>34</a>\u001b[0m         theta \u001b[39m=\u001b[39m sample_laplace_proposal(b)\n\u001b[0;32m---> <a href='vscode-notebook-cell:/Users/sjack/Studies/hy-computational-statistics-2023/Week%204%20exercises.ipynb#X31sZmlsZQ%3D%3D?line=34'>35</a>\u001b[0m         importance_weight \u001b[39m=\u001b[39m pi_of_theta(theta, p, mu_1, sigma_sq_1) \u001b[39m/\u001b[39m pdf_laplace_proposal(theta, b)\n\u001b[1;32m     <a href='vscode-notebook-cell:/Users/sjack/Studies/hy-computational-statistics-2023/Week%204%20exercises.ipynb#X31sZmlsZQ%3D%3D?line=35'>36</a>\u001b[0m         samples[i,j] \u001b[39m=\u001b[39m e_of_pi_of_theta(theta) \u001b[39m*\u001b[39m importance_weight\n\u001b[1;32m     <a href='vscode-notebook-cell:/Users/sjack/Studies/hy-computational-statistics-2023/Week%204%20exercises.ipynb#X31sZmlsZQ%3D%3D?line=36'>37</a>\u001b[0m \u001b[39mreturn\u001b[39;00m samples\n",
      "\u001b[1;32m/Users/sjack/Studies/hy-computational-statistics-2023/Week 4 exercises.ipynb Cell 22\u001b[0m line \u001b[0;36m1\n\u001b[1;32m     <a href='vscode-notebook-cell:/Users/sjack/Studies/hy-computational-statistics-2023/Week%204%20exercises.ipynb#X31sZmlsZQ%3D%3D?line=13'>14</a>\u001b[0m \u001b[39mdef\u001b[39;00m \u001b[39mpi_of_theta\u001b[39m(theta: np\u001b[39m.\u001b[39mndarray, p: np\u001b[39m.\u001b[39mndarray, mu: \u001b[39mfloat\u001b[39m, sigma_sq: \u001b[39mfloat\u001b[39m) \u001b[39m-\u001b[39m\u001b[39m>\u001b[39m \u001b[39mfloat\u001b[39m:\n\u001b[0;32m---> <a href='vscode-notebook-cell:/Users/sjack/Studies/hy-computational-statistics-2023/Week%204%20exercises.ipynb#X31sZmlsZQ%3D%3D?line=14'>15</a>\u001b[0m     \u001b[39mreturn\u001b[39;00m np\u001b[39m.\u001b[39msum( np\u001b[39m.\u001b[39mexp(np\u001b[39m.\u001b[39mlog(p) \u001b[39m+\u001b[39m stats\u001b[39m.\u001b[39;49mnorm(mu, sigma_sq)\u001b[39m.\u001b[39mlogpdf(theta)))\n",
      "File \u001b[0;32m~/Library/Caches/pypoetry/virtualenvs/computational-statistics-GjSql1OW-py3.11/lib/python3.11/site-packages/scipy/stats/_distn_infrastructure.py:829\u001b[0m, in \u001b[0;36mrv_generic.__call__\u001b[0;34m(self, *args, **kwds)\u001b[0m\n\u001b[1;32m    828\u001b[0m \u001b[39mdef\u001b[39;00m \u001b[39m__call__\u001b[39m(\u001b[39mself\u001b[39m, \u001b[39m*\u001b[39margs, \u001b[39m*\u001b[39m\u001b[39m*\u001b[39mkwds):\n\u001b[0;32m--> 829\u001b[0m     \u001b[39mreturn\u001b[39;00m \u001b[39mself\u001b[39;49m\u001b[39m.\u001b[39;49mfreeze(\u001b[39m*\u001b[39;49margs, \u001b[39m*\u001b[39;49m\u001b[39m*\u001b[39;49mkwds)\n",
      "File \u001b[0;32m~/Library/Caches/pypoetry/virtualenvs/computational-statistics-GjSql1OW-py3.11/lib/python3.11/site-packages/scipy/stats/_distn_infrastructure.py:824\u001b[0m, in \u001b[0;36mrv_generic.freeze\u001b[0;34m(self, *args, **kwds)\u001b[0m\n\u001b[1;32m    809\u001b[0m \u001b[39m\u001b[39m\u001b[39m\"\"\"Freeze the distribution for the given arguments.\u001b[39;00m\n\u001b[1;32m    810\u001b[0m \n\u001b[1;32m    811\u001b[0m \u001b[39mParameters\u001b[39;00m\n\u001b[0;32m   (...)\u001b[0m\n\u001b[1;32m    821\u001b[0m \n\u001b[1;32m    822\u001b[0m \u001b[39m\"\"\"\u001b[39;00m\n\u001b[1;32m    823\u001b[0m \u001b[39mif\u001b[39;00m \u001b[39misinstance\u001b[39m(\u001b[39mself\u001b[39m, rv_continuous):\n\u001b[0;32m--> 824\u001b[0m     \u001b[39mreturn\u001b[39;00m rv_continuous_frozen(\u001b[39mself\u001b[39;49m, \u001b[39m*\u001b[39;49margs, \u001b[39m*\u001b[39;49m\u001b[39m*\u001b[39;49mkwds)\n\u001b[1;32m    825\u001b[0m \u001b[39melse\u001b[39;00m:\n\u001b[1;32m    826\u001b[0m     \u001b[39mreturn\u001b[39;00m rv_discrete_frozen(\u001b[39mself\u001b[39m, \u001b[39m*\u001b[39margs, \u001b[39m*\u001b[39m\u001b[39m*\u001b[39mkwds)\n",
      "File \u001b[0;32m~/Library/Caches/pypoetry/virtualenvs/computational-statistics-GjSql1OW-py3.11/lib/python3.11/site-packages/scipy/stats/_distn_infrastructure.py:440\u001b[0m, in \u001b[0;36mrv_frozen.__init__\u001b[0;34m(self, dist, *args, **kwds)\u001b[0m\n\u001b[1;32m    437\u001b[0m \u001b[39mself\u001b[39m\u001b[39m.\u001b[39mkwds \u001b[39m=\u001b[39m kwds\n\u001b[1;32m    439\u001b[0m \u001b[39m# create a new instance\u001b[39;00m\n\u001b[0;32m--> 440\u001b[0m \u001b[39mself\u001b[39m\u001b[39m.\u001b[39mdist \u001b[39m=\u001b[39m dist\u001b[39m.\u001b[39;49m\u001b[39m__class__\u001b[39;49m(\u001b[39m*\u001b[39;49m\u001b[39m*\u001b[39;49mdist\u001b[39m.\u001b[39;49m_updated_ctor_param())\n\u001b[1;32m    442\u001b[0m shapes, _, _ \u001b[39m=\u001b[39m \u001b[39mself\u001b[39m\u001b[39m.\u001b[39mdist\u001b[39m.\u001b[39m_parse_args(\u001b[39m*\u001b[39margs, \u001b[39m*\u001b[39m\u001b[39m*\u001b[39mkwds)\n\u001b[1;32m    443\u001b[0m \u001b[39mself\u001b[39m\u001b[39m.\u001b[39ma, \u001b[39mself\u001b[39m\u001b[39m.\u001b[39mb \u001b[39m=\u001b[39m \u001b[39mself\u001b[39m\u001b[39m.\u001b[39mdist\u001b[39m.\u001b[39m_get_support(\u001b[39m*\u001b[39mshapes)\n",
      "File \u001b[0;32m~/Library/Caches/pypoetry/virtualenvs/computational-statistics-GjSql1OW-py3.11/lib/python3.11/site-packages/scipy/stats/_distn_infrastructure.py:1954\u001b[0m, in \u001b[0;36mrv_continuous.__init__\u001b[0;34m(self, momtype, a, b, xtol, badvalue, name, longname, shapes, extradoc, seed)\u001b[0m\n\u001b[1;32m   1952\u001b[0m \u001b[39melse\u001b[39;00m:\n\u001b[1;32m   1953\u001b[0m     dct \u001b[39m=\u001b[39m \u001b[39mdict\u001b[39m(distcont)\n\u001b[0;32m-> 1954\u001b[0m     \u001b[39mself\u001b[39;49m\u001b[39m.\u001b[39;49m_construct_doc(docdict, dct\u001b[39m.\u001b[39;49mget(\u001b[39mself\u001b[39;49m\u001b[39m.\u001b[39;49mname))\n",
      "File \u001b[0;32m~/Library/Caches/pypoetry/virtualenvs/computational-statistics-GjSql1OW-py3.11/lib/python3.11/site-packages/scipy/stats/_distn_infrastructure.py:785\u001b[0m, in \u001b[0;36mrv_generic._construct_doc\u001b[0;34m(self, docdict, shapes_vals)\u001b[0m\n\u001b[1;32m    783\u001b[0m     \u001b[39mself\u001b[39m\u001b[39m.\u001b[39m\u001b[39m__doc__\u001b[39m \u001b[39m=\u001b[39m \u001b[39mself\u001b[39m\u001b[39m.\u001b[39m\u001b[39m__doc__\u001b[39m\u001b[39m.\u001b[39mreplace(\u001b[39m\"\u001b[39m\u001b[39m%(shapes)s\u001b[39;00m\u001b[39m, \u001b[39m\u001b[39m\"\u001b[39m, \u001b[39m\"\u001b[39m\u001b[39m\"\u001b[39m)\n\u001b[1;32m    784\u001b[0m \u001b[39mtry\u001b[39;00m:\n\u001b[0;32m--> 785\u001b[0m     \u001b[39mself\u001b[39m\u001b[39m.\u001b[39m\u001b[39m__doc__\u001b[39m \u001b[39m=\u001b[39m doccer\u001b[39m.\u001b[39;49mdocformat(\u001b[39mself\u001b[39;49m\u001b[39m.\u001b[39;49m\u001b[39m__doc__\u001b[39;49m, tempdict)\n\u001b[1;32m    786\u001b[0m \u001b[39mexcept\u001b[39;00m \u001b[39mTypeError\u001b[39;00m \u001b[39mas\u001b[39;00m e:\n\u001b[1;32m    787\u001b[0m     \u001b[39mraise\u001b[39;00m \u001b[39mException\u001b[39;00m(\u001b[39m\"\u001b[39m\u001b[39mUnable to construct docstring for \u001b[39m\u001b[39m\"\u001b[39m\n\u001b[1;32m    788\u001b[0m                     \u001b[39m\"\u001b[39m\u001b[39mdistribution \u001b[39m\u001b[39m\\\"\u001b[39;00m\u001b[39m%s\u001b[39;00m\u001b[39m\\\"\u001b[39;00m\u001b[39m: \u001b[39m\u001b[39m%s\u001b[39;00m\u001b[39m\"\u001b[39m \u001b[39m%\u001b[39m\n\u001b[1;32m    789\u001b[0m                     (\u001b[39mself\u001b[39m\u001b[39m.\u001b[39mname, \u001b[39mrepr\u001b[39m(e))) \u001b[39mfrom\u001b[39;00m \u001b[39me\u001b[39;00m\n",
      "File \u001b[0;32m~/Library/Caches/pypoetry/virtualenvs/computational-statistics-GjSql1OW-py3.11/lib/python3.11/site-packages/scipy/_lib/doccer.py:61\u001b[0m, in \u001b[0;36mdocformat\u001b[0;34m(docstring, docdict)\u001b[0m\n\u001b[1;32m     59\u001b[0m indented \u001b[39m=\u001b[39m {}\n\u001b[1;32m     60\u001b[0m \u001b[39mfor\u001b[39;00m name, dstr \u001b[39min\u001b[39;00m docdict\u001b[39m.\u001b[39mitems():\n\u001b[0;32m---> 61\u001b[0m     lines \u001b[39m=\u001b[39m dstr\u001b[39m.\u001b[39mexpandtabs()\u001b[39m.\u001b[39msplitlines()\n\u001b[1;32m     62\u001b[0m     \u001b[39mtry\u001b[39;00m:\n\u001b[1;32m     63\u001b[0m         newlines \u001b[39m=\u001b[39m [lines[\u001b[39m0\u001b[39m]]\n",
      "\u001b[0;31mKeyboardInterrupt\u001b[0m: "
     ]
    }
   ],
   "source": [
    "sigma_sq_2 = [.1, .1]\n",
    "b_2 = 1\n",
    "\n",
    "samples_3_2 = importance_sample(n_trials, n_samples, b_2, p, mu, sigma_sq_2)\n",
    "print(np.mean(samples_3_2, axis=1))\n",
    "print(np.mean(samples_3_2, axis=1).std())\n",
    "print(np.mean(samples_3_2))"
   ]
  },
  {
   "cell_type": "code",
   "execution_count": 4,
   "metadata": {},
   "outputs": [
    {
     "ename": "NameError",
     "evalue": "name 'samples_3_2' is not defined",
     "output_type": "error",
     "traceback": [
      "\u001b[0;31m---------------------------------------------------------------------------\u001b[0m",
      "\u001b[0;31mNameError\u001b[0m                                 Traceback (most recent call last)",
      "\u001b[1;32m/Users/sjack/Studies/hy-computational-statistics-2023/Week 4 exercises.ipynb Cell 24\u001b[0m line \u001b[0;36m1\n\u001b[0;32m----> <a href='vscode-notebook-cell:/Users/sjack/Studies/hy-computational-statistics-2023/Week%204%20exercises.ipynb#X32sZmlsZQ%3D%3D?line=0'>1</a>\u001b[0m \u001b[39mdel\u001b[39;00m(samples_3_1, samples_3_2)\n",
      "\u001b[0;31mNameError\u001b[0m: name 'samples_3_2' is not defined"
     ]
    }
   ],
   "source": [
    "del(samples_3_1, samples_3_2)"
   ]
  },
  {
   "attachments": {},
   "cell_type": "markdown",
   "metadata": {},
   "source": [
    "## 4. Rejection ABC for a dynamical model (6 pts)\n",
    "\n",
    "In this task we will develop an ABC sampler for the autoregressive (AR) model:\n",
    "$$ x_{t+1} = a x_t + \\epsilon_t, \\quad \\epsilon_t \\sim \\mathcal{N}(0, \\sigma^2). $$\n",
    "Throughout the exercise, we assume $x_0 = 1$. The model has two parameters, $a$ and $\\sigma$. We set priors\n",
    "$$ p(a) = \\mathrm{Uniform}(a;\\; 0, 1), \\quad p(\\sigma) = \\mathrm{Gamma}(\\sigma;\\; k_\\sigma, \\theta_\\sigma) $$\n",
    "with $k_\\sigma = 8, \\theta_\\sigma = 1/8$. Note that we use the shape/scale parametrisation also used by NumPy and that the prior is over $\\sigma$, not $\\sigma^2$ (also more consistent with NumPy parametrisation).\n",
    "\n",
    "1. Implement a function to simulate the AR process. Test your function by generating and plotting two independent realisations of length 200 with $a = 0.75$, $\\sigma = 0.2$. Notice how the sequences diverge relatively quickly and are essentially independent toward the end. *Hint*: Length 200 means that the generated sequence will take values $x_0, x_1, \\ldots, x_{199}$.\n",
    "2. Sample 5000 sequences from the AR process of length 200 with $a = 0.75$, $\\sigma = 0.2$. For each sequence, extract the last value. Compute the standard deviation of the last values across the 5000 simulated sequences and report it in Moodle.\n",
    "3. For the purpose of ABC sampling, we are going to summarize the sequences with the 2-dimensional summary statistics\n",
    "$$ S(X) = \\left( \\frac{1}{N} \\sum_{i=0}^{N-1} x_i^2, \\frac{1}{N-1} \\sum_{i=0}^{N-2} x_i x_{i+1} \\right). $$\n",
    "Load the the single observed sequence $X$ (the data) with the code below and evaluate $S(X)$ on the provided sequence. Report the two summary statistics of the data in Moodle.\n",
    "\n",
    "4. Implement an ABC sampler to infer the posterior over $a$ and $\\sigma$ given the single observed sequence $X$ loaded below using the simulator implemented above and the 2-dimensional summary statistics defined above. Run your sampler to generate samples with acceptance threshold $\\| S(X) - S(X^\\star)\\|_2 \\le \\epsilon$ with $\\epsilon = 0.2$.\n",
    "5. Report the approximate posterior means and standard deviations of $a$ and $\\sigma$ to Moodle.\n",
    "\n",
    "The required tolerance on the posterior means and standard deviations is $\\pm 0.03$.\n",
    "\n",
    "*Hints*:\n",
    "- Note that for the acceptance threshold we are using the standard Euclidean metric: $\\|v\\|_2 = \\sqrt{\\sum_{i} v_i^2}$.\n",
    "- The ABC sampler here can easily require tens of seconds or more when the number of samples is large, so you should be careful when increasing the number of samples. A reasonably good implementation should be able to reach the required accuracy in less than a minute."
   ]
  },
  {
   "cell_type": "code",
   "execution_count": 10,
   "metadata": {},
   "outputs": [],
   "source": [
    "import pandas as pd\n",
    "\n",
    "dataframe = pd.read_csv('https://raw.githubusercontent.com/lacerbi/compstats-files/main/data/ar_time_series_data.txt', header=None, sep='\\t')\n",
    "data = dataframe.values[:,0]"
   ]
  },
  {
   "cell_type": "code",
   "execution_count": 13,
   "metadata": {},
   "outputs": [],
   "source": [
    "def mcmc_abc(\n",
    "    a_prior: Callable[[], float],\n",
    "    sigma_prior: Callable[[], float],\n",
    "    eps: Callable[[float], float],\n",
    "    x0: float = 1,\n",
    "    n_iterations: int = 200,\n",
    "):\n",
    "    x = np.zeros(n_iterations)\n",
    "    x[0] = x0\n",
    "    for i in range(1, n_iterations):\n",
    "        sigma_i = sigma_prior()\n",
    "        coeff = a_prior()\n",
    "        x_star = (coeff * x[i-1]) + eps(sigma_i)\n",
    "        x[i] = x_star\n",
    "    return x"
   ]
  },
  {
   "cell_type": "code",
   "execution_count": 18,
   "metadata": {},
   "outputs": [],
   "source": [
    "chain_1 = mcmc_abc(\n",
    "    a_prior = lambda: stats.uniform(0, 1).pdf(.75), \n",
    "    sigma_prior = lambda : stats.gamma(8, 1/8).pdf(.2), \n",
    "    eps = lambda sigma: stats.norm(0, sigma**2).rvs(),\n",
    "    x0 = 1,\n",
    "    n_iterations = 200,\n",
    "    )\n",
    "\n",
    "chain_2 = mcmc_abc(\n",
    "    a_prior = lambda: stats.uniform(0, 1).pdf(.75), \n",
    "    sigma_prior = lambda : stats.gamma(8, 1/8).pdf(.2), \n",
    "    eps = lambda sigma: stats.norm(0, sigma**2).rvs(),\n",
    "    x0 = 1,\n",
    "    n_iterations = 200,\n",
    "    )"
   ]
  },
  {
   "cell_type": "code",
   "execution_count": 19,
   "metadata": {},
   "outputs": [
    {
     "data": {
      "image/png": "[encoded data removed]",
      "text/plain": [
       "<Figure size 1500x1000 with 2 Axes>"
      ]
     },
     "metadata": {},
     "output_type": "display_data"
    }
   ],
   "source": [
    "fig, ax = plt.subplots(1, 2)\n",
    "ax[0].plot(chain_1)\n",
    "ax[1].plot(chain_2)\n",
    "plt.show()"
   ]
  },
  {
   "cell_type": "code",
   "execution_count": 100,
   "metadata": {},
   "outputs": [],
   "source": [
    "def S_x_vectorised(x: np.ndarray) -> tuple[float, float]:\n",
    "    N = len(x)\n",
    "    x1 = np.sum(x[:-1] **2) / N\n",
    "    x2 = np.sum(x[:-2] * x[1:-1]) / (N - 1)\n",
    "    return x1, x2"
   ]
  },
  {
   "cell_type": "code",
   "execution_count": null,
   "metadata": {},
   "outputs": [],
   "source": [
    "def S_x(x: np.ndarray) -> tuple[float, float]:\n",
    "    N = len(x)\n",
    "    x1 = 0\n",
    "    for i in range(N-1):\n",
    "        x1 += x[i]**2\n",
    "    x1 = x1 / N\n",
    "\n",
    "    x2 = 0\n",
    "    for i in range(N-2):\n",
    "        x2 += x[i] * x[i+1]\n",
    "    x2 = x2 / (N - 1)\n",
    "    return x1, x2\n"
   ]
  },
  {
   "cell_type": "code",
   "execution_count": 99,
   "metadata": {},
   "outputs": [
    {
     "data": {
      "text/plain": [
       "(1.305171069319515, 1.185813020421201)"
      ]
     },
     "execution_count": 99,
     "metadata": {},
     "output_type": "execute_result"
    }
   ],
   "source": [
    "S_x(data)"
   ]
  },
  {
   "cell_type": "code",
   "execution_count": null,
   "metadata": {},
   "outputs": [],
   "source": []
  }
 ],
 "metadata": {
  "kernelspec": {
   "display_name": "computational-statistics-qlF0ErcH-py3.11",
   "language": "python",
   "name": "python3"
  },
  "language_info": {
   "codemirror_mode": {
    "name": "ipython",
    "version": 3
   },
   "file_extension": ".py",
   "mimetype": "text/x-python",
   "name": "python",
   "nbconvert_exporter": "python",
   "pygments_lexer": "ipython3",
   "version": "3.11.5"
  },
  "vscode": {
   "interpreter": {
    "hash": "53d6570113b994f255c5776c8cfb3ba753c6be772e819a2f7ee89343d6cab335"
   }
  }
 },
 "nbformat": 4,
 "nbformat_minor": 1
}
