{
 "cells": [
  {
   "cell_type": "markdown",
   "metadata": {},
   "source": [
    "University of Helsinki, Master's Programme in Mathematics and Statistics  \n",
    "MAST32001 Computational Statistics, Autumn 2022  \n",
    "Luigi Acerbi\n",
    "\n",
    "# Week 4 exercises"
   ]
  },
  {
   "cell_type": "markdown",
   "metadata": {},
   "source": [
    "## 1. MCMC convergence diagnostics (4 pts)\n",
    "\n",
    "The file loaded below contains samples from 3 chains of Metropolis-Hastings sampling for the bimodal target \n",
    "$$\\pi^*(\\theta) = \\exp(-\\gamma (\\theta^2-1)^2)$$\n",
    "with $\\gamma = 4$. Warm-up samples have already been removed from the saved results, so you do not need to remove warm-up samples.\n",
    "\n",
    "1. Evaluate the $\\hat{R}$-statistic defined in Sec. 8.1.1 of the course notes using the original 3 chains. Report your result in Moodle.\n",
    "2. Evaluate the split-$\\hat{R}$ (see Sec. 8.1.1) by splitting the chains in half to obtain 6 chains. Report your result in Moodle.\n",
    "3. Compute the effective sample size (ESS) for the first chain (1000 samples), when we know the estimates $\\mu = 0$, $\\sigma^2 = 0.9185$ from an independent long simulation. Use the truncated sum estimate from Sec. 8.1.2 of the course notes. Report your result in Moodle.\n",
    "   *Hint*:  Use Eqs. 8.1 and 8.4, for which you will have to find the upper bound $K$ of the sum as indicated."
   ]
  },
  {
   "cell_type": "code",
   "execution_count": 1,
   "metadata": {},
   "outputs": [
    {
     "name": "stdout",
     "output_type": "stream",
     "text": [
      "(1000, 3)\n",
      "1.02592438270425\n"
     ]
    }
   ],
   "source": [
    "%matplotlib inline\n",
    "import pandas as pd\n",
    "import numpy as np\n",
    "\n",
    "samples = pd.read_csv('https://raw.githubusercontent.com/lacerbi/compstats-files/main/data/bimod_samples.txt', header=None, sep='\\t').values\n",
    "\n",
    "# 1.1\n",
    "\n",
    "def compute_B(samples: np.ndarray) -> float:\n",
    "    n, m = samples.shape\n",
    "    scalar = n / (m - 1)\n",
    "    return scalar * np.sum([(np.mean(samples[:, j], axis=0) - np.mean(samples))**2 for j in range(m) ])\n",
    "\n",
    "\n",
    "def compute_W(samples: np.ndarray) -> float:\n",
    "    def compute_S(j: int) -> float:\n",
    "        return np.mean((samples[:, j] - samples[:, j].mean())**2)\n",
    "    _, m = samples.shape\n",
    "    return np.mean([compute_S(j) for j in range(m)])\n",
    "\n",
    "def rhat(samples: np.ndarray) -> float:\n",
    "    n, _ = samples.shape\n",
    "    w = compute_W(samples)\n",
    "    b = compute_B(samples)\n",
    "\n",
    "    return np.sqrt((((n-1)/n) * w + (1/n) * b) / w)\n",
    "\n",
    "print(samples.shape)\n",
    "print(rhat(samples))\n"
   ]
  },
  {
   "cell_type": "code",
   "execution_count": 2,
   "metadata": {},
   "outputs": [
    {
     "name": "stdout",
     "output_type": "stream",
     "text": [
      "(500, 6)\n",
      "1.0202096803772418\n"
     ]
    }
   ],
   "source": [
    "# 1.2\n",
    "\n",
    "split_samples = samples.reshape(-1, samples.shape[1]*2,)\n",
    "print(split_samples.shape)\n",
    "print(rhat(split_samples))"
   ]
  },
  {
   "cell_type": "code",
   "execution_count": 3,
   "metadata": {},
   "outputs": [
    {
     "name": "stdout",
     "output_type": "stream",
     "text": [
      "18.172750682263867\n"
     ]
    }
   ],
   "source": [
    "# 1.3\n",
    "\n",
    "mu = 0\n",
    "sigma_sq = .9185\n",
    "first_chain = samples[:, 0]\n",
    "assert first_chain.shape == (1000,)\n",
    "\n",
    "def compute_rho(samples: np.ndarray, k: int, mu: float = mu, sigma_sq: float = sigma_sq) -> float:\n",
    "    samples_shifted = np.pad(samples, (0, k), mode='constant', constant_values=mu)[k:]\n",
    "    return np.mean((samples - mu) * (samples_shifted - mu)) / sigma_sq\n",
    "\n",
    "def find_k_upper_bound(samples: np.ndarray, l: int) -> int:\n",
    "    i = 0\n",
    "    max_iterations = 1000\n",
    "    l = 0\n",
    "    while True:\n",
    "        rho_k_plus_1 = compute_rho(samples, l+1)\n",
    "        rho_k_plus_2 = compute_rho(samples, l+2)\n",
    "        if np.sum(rho_k_plus_1 + rho_k_plus_2) < 0 and l % 2 == 1:\n",
    "            break\n",
    "        l += 1\n",
    "        i += 1\n",
    "        if i > max_iterations:\n",
    "            raise ValueError('Max iterations reached')\n",
    "    return (l-1) // 2\n",
    "k = find_k_upper_bound(first_chain, 0)\n",
    "\n",
    "\n",
    "M = first_chain.shape[0]\n",
    "ESS = M / (1 + (2 * np.sum([compute_rho(first_chain, k) for k in range(1, k+1)])))\n",
    "print(ESS)\n"
   ]
  },
  {
   "cell_type": "markdown",
   "metadata": {},
   "source": [
    "## 2. MCMC sampling for a Bayesian regression model (6 pts)\n",
    "\n",
    "In this task we will apply MCMC sampling to a linear regression model that predicts the birth weight ('bwt', $y_i$) for old mothers (age >= 30) as a function of the age of the mother, duration of the pregnancy and weight of the mother ('age', 'gestation', 'weight'; $\\mathbf{x}_i$).\n",
    "\n",
    "As our model we will consider a linear regression model fitted to the observations $((\\mathbf{x}_1, y_1), (\\mathbf{x}_2, y_2), \\dots, (\\mathbf{x}_n, y_n))$. The code below will load the matrix `x` (each row is one sample) and vector `y`. The values $\\mathbf{x}_1, \\dots, \\mathbf{x}_n$ are the *input values* and $y_1, \\dots, y_n$ are the *target values*. The loading code normalises all data to have zero mean and unit variance to get the regression coefficients to a shared scale.\n",
    "\n",
    "We model the data with a linear regression model\n",
    "$$ y_i = \\mathbf{x}_i \\boldsymbol{\\beta} + \\epsilon_i, $$\n",
    "where $\\mathbf{x}_i$ is a row vector of input values, $\\boldsymbol{\\beta} = (\\beta_1, \\beta_2, \\beta_3)^T$ is a column vector of regression coefficients and $\\epsilon_i$ is a Gaussian noise term $\\epsilon_i \\sim \\mathcal{N}(0, \\sigma_x^2)$.\n",
    "\n",
    "The likelihood of the model is\n",
    "$$ p(Y \\mid X, \\beta, \\sigma_x) = \\prod_{i=1}^n \\mathcal{N}(y_i; \\mathbf{x}_i \\boldsymbol{\\beta}, \\sigma_x^2). $$\n",
    "\n",
    "The regression coefficients $\\beta_j$ have a hierarchical prior\n",
    "$$ p(\\beta_j | \\sigma_{\\beta}) = \\mathcal{N}(\\beta_j;\\; 0, \\sigma_{\\beta}^2), \\quad j = 1, 2, 3, $$\n",
    "with standard deviation $\\sigma_{\\beta}$.\n",
    "Its prior is\n",
    "$$ p(\\sigma_{\\beta}) = \\mathrm{Gamma}(k_{\\beta} = 2, \\theta_{\\beta} = 1/2) $$\n",
    "with shape $k_{\\beta}=2$ and scale $\\theta_{\\beta} = 1/2$.\n",
    "The prior of the noise standard deviation $\\sigma_x$ is\n",
    "$$ p(\\sigma_{x}) = \\mathrm{Gamma}(k_{x} = 2, \\theta_{x} = 1/2) $$\n",
    "with shape $k_{x}=2$ and scale $\\theta_{x} = 1/2$.\n",
    "As usual, we assume the prior factorizes as $p(\\sigma_\\beta, \\sigma_x) = p(\\sigma_\\beta) p(\\sigma_x)$.\n",
    "\n",
    "To ensure the standard deviations are positive, express them as $\\sigma_{\\beta} = \\exp(s_{\\beta})$ and $\\sigma_x = \\exp(s_x)$. Remember to apply the density transformation to transform the priors over $\\sigma_{\\beta}$ and $\\sigma_x$ to those over $s_{\\beta}$ and $s_x$!\n",
    "\n",
    "The full set of model parameters for MCMC is thus $\\theta = (s_{\\beta}, s_x, \\beta_1, \\beta_2, \\beta_3)$.\n",
    "\n",
    "Write a Metropolis-Hastings MCMC sampler to sample from the joint posterior distribution of all model parameters $\\theta$, $$p(\\theta \\mid X, Y) = p(s_{\\beta}, s_x, \\beta_1, \\beta_2, \\beta_3 \\mid X, Y).$$\n",
    "\n",
    "1. Implement a Metropolis-Hastings MCMC sampler with proposal $q(\\theta' ; \\theta) = \\mathcal{N}(\\theta';\\; \\theta, 0.04^2 \\mathbf{I})$, i.e. a multivariate normal proposal centred around the current state with standard deviation 0.04 for each component.\n",
    "2. Run the sampler for 5000 iterations starting from each of the 4 initial points defined by the columns of `inits`. Discard the first 2500 iterations for each run as warm-up. Compute the split-$\\hat{R}$ statistic for the samples of $\\theta$. Report the largest split-$\\hat{R}$ over different components to Moodle.\n",
    "3. Check which variable is having convergence issues. Increase the proposal standard deviation for that component to 0.4 while keeping the proposals for the other components the same. Repeat the sampling as above and report the largest split-$\\hat{R}$ over different components to Moodle.\n",
    "4. Report the posterior mean of the log-standard deviation $s_{\\beta}$ obtained from combining all the 10000 retained samples from the latter sampler to Moodle.\n",
    "\n",
    "*Notes*: \n",
    "- Please note that all computations and results are based on the unbounded variables $s_{\\beta}$ and $s_x$. For the purpose of this exercise, there is no need to transform anything back to the original space of $\\sigma_{\\beta}$ and $\\sigma_x$.\n",
    "- The [Gamma distribution](https://en.wikipedia.org/wiki/Gamma_distribution) has two common representations, one in terms of shape and scale parameters ($k$ and $\\theta$) and one in terms of shape and rate parameters ($\\alpha$ and $\\beta$). Please check that you are using the correct one."
   ]
  },
  {
   "cell_type": "code",
   "execution_count": 4,
   "metadata": {},
   "outputs": [],
   "source": [
    "import pandas as pd\n",
    "import numpy as np\n",
    "import numpy.random as npr\n",
    "from scipy import stats\n",
    "\n",
    "# Load the data set\n",
    "babies_full = pd.read_csv(\"https://raw.githubusercontent.com/lacerbi/compstats-files/main/data/babies2.txt\", sep='\\t')\n",
    "\n",
    "# Pick a subset\n",
    "babies = babies_full.loc[(babies_full['age']>=30).values,:]\n",
    "\n",
    "x = babies[['age', 'gestation', 'weight']].values.astype(float)\n",
    "y = babies[['bwt']].values.astype(float).squeeze()\n",
    "\n",
    "# Remove mean from inputs\n",
    "x -= np.mean(x, 0)\n",
    "# Standardise input variance\n",
    "x /= np.std(x, 0)\n",
    "\n",
    "# Remove mean from outputs\n",
    "y -= np.mean(y, 0)\n",
    "# Standardise output variance\n",
    "y /= np.std(y, 0)\n",
    "\n",
    "inits = np.array([[ 1.67272789, -0.02134183, -0.78116796, -1.77420787],\n",
    "                  [-0.6030697,   0.4464263,   0.3627991,  -0.7342916 ],\n",
    "                  [-1.32685026, -0.37427079, -0.06744599,  0.21175491],\n",
    "                  [ 0.87702047, -0.54171875, -0.44736686, -2.39045985],\n",
    "                  [ 1.00631791, -1.34638203, -0.40343913, -0.64535026]])\n",
    "\n",
    "#print(x)\n",
    "#print(y)"
   ]
  },
  {
   "cell_type": "code",
   "execution_count": 33,
   "metadata": {},
   "outputs": [],
   "source": [
    "\n",
    "from typing import Callable\n",
    "\n",
    "rng = npr.default_rng(1234)\n",
    "\n",
    "def log_sigma_beta_prior(s: float) -> float:\n",
    "    return stats.gamma(a=2, scale=1/2).logpdf(s)\n",
    "\n",
    "def log_sigma_x_prior(s: float) -> float:\n",
    "    return stats.gamma(a=2, scale=1/2).logpdf(s)\n",
    "\n",
    "def log_beta_prior(beta: np.ndarray, s: float) -> float:\n",
    "    return stats.norm(0, s**2).logpdf(beta) \n",
    "\n",
    "def log_likelihood(y: float, xi: np.ndarray, beta: np.ndarray, s: np.ndarray) -> float:\n",
    "    return np.sum(stats.norm(xi @ beta, s**2).logpdf(y))\n",
    "\n",
    "def log_factorised_prior(beta: np.ndarray, sigma_beta: float, sigma_x: float) -> float:\n",
    "    breakpoint()\n",
    "    return np.sum(log_sigma_beta_prior(sigma_beta) + log_sigma_x_prior(sigma_x) + log_beta_prior(beta, sigma_beta) + sigma_x + sigma_beta + sigma_beta)\n",
    "\n",
    "def log_posterior(theta: np.ndarray, y: float, xi: np.ndarray) -> float:\n",
    "    sigma_beta = np.exp(theta[0])\n",
    "    sigma_x = np.exp(theta[1])\n",
    "    beta = theta[2:]\n",
    "    prior = log_factorised_prior(beta, sigma_beta, sigma_x) \n",
    "    lh = log_likelihood(y, xi, beta, sigma_x)\n",
    "    return prior + lh\n",
    "\n",
    "\n",
    "def metropolis_hastings(theta0: np.ndarray, \n",
    "                        n: int, \n",
    "                        log_target: Callable[..., np.ndarray], \n",
    "                        proposal: Callable[..., np.ndarray],\n",
    "                        ) -> tuple[np.ndarray, float]:\n",
    "    theta = theta0\n",
    "    samples = np.zeros(shape=(n, theta0.shape[0]))\n",
    "    accepts = 0\n",
    "    for i in range(n):\n",
    "        theta_prop = proposal(theta)\n",
    "        u = rng.uniform(size=theta0.shape[0])\n",
    "        x = log_target(theta_prop) - log_target(theta)\n",
    "        if (np.log(u) < x).all() :\n",
    "            theta = theta_prop\n",
    "            accepts += 1\n",
    "        samples[i] = theta\n",
    "    return samples, accepts / n\n",
    "\n",
    "\n",
    "def proposal(theta: np.ndarray) -> np.ndarray:\n",
    "    s = np.eye(theta.shape[0]) *(.04**2)\n",
    "    return rng.multivariate_normal(theta, s)"
   ]
  },
  {
   "cell_type": "code",
   "execution_count": 34,
   "metadata": {},
   "outputs": [],
   "source": [
    "n_samples = 5000\n",
    "n_params, n_chains,  = inits.shape\n",
    "chains = np.zeros((n_chains, n_samples//2, n_params))\n",
    "for chain in range(n_chains):\n",
    "    samples, acceptance_rate = metropolis_hastings(\n",
    "        theta0=inits[:,chain],\n",
    "        n=5000,\n",
    "        log_target=lambda theta: log_posterior(theta, y, x),\n",
    "        proposal=proposal,\n",
    "    )\n",
    "    chains[chain, :, :] = samples[n_samples//2:]\n",
    "    print(f'Chain {chain+1} acceptance rate: {acceptance_rate}')\n"
   ]
  },
  {
   "cell_type": "code",
   "execution_count": 26,
   "metadata": {},
   "outputs": [],
   "source": [
    "sigma_beta_chains, sigma_x_chains = chains[:, :, 0], chains[:, :, 1]\n",
    "beta0_chains, beta1_chains, beta2_chains, = chains[:, :, 2], chains[:, :, 3], chains[:, :, 4]"
   ]
  },
  {
   "cell_type": "code",
   "execution_count": 27,
   "metadata": {},
   "outputs": [
    {
     "name": "stdout",
     "output_type": "stream",
     "text": [
      "0.8660254472847456 0.8660828577869967 0.8662839224660487 0.8670115736590934 0.866040632065199\n"
     ]
    }
   ],
   "source": [
    "print(\n",
    "    rhat(sigma_beta_chains),\n",
    "    rhat(sigma_x_chains),\n",
    "    rhat(beta0_chains),\n",
    "    rhat(beta1_chains),\n",
    "    rhat(beta2_chains),\n",
    ")"
   ]
  },
  {
   "cell_type": "code",
   "execution_count": 28,
   "metadata": {},
   "outputs": [
    {
     "name": "stdout",
     "output_type": "stream",
     "text": [
      "0.9354143653100048 0.9354450101758116 0.9354778304079492 0.9355837283100464 0.9354205511133965\n"
     ]
    }
   ],
   "source": [
    "print(\n",
    "    rhat(sigma_beta_chains.reshape(n_chains*2, -1)),\n",
    "    rhat(sigma_x_chains.reshape(n_chains*2, -1)),\n",
    "    rhat(beta0_chains.reshape(n_chains*2, -1)),\n",
    "    rhat(beta1_chains.reshape(n_chains*2, -1)),\n",
    "    rhat(beta2_chains.reshape(n_chains*2, -1)),\n",
    "\n",
    ")"
   ]
  },
  {
   "cell_type": "markdown",
   "metadata": {},
   "source": [
    "## 3. Importance sampling (4 pts)\n",
    "\n",
    "Develop an importance sampler for the bimodal target\n",
    "$$\\pi(\\theta) = \\sum_{i=1}^2 p_i \\mathcal{N}(\\theta ; \\mu_i, \\sigma_i^2),$$\n",
    "where $p_1 = p_2 = 1/2$ and $\\mu_1 = -1, \\mu_2 = 1$.\n",
    "Use $\\mathrm{Laplace}(0, b)$ with a suitable $b$ as the proposal and evaluate the expectation $\\mathbb{E}[(\\theta-1)^2]$ when\n",
    "1. $\\sigma_1^2 = \\sigma_2^2 = 0.5$.\n",
    "2. $\\sigma_1^2 = \\sigma_2^2 = 0.1$.\n",
    "\n",
    "The required tolerance for the answer is $\\pm 0.1$.\n",
    "\n",
    "In order to estimate the accuracy of your answer, it is recommended to run the sampler a few times and compute the standard deviation of the values you obtain. Monte Carlo error scales as $1/\\sqrt{n}$ with the number of iterations $n$."
   ]
  },
  {
   "cell_type": "code",
   "execution_count": 10,
   "metadata": {},
   "outputs": [
    {
     "name": "stdout",
     "output_type": "stream",
     "text": [
      "0.993967939681698\n",
      "0.012186292951901196\n"
     ]
    }
   ],
   "source": [
    "\n",
    "def f(theta: np.array) -> np.array:\n",
    "    return (theta -1)**2\n",
    "\n",
    "\n",
    "def p(mu: np.ndarray, sigma_sq: np.ndarray, theta: np.ndarray) -> np.ndarray:\n",
    "    return stats.norm(mu, sigma_sq).pdf(theta)\n",
    "\n",
    "def q_draw(b: float) -> float:\n",
    "    return stats.laplace(0, b).rvs(2)\n",
    "\n",
    "def q_pdf(x: float, b: float) -> float:\n",
    "    return stats.laplace(0, b).pdf(x)\n",
    "\n",
    "b = .5\n",
    "\n",
    "mu = np.array([-1, 1])\n",
    "sigma_sq = np.array([.5, .5])\n",
    "\n",
    "e_f = np.zeros(5)\n",
    "for j in range(5):\n",
    "    samples = np.zeros(10000)\n",
    "    for i in range(10000):\n",
    "        draw = q_draw(b)\n",
    "        ratio = p(mu, sigma_sq, draw) / q_pdf(draw, b)\n",
    "        samples[i] = np.sum(.5*ratio)\n",
    "    e_f[j] = np.mean(samples)\n",
    "\n",
    "print(e_f.mean())\n",
    "print(e_f.std())"
   ]
  },
  {
   "cell_type": "code",
   "execution_count": 11,
   "metadata": {},
   "outputs": [
    {
     "name": "stdout",
     "output_type": "stream",
     "text": [
      "0.9959450885697312\n",
      "0.035216813424132985\n"
     ]
    }
   ],
   "source": [
    "b = .8\n",
    "\n",
    "mu = np.array([-1, 1])\n",
    "sigma_sq = np.array([.1, .1])\n",
    "\n",
    "e_f = np.zeros(5)\n",
    "for j in range(5):\n",
    "    samples = np.zeros(10000)\n",
    "    for i in range(10000):\n",
    "        draw = q_draw(b)\n",
    "        ratio = p(mu, sigma_sq, draw) / q_pdf(draw, b)\n",
    "        samples[i] = np.sum(.5*ratio)\n",
    "    e_f[j] = np.mean(samples)\n",
    "\n",
    "print(e_f.mean())\n",
    "print(e_f.std())"
   ]
  },
  {
   "cell_type": "markdown",
   "metadata": {},
   "source": [
    "## 4. Rejection ABC for a dynamical model (6 pts)\n",
    "\n",
    "In this task we will develop an ABC sampler for the autoregressive (AR) model:\n",
    "$$ x_{t+1} = a x_t + \\epsilon_t, \\quad \\epsilon_t \\sim \\mathcal{N}(0, \\sigma^2). $$\n",
    "Throughout the exercise, we assume $x_0 = 1$. The model has two parameters, $a$ and $\\sigma$. We set priors\n",
    "$$ p(a) = \\mathrm{Uniform}(a;\\; 0, 1), \\quad p(\\sigma) = \\mathrm{Gamma}(\\sigma;\\; k_\\sigma, \\theta_\\sigma) $$\n",
    "with $k_\\sigma = 8, \\theta_\\sigma = 1/8$. Note that we use the shape/scale parametrisation also used by NumPy and that the prior is over $\\sigma$, not $\\sigma^2$ (also more consistent with NumPy parametrisation).\n",
    "\n",
    "1. Implement a function to simulate the AR process. Test your function by generating and plotting two independent realisations of length 200 with $a = 0.75$, $\\sigma = 0.2$. Notice how the sequences diverge relatively quickly and are essentially independent toward the end. *Hint*: Length 200 means that the generated sequence will take values $x_0, x_1, \\ldots, x_{199}$.\n",
    "2. Sample 5000 sequences from the AR process of length 200 with $a = 0.75$, $\\sigma = 0.2$. For each sequence, extract the last value. Compute the standard deviation of the last values across the 5000 simulated sequences and report it in Moodle.\n",
    "3. For the purpose of ABC sampling, we are going to summarize the sequences with the 2-dimensional summary statistics\n",
    "$$ S(X) = \\left( \\frac{1}{N} \\sum_{i=0}^{N-1} x_i^2, \\frac{1}{N-1} \\sum_{i=0}^{N-2} x_i x_{i+1} \\right). $$\n",
    "Load the the single observed sequence $X$ (the data) with the code below and evaluate $S(X)$ on the provided sequence. Report the two summary statistics of the data in Moodle.\n",
    "4. Implement an ABC sampler to infer the posterior over $a$ and $\\sigma$ given the single observed sequence $X$ loaded below using the simulator implemented above and the 2-dimensional summary statistics defined above. Run your sampler to generate samples with acceptance threshold $\\| S(X) - S(X^\\star)\\|_2 \\le \\epsilon$ with $\\epsilon = 0.2$.\n",
    "5. Report the approximate posterior means and standard deviations of $a$ and $\\sigma$ to Moodle.\n",
    "\n",
    "The required tolerance on the posterior means and standard deviations is $\\pm 0.03$.\n",
    "\n",
    "*Hints*:\n",
    "- Note that for the acceptance threshold we are using the standard Euclidean metric: $\\|v\\|_2 = \\sqrt{\\sum_{i} v_i^2}$.\n",
    "- The ABC sampler here can easily require tens of seconds or more when the number of samples is large, so you should be careful when increasing the number of samples. A reasonably good implementation should be able to reach the required accuracy in less than a minute."
   ]
  },
  {
   "cell_type": "code",
   "execution_count": 12,
   "metadata": {},
   "outputs": [],
   "source": [
    "import pandas as pd\n",
    "\n",
    "dataframe = pd.read_csv('https://raw.githubusercontent.com/lacerbi/compstats-files/main/data/ar_time_series_data.txt', header=None, sep='\\t')\n",
    "data = dataframe.values[:,0]"
   ]
  },
  {
   "cell_type": "code",
   "execution_count": null,
   "metadata": {},
   "outputs": [],
   "source": []
  }
 ],
 "metadata": {
  "kernelspec": {
   "display_name": "Python 3",
   "language": "python",
   "name": "python3"
  },
  "language_info": {
   "codemirror_mode": {
    "name": "ipython",
    "version": 3
   },
   "file_extension": ".py",
   "mimetype": "text/x-python",
   "name": "python",
   "nbconvert_exporter": "python",
   "pygments_lexer": "ipython3",
   "version": "3.11.5"
  },
  "vscode": {
   "interpreter": {
    "hash": "48562baf5ec4044852c40c81624b046fbb3741edb6df52b5d8ff6faefb753e30"
   }
  }
 },
 "nbformat": 4,
 "nbformat_minor": 1
}
