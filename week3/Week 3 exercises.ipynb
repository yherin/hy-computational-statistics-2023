{
 "cells": [
  {
   "cell_type": "markdown",
   "metadata": {},
   "source": [
    "University of Helsinki, Master's Programme in Mathematics and Statistics  \n",
    "MAST32001 Computational Statistics, Autumn 2023  \n",
    "Luigi Acerbi\n",
    "\n",
    "# Week 3 exercises\n",
    "\n",
    "**General hints**:  \n",
    "- **In order to estimate the accuracy of your answer**, it is recommended to run the sampler a few times and compute the standard deviation of the values you obtain. If the standard deviation of the values you obtain is smaller than the tolerance, the average of the values you obtain should be within the tolerance, assuming everything was done correctly.\n",
    "- Monte Carlo error scales as $1/\\sqrt{n}$ with the number of iterations $n$, i.e. you need to increase the number of iterations by a factor of 4 to cut the error in half."
   ]
  },
  {
   "cell_type": "code",
   "execution_count": 1,
   "metadata": {},
   "outputs": [],
   "source": [
    "from typing import Callable\n",
    "import numpy as np\n",
    "from scipy import stats\n",
    "import matplotlib.pyplot as plt\n",
    "import seaborn as sns\n",
    "from functools import partial\n",
    "from typing import Any\n",
    "\n",
    "\n",
    "plt.rcParams[\"figure.figsize\"] = (12, 8)\n",
    "plt.rcParams[\"font.size\"] = 14\n",
    "\n",
    "sns.set_style(\"whitegrid\")\n",
    "\n",
    "\n",
    "rng = np.random.default_rng(12345)\n"
   ]
  },
  {
   "cell_type": "markdown",
   "metadata": {},
   "source": [
    "## 1. Sampling a 1D distribution (4 points)\n",
    "\n",
    "Write a Metropolis-Hastings sampler to sample from the (unnormalised) distribution\n",
    "$$ P^*(\\theta) = \\cos^2(\\theta) \\exp(-|\\theta|^3) $$\n",
    "using a normal distribution with standard deviation $\\sigma$ as the proposal\n",
    "$q(\\theta' ; \\theta) = \\mathcal{N}(\\theta';\\; \\theta, \\sigma^2)$.\n",
    "\n",
    "1. Initialising the sampler at $\\theta = 0$, draw 10000 samples with $\\sigma=0.5$. Report the acceptance rate of the samples in Moodle.\n",
    "2. Find a value of $\\sigma$ that gives an acceptance rate close to the theoretically optimal value of $0.5$.\n",
    "3. Evaluate $\\mathbb{E}[\\cos(\\theta)]$, using samples drawn with the optimally tuned $\\sigma$. Remember to throw out the warm-up samples! Report the value you obtain in Moodle.\n",
    "\n",
    "The required tolerance for the answer is $\\pm 0.03$.\n",
    "\n",
    "*Hint*: It is useful to check your result by plotting a histogram of your samples and the target density (remembering it is unscaled)."
   ]
  },
  {
   "cell_type": "code",
   "execution_count": 63,
   "metadata": {},
   "outputs": [],
   "source": [
    "# 1\n",
    "def metropolis_hastings(theta0: np.ndarray, \n",
    "                        n: int, \n",
    "                        log_target: Callable[..., np.ndarray], \n",
    "                        proposal: Callable[..., np.ndarray],\n",
    "                        proposal_sigma: float = 1.0\n",
    "                        ) -> tuple[np.ndarray, float]:\n",
    "    theta = theta0\n",
    "    samples = np.zeros(shape=(n, theta0.shape[0]))\n",
    "    accepts = 0\n",
    "    for i in range(n):\n",
    "        theta_prop = proposal(theta, proposal_sigma)\n",
    "        u = rng.uniform(size=theta0.shape[0])\n",
    "        if (np.log(u) < log_target(theta_prop) - log_target(theta)).all():\n",
    "            theta = theta_prop\n",
    "            accepts += 1\n",
    "        samples[i] = theta\n",
    "    return samples, accepts / n\n",
    "\n"
   ]
  },
  {
   "cell_type": "code",
   "execution_count": 64,
   "metadata": {},
   "outputs": [
    {
     "name": "stderr",
     "output_type": "stream",
     "text": [
      "/tmp/ipykernel_18166/262228101.py:3: RuntimeWarning: invalid value encountered in log\n",
      "  log_target = lambda theta: np.array([np.log(2 * np.cos(theta)) + ( -np.abs(theta)**3)])\n"
     ]
    },
    {
     "name": "stdout",
     "output_type": "stream",
     "text": [
      "Acceptance rate: 0.8668\n"
     ]
    },
    {
     "name": "stderr",
     "output_type": "stream",
     "text": [
      "/home/sjack/.cache/pypoetry/virtualenvs/computational-statistics-qlF0ErcH-py3.11/lib/python3.11/site-packages/seaborn/_oldcore.py:1498: FutureWarning: is_categorical_dtype is deprecated and will be removed in a future version. Use isinstance(dtype, CategoricalDtype) instead\n",
      "  if pd.api.types.is_categorical_dtype(vector):\n",
      "/home/sjack/.cache/pypoetry/virtualenvs/computational-statistics-qlF0ErcH-py3.11/lib/python3.11/site-packages/seaborn/_oldcore.py:1498: FutureWarning: is_categorical_dtype is deprecated and will be removed in a future version. Use isinstance(dtype, CategoricalDtype) instead\n",
      "  if pd.api.types.is_categorical_dtype(vector):\n",
      "/home/sjack/.cache/pypoetry/virtualenvs/computational-statistics-qlF0ErcH-py3.11/lib/python3.11/site-packages/seaborn/_oldcore.py:1498: FutureWarning: is_categorical_dtype is deprecated and will be removed in a future version. Use isinstance(dtype, CategoricalDtype) instead\n",
      "  if pd.api.types.is_categorical_dtype(vector):\n",
      "/home/sjack/.cache/pypoetry/virtualenvs/computational-statistics-qlF0ErcH-py3.11/lib/python3.11/site-packages/seaborn/_oldcore.py:1498: FutureWarning: is_categorical_dtype is deprecated and will be removed in a future version. Use isinstance(dtype, CategoricalDtype) instead\n",
      "  if pd.api.types.is_categorical_dtype(vector):\n",
      "/home/sjack/.cache/pypoetry/virtualenvs/computational-statistics-qlF0ErcH-py3.11/lib/python3.11/site-packages/seaborn/_oldcore.py:1498: FutureWarning: is_categorical_dtype is deprecated and will be removed in a future version. Use isinstance(dtype, CategoricalDtype) instead\n",
      "  if pd.api.types.is_categorical_dtype(vector):\n",
      "/home/sjack/.cache/pypoetry/virtualenvs/computational-statistics-qlF0ErcH-py3.11/lib/python3.11/site-packages/seaborn/_oldcore.py:1119: FutureWarning: use_inf_as_na option is deprecated and will be removed in a future version. Convert inf values to NaN before operating instead.\n",
      "  with pd.option_context('mode.use_inf_as_na', True):\n"
     ]
    },
    {
     "data": {
      "text/plain": [
       "<Axes: ylabel='Density'>"
      ]
     },
     "execution_count": 64,
     "metadata": {},
     "output_type": "execute_result"
    },
    {
     "data": {
      "image/png": "[encoded data removed]",
      "text/plain": [
       "<Figure size 1200x800 with 1 Axes>"
      ]
     },
     "metadata": {},
     "output_type": "display_data"
    }
   ],
   "source": [
    "\n",
    "sd = 0.5\n",
    "n = 10000\n",
    "log_target = lambda theta: np.array([np.log(2 * np.cos(theta)) + ( -np.abs(theta)**3)])\n",
    "proposal = lambda theta, sigma: np.array([stats.norm(theta, sigma**2).rvs()])\n",
    "\n",
    "samples, acceptance_rate = metropolis_hastings(np.array([0.0]), n, log_target, proposal, proposal_sigma=sd)\n",
    "print(f\"Acceptance rate: {acceptance_rate}\")\n",
    "\n",
    "sns.histplot(samples, stat=\"density\", bins=50)"
   ]
  },
  {
   "cell_type": "code",
   "execution_count": 4,
   "metadata": {},
   "outputs": [],
   "source": [
    "# 2\n",
    "\n",
    "# let's use a halfnormal to try and find appropriate values for sigma\n",
    "def optimize_sigma_halfnorm(\n",
    "        mcmc: Callable[..., tuple[np.ndarray, float]],\n",
    "        sigma_hyperprior: float,\n",
    "        n_iterations: int,\n",
    "        sigma_dim: int = 1,\n",
    "        target_accept: float = .5,\n",
    ") -> float:\n",
    "    \n",
    "    sigma_candidates = stats.halfnorm(scale=sigma_hyperprior).rvs(n_iterations)\n",
    "    acceptance_rates = np.zeros(n_iterations)\n",
    "    best_acceptance_rate_diff = np.inf\n",
    "    best_sigma = None\n",
    "    for i in range(n_iterations):\n",
    "        s = np.eye(sigma_dim) * sigma_candidates[i]\n",
    "        breakpoint()\n",
    "        _, acceptance_rate = mcmc(proposal_sigma=s)\n",
    "        acceptance_rates[i] = acceptance_rate\n",
    "        acceptance_diff = np.abs(target_accept - acceptance_rate)\n",
    "        if acceptance_diff < best_acceptance_rate_diff:\n",
    "            best_acceptance_rate_diff = acceptance_diff\n",
    "            best_sigma = s\n",
    "            print(f\"New best sigma: {best_sigma}\")\n",
    "            print(f\"Acceptance rate: {acceptance_rate}\")\n",
    "    return best_sigma\n"
   ]
  },
  {
   "cell_type": "code",
   "execution_count": 5,
   "metadata": {},
   "outputs": [],
   "source": [
    "\n",
    "if False:\n",
    "    opt_sigma = optimize_sigma_halfnorm(\n",
    "    partial(metropolis_hastings, theta0=np.array([0.0]), n=n, log_target=log_target, proposal=proposal),\n",
    "    sigma_hyperprior=1.5,\n",
    "    n_iterations=50,\n",
    "    target_accept=.5\n",
    "    )\n",
    "else:\n",
    "    opt_sigma = np.array(1.07263718)\n",
    "    "
   ]
  },
  {
   "cell_type": "code",
   "execution_count": 6,
   "metadata": {},
   "outputs": [
    {
     "name": "stderr",
     "output_type": "stream",
     "text": [
      "/tmp/ipykernel_18166/262228101.py:3: RuntimeWarning: invalid value encountered in log\n",
      "  log_target = lambda theta: np.array([np.log(2 * np.cos(theta)) + ( -np.abs(theta)**3)])\n"
     ]
    }
   ],
   "source": [
    "e_cos_results = np.zeros(10)\n",
    "for i in range(len(e_cos_results)):\n",
    "    samples, acceptance_rate = metropolis_hastings(np.array([0.0]), n, log_target, proposal, proposal_sigma=opt_sigma)\n",
    "    _, valid_samples = samples[:n//2], samples[n//2:]\n",
    "    y = np.mean(np.cos(valid_samples))\n",
    "    e_cos_results[i] = y\n"
   ]
  },
  {
   "cell_type": "code",
   "execution_count": 7,
   "metadata": {},
   "outputs": [
    {
     "name": "stderr",
     "output_type": "stream",
     "text": [
      "/home/sjack/.cache/pypoetry/virtualenvs/computational-statistics-qlF0ErcH-py3.11/lib/python3.11/site-packages/seaborn/_oldcore.py:1498: FutureWarning: is_categorical_dtype is deprecated and will be removed in a future version. Use isinstance(dtype, CategoricalDtype) instead\n",
      "  if pd.api.types.is_categorical_dtype(vector):\n",
      "/home/sjack/.cache/pypoetry/virtualenvs/computational-statistics-qlF0ErcH-py3.11/lib/python3.11/site-packages/seaborn/_oldcore.py:1498: FutureWarning: is_categorical_dtype is deprecated and will be removed in a future version. Use isinstance(dtype, CategoricalDtype) instead\n",
      "  if pd.api.types.is_categorical_dtype(vector):\n",
      "/home/sjack/.cache/pypoetry/virtualenvs/computational-statistics-qlF0ErcH-py3.11/lib/python3.11/site-packages/seaborn/_oldcore.py:1498: FutureWarning: is_categorical_dtype is deprecated and will be removed in a future version. Use isinstance(dtype, CategoricalDtype) instead\n",
      "  if pd.api.types.is_categorical_dtype(vector):\n",
      "/home/sjack/.cache/pypoetry/virtualenvs/computational-statistics-qlF0ErcH-py3.11/lib/python3.11/site-packages/seaborn/_oldcore.py:1498: FutureWarning: is_categorical_dtype is deprecated and will be removed in a future version. Use isinstance(dtype, CategoricalDtype) instead\n",
      "  if pd.api.types.is_categorical_dtype(vector):\n",
      "/home/sjack/.cache/pypoetry/virtualenvs/computational-statistics-qlF0ErcH-py3.11/lib/python3.11/site-packages/seaborn/_oldcore.py:1498: FutureWarning: is_categorical_dtype is deprecated and will be removed in a future version. Use isinstance(dtype, CategoricalDtype) instead\n",
      "  if pd.api.types.is_categorical_dtype(vector):\n",
      "/home/sjack/.cache/pypoetry/virtualenvs/computational-statistics-qlF0ErcH-py3.11/lib/python3.11/site-packages/seaborn/_oldcore.py:1119: FutureWarning: use_inf_as_na option is deprecated and will be removed in a future version. Convert inf values to NaN before operating instead.\n",
      "  with pd.option_context('mode.use_inf_as_na', True):\n"
     ]
    },
    {
     "data": {
      "text/plain": [
       "<seaborn.axisgrid.FacetGrid at 0x7f738f703690>"
      ]
     },
     "execution_count": 7,
     "metadata": {},
     "output_type": "execute_result"
    },
    {
     "data": {
      "image/png": "[encoded data removed]",
      "text/plain": [
       "<Figure size 582.25x500 with 1 Axes>"
      ]
     },
     "metadata": {},
     "output_type": "display_data"
    }
   ],
   "source": [
    "sns.displot(np.cos(valid_samples), stat=\"density\", bins=50)"
   ]
  },
  {
   "cell_type": "code",
   "execution_count": 8,
   "metadata": {},
   "outputs": [
    {
     "name": "stdout",
     "output_type": "stream",
     "text": [
      "0.0030283288568460974 0.8711642115640981\n"
     ]
    }
   ],
   "source": [
    "print(e_cos_results.std(), e_cos_results.mean())"
   ]
  },
  {
   "cell_type": "markdown",
   "metadata": {},
   "source": [
    "## 2. Sampling a 2D distribution (4 points)\n",
    "\n",
    "Write a Metropolis-Hastings sampler to evaluate the following expectations over the given (unnormalised) distributions using a suitably scaled multivariate normal distribution with diagonal covariance as the proposal.\n",
    "\n",
    "1. $E[\\theta_1^2 + \\theta_2^2]$, when $P^*(\\boldsymbol{\\theta}) = \\exp\\left(-3(\\sqrt{(\\theta_1-\\mu_1)^2 + (\\theta_2-\\mu_2)^2} - r^2)^2 \\right)$.\n",
    "2. $E[\\theta_1^2 + \\theta_2^2]$, when $P^*(\\boldsymbol{\\theta}) = \\exp\\left(-3(\\sqrt{(\\theta_1-\\mu_1)^2 + (\\theta_2-\\mu_2)^2} - r^2)^2 + |2\\theta_1 - \\theta_2|\\right)$.\n",
    "\n",
    "Here $\\mu_1 = 1, \\mu_2 = 2$ and $r = \\sqrt{2}$.\n",
    "\n",
    "The required tolerance for the answer is $\\pm 0.3$.\n",
    "\n",
    "*Hint*: It is useful to check your result by plotting a scatter plot of your samples and a contour plot of the logarithm of the target function. Remember to throw out the warm-up samples!"
   ]
  },
  {
   "cell_type": "code",
   "execution_count": 9,
   "metadata": {},
   "outputs": [],
   "source": [
    "mu_1 = 1\n",
    "mu_2 = 2\n",
    "r = np.sqrt(2)\n",
    "\n",
    "# 2.1\n",
    "log_target = lambda theta: -3 * ( np.sqrt( (theta[0] - mu_1)**2 + (theta[1] - mu_2)**2) - r **2 ) **2\n",
    "proposal = lambda theta, sigma: stats.multivariate_normal(theta, sigma**2).rvs()\n",
    "\n",
    "if False:\n",
    "    opt_sigma = optimize_sigma_halfnorm(\n",
    "        partial(metropolis_hastings, theta0=np.array([0.0, 0.0]), n=n, log_target=log_target, proposal=proposal),\n",
    "        n_iterations=50,\n",
    "        sigma_hyperprior=1.5,\n",
    "        sigma_dim=2,\n",
    "    )\n",
    "else:\n",
    "    opt_sigma = np.array(\n",
    "    [[0.61127744, 0.], [0.,0.61127744]]\n",
    ")"
   ]
  },
  {
   "cell_type": "code",
   "execution_count": 10,
   "metadata": {},
   "outputs": [
    {
     "name": "stdout",
     "output_type": "stream",
     "text": [
      "0.8218188988567972 9.02564312585869\n"
     ]
    }
   ],
   "source": [
    "e_xsq_plus_ysq_results = np.zeros(10)\n",
    "for i in range(len(e_xsq_plus_ysq_results)):\n",
    "    samples, _ = metropolis_hastings(np.array([0.0, 0.0]), n, log_target, proposal, proposal_sigma=opt_sigma)\n",
    "    _, valid_samples = samples[:n//2], samples[n//2:]\n",
    "    y = np.mean(valid_samples[:, 0] ** 2 + valid_samples[:, 1] ** 2)\n",
    "    e_xsq_plus_ysq_results[i] = y\n",
    "print(e_xsq_plus_ysq_results.std(), e_xsq_plus_ysq_results.mean())"
   ]
  },
  {
   "cell_type": "code",
   "execution_count": 12,
   "metadata": {},
   "outputs": [
    {
     "data": {
      "text/plain": [
       "8.4809797293626"
      ]
     },
     "execution_count": 12,
     "metadata": {},
     "output_type": "execute_result"
    }
   ],
   "source": [
    "e_xsq_plus_ysq_results[2]"
   ]
  },
  {
   "cell_type": "code",
   "execution_count": 13,
   "metadata": {},
   "outputs": [
    {
     "name": "stderr",
     "output_type": "stream",
     "text": [
      "/home/sjack/.cache/pypoetry/virtualenvs/computational-statistics-qlF0ErcH-py3.11/lib/python3.11/site-packages/seaborn/_oldcore.py:1498: FutureWarning: is_categorical_dtype is deprecated and will be removed in a future version. Use isinstance(dtype, CategoricalDtype) instead\n",
      "  if pd.api.types.is_categorical_dtype(vector):\n",
      "/home/sjack/.cache/pypoetry/virtualenvs/computational-statistics-qlF0ErcH-py3.11/lib/python3.11/site-packages/seaborn/_oldcore.py:1498: FutureWarning: is_categorical_dtype is deprecated and will be removed in a future version. Use isinstance(dtype, CategoricalDtype) instead\n",
      "  if pd.api.types.is_categorical_dtype(vector):\n",
      "/home/sjack/.cache/pypoetry/virtualenvs/computational-statistics-qlF0ErcH-py3.11/lib/python3.11/site-packages/seaborn/_oldcore.py:1498: FutureWarning: is_categorical_dtype is deprecated and will be removed in a future version. Use isinstance(dtype, CategoricalDtype) instead\n",
      "  if pd.api.types.is_categorical_dtype(vector):\n",
      "/home/sjack/.cache/pypoetry/virtualenvs/computational-statistics-qlF0ErcH-py3.11/lib/python3.11/site-packages/seaborn/_oldcore.py:1498: FutureWarning: is_categorical_dtype is deprecated and will be removed in a future version. Use isinstance(dtype, CategoricalDtype) instead\n",
      "  if pd.api.types.is_categorical_dtype(vector):\n",
      "/home/sjack/.cache/pypoetry/virtualenvs/computational-statistics-qlF0ErcH-py3.11/lib/python3.11/site-packages/seaborn/_oldcore.py:1119: FutureWarning: use_inf_as_na option is deprecated and will be removed in a future version. Convert inf values to NaN before operating instead.\n",
      "  with pd.option_context('mode.use_inf_as_na', True):\n",
      "/home/sjack/.cache/pypoetry/virtualenvs/computational-statistics-qlF0ErcH-py3.11/lib/python3.11/site-packages/seaborn/_oldcore.py:1119: FutureWarning: use_inf_as_na option is deprecated and will be removed in a future version. Convert inf values to NaN before operating instead.\n",
      "  with pd.option_context('mode.use_inf_as_na', True):\n",
      "/home/sjack/.cache/pypoetry/virtualenvs/computational-statistics-qlF0ErcH-py3.11/lib/python3.11/site-packages/seaborn/_oldcore.py:1498: FutureWarning: is_categorical_dtype is deprecated and will be removed in a future version. Use isinstance(dtype, CategoricalDtype) instead\n",
      "  if pd.api.types.is_categorical_dtype(vector):\n",
      "/home/sjack/.cache/pypoetry/virtualenvs/computational-statistics-qlF0ErcH-py3.11/lib/python3.11/site-packages/seaborn/_oldcore.py:1119: FutureWarning: use_inf_as_na option is deprecated and will be removed in a future version. Convert inf values to NaN before operating instead.\n",
      "  with pd.option_context('mode.use_inf_as_na', True):\n",
      "/home/sjack/.cache/pypoetry/virtualenvs/computational-statistics-qlF0ErcH-py3.11/lib/python3.11/site-packages/seaborn/_oldcore.py:1498: FutureWarning: is_categorical_dtype is deprecated and will be removed in a future version. Use isinstance(dtype, CategoricalDtype) instead\n",
      "  if pd.api.types.is_categorical_dtype(vector):\n",
      "/home/sjack/.cache/pypoetry/virtualenvs/computational-statistics-qlF0ErcH-py3.11/lib/python3.11/site-packages/seaborn/_oldcore.py:1119: FutureWarning: use_inf_as_na option is deprecated and will be removed in a future version. Convert inf values to NaN before operating instead.\n",
      "  with pd.option_context('mode.use_inf_as_na', True):\n"
     ]
    },
    {
     "data": {
      "text/plain": [
       "<seaborn.axisgrid.JointGrid at 0x7f738d54ff50>"
      ]
     },
     "execution_count": 13,
     "metadata": {},
     "output_type": "execute_result"
    },
    {
     "data": {
      "image/png": "[encoded data removed]",
      "text/plain": [
       "<Figure size 600x600 with 3 Axes>"
      ]
     },
     "metadata": {},
     "output_type": "display_data"
    }
   ],
   "source": [
    "sns.jointplot(x=samples[n//2:, 0], y=samples[n//2:, 1], kind=\"kde\", fill=True)"
   ]
  },
  {
   "cell_type": "code",
   "execution_count": 14,
   "metadata": {},
   "outputs": [],
   "source": [
    "# 2.2\n",
    "\n",
    "log_target = lambda theta:  -3 * ( np.sqrt( (theta[0] - mu_1)**2 + (theta[1] - mu_2)**2) - r **2 ) **2 + np.abs(2*theta[0] + theta[1])\n",
    "\n",
    "if False:\n",
    "    opt_sigma = optimize_sigma_halfnorm(\n",
    "        partial(metropolis_hastings, theta0=np.array([0.0, 0.0]), n=n, log_target=log_target, proposal=proposal),\n",
    "        n_iterations=50,\n",
    "        sigma_hyperprior=1.5,\n",
    "        sigma_dim=2,\n",
    "    )\n",
    "else:\n",
    "    opt_sigma = np.array(\n",
    "    [[0.47050587, 0.], [0.,0.47050587]]\n",
    ")"
   ]
  },
  {
   "cell_type": "code",
   "execution_count": 16,
   "metadata": {},
   "outputs": [
    {
     "name": "stdout",
     "output_type": "stream",
     "text": [
      "0.04350231299666392 18.900845758775066\n"
     ]
    }
   ],
   "source": [
    "e_xsq_plus_ysq_results_2 = np.zeros(3)\n",
    "for i in range(len(e_xsq_plus_ysq_results_2)):\n",
    "    samples, acceptance_rate = metropolis_hastings(np.array([0.0, 0.0]), 50_000, log_target, proposal, proposal_sigma=opt_sigma)\n",
    "    _, valid_samples = samples[:n//2], samples[n//2:]\n",
    "    y = np.mean(valid_samples[:, 0] ** 2 + valid_samples[:, 1] ** 2)\n",
    "    e_xsq_plus_ysq_results_2[i] = y\n",
    "print(e_xsq_plus_ysq_results_2.std(), e_xsq_plus_ysq_results_2.mean())"
   ]
  },
  {
   "cell_type": "code",
   "execution_count": 17,
   "metadata": {},
   "outputs": [
    {
     "data": {
      "text/plain": [
       "array([18.88733052, 18.95958107, 18.85562569])"
      ]
     },
     "execution_count": 17,
     "metadata": {},
     "output_type": "execute_result"
    }
   ],
   "source": [
    "e_xsq_plus_ysq_results_2"
   ]
  },
  {
   "cell_type": "code",
   "execution_count": 14,
   "metadata": {},
   "outputs": [
    {
     "name": "stderr",
     "output_type": "stream",
     "text": [
      "/home/sjack/.cache/pypoetry/virtualenvs/computational-statistics-qlF0ErcH-py3.11/lib/python3.11/site-packages/seaborn/_oldcore.py:1498: FutureWarning: is_categorical_dtype is deprecated and will be removed in a future version. Use isinstance(dtype, CategoricalDtype) instead\n",
      "  if pd.api.types.is_categorical_dtype(vector):\n",
      "/home/sjack/.cache/pypoetry/virtualenvs/computational-statistics-qlF0ErcH-py3.11/lib/python3.11/site-packages/seaborn/_oldcore.py:1498: FutureWarning: is_categorical_dtype is deprecated and will be removed in a future version. Use isinstance(dtype, CategoricalDtype) instead\n",
      "  if pd.api.types.is_categorical_dtype(vector):\n",
      "/home/sjack/.cache/pypoetry/virtualenvs/computational-statistics-qlF0ErcH-py3.11/lib/python3.11/site-packages/seaborn/_oldcore.py:1498: FutureWarning: is_categorical_dtype is deprecated and will be removed in a future version. Use isinstance(dtype, CategoricalDtype) instead\n",
      "  if pd.api.types.is_categorical_dtype(vector):\n",
      "/home/sjack/.cache/pypoetry/virtualenvs/computational-statistics-qlF0ErcH-py3.11/lib/python3.11/site-packages/seaborn/_oldcore.py:1498: FutureWarning: is_categorical_dtype is deprecated and will be removed in a future version. Use isinstance(dtype, CategoricalDtype) instead\n",
      "  if pd.api.types.is_categorical_dtype(vector):\n",
      "/home/sjack/.cache/pypoetry/virtualenvs/computational-statistics-qlF0ErcH-py3.11/lib/python3.11/site-packages/seaborn/_oldcore.py:1119: FutureWarning: use_inf_as_na option is deprecated and will be removed in a future version. Convert inf values to NaN before operating instead.\n",
      "  with pd.option_context('mode.use_inf_as_na', True):\n",
      "/home/sjack/.cache/pypoetry/virtualenvs/computational-statistics-qlF0ErcH-py3.11/lib/python3.11/site-packages/seaborn/_oldcore.py:1119: FutureWarning: use_inf_as_na option is deprecated and will be removed in a future version. Convert inf values to NaN before operating instead.\n",
      "  with pd.option_context('mode.use_inf_as_na', True):\n",
      "/home/sjack/.cache/pypoetry/virtualenvs/computational-statistics-qlF0ErcH-py3.11/lib/python3.11/site-packages/seaborn/_oldcore.py:1498: FutureWarning: is_categorical_dtype is deprecated and will be removed in a future version. Use isinstance(dtype, CategoricalDtype) instead\n",
      "  if pd.api.types.is_categorical_dtype(vector):\n",
      "/home/sjack/.cache/pypoetry/virtualenvs/computational-statistics-qlF0ErcH-py3.11/lib/python3.11/site-packages/seaborn/_oldcore.py:1119: FutureWarning: use_inf_as_na option is deprecated and will be removed in a future version. Convert inf values to NaN before operating instead.\n",
      "  with pd.option_context('mode.use_inf_as_na', True):\n",
      "/home/sjack/.cache/pypoetry/virtualenvs/computational-statistics-qlF0ErcH-py3.11/lib/python3.11/site-packages/seaborn/_oldcore.py:1498: FutureWarning: is_categorical_dtype is deprecated and will be removed in a future version. Use isinstance(dtype, CategoricalDtype) instead\n",
      "  if pd.api.types.is_categorical_dtype(vector):\n",
      "/home/sjack/.cache/pypoetry/virtualenvs/computational-statistics-qlF0ErcH-py3.11/lib/python3.11/site-packages/seaborn/_oldcore.py:1119: FutureWarning: use_inf_as_na option is deprecated and will be removed in a future version. Convert inf values to NaN before operating instead.\n",
      "  with pd.option_context('mode.use_inf_as_na', True):\n"
     ]
    },
    {
     "data": {
      "text/plain": [
       "<seaborn.axisgrid.JointGrid at 0x7ffacebc2a10>"
      ]
     },
     "execution_count": 14,
     "metadata": {},
     "output_type": "execute_result"
    },
    {
     "data": {
      "image/png": "[encoded data removed]",
      "text/plain": [
       "<Figure size 600x600 with 3 Axes>"
      ]
     },
     "metadata": {},
     "output_type": "display_data"
    }
   ],
   "source": [
    "sns.jointplot(x=samples[n//2:, 0], y=samples[n//2:, 1], kind=\"kde\", fill=True)"
   ]
  },
  {
   "cell_type": "markdown",
   "metadata": {},
   "source": [
    "## 3. MCMC sampling for the posterior of the mean of the Student-t distribution (6 points)\n",
    "\n",
    "In this exercise we will use MCMC to sample the posterior distribution over the location (or mean) parameter $\\mu$ of [Student's $t$-distribution](https://en.wikipedia.org/wiki/Student%27s_t-distribution) for a set of data points $X = (x_i)_{i=1}^n$ that are assumed to be conditionally independent given $\\mu$, i.e.\n",
    "$$ p(X | \\mu) = \\prod_{i=1}^n p(x_i | \\mu), $$\n",
    "where $p(x_i | \\mu)$ is the Student's $t$-distribution centred at $\\mu$ with $\\nu = 5$ degrees of freedom.\n",
    "\n",
    "Using the data loaded in the below code as $X$,\n",
    "write a Metropolis-Hastings sampler to draw samples from $p(\\mu | X)$ when the prior $p(\\mu)$ is as follows, and return the required posterior statistics to Moodle.\n",
    "\n",
    "1. $p(\\mu) = \\mathcal{N}(\\mu;\\; 0, 1^2)$. Report the posterior mean and standard deviation of $\\mu$, i.e. mean and standard deviation of $p(\\mu | X)$ estimated from the Monte Carlo samples to Moodle.\n",
    "2. $p(\\mu) = \\mathrm{Uniform}(\\mu;\\; -5, 5)$. Report the posterior mean and standard deviation of $\\mu$, i.e. mean and standard deviation of $p(\\mu | X)$ estimated from the Monte Carlo samples to Moodle.\n",
    "\n",
    "The require tolerance is $\\pm 0.03$.\n",
    "\n",
    "*Hints*: \n",
    "- Please see Chapter 7 of the course notes for more background. \n",
    "- You can evaluate the log-pdf of the Student's $t$-distribution using `scipy.stats.t.logpdf()`.\n",
    "- You can compute posterior mean and standard deviation directly as the mean and standard deviation of your samples. \n",
    "- A suitably scaled normal distribution centred at the current point should be a good proposal.\n",
    "- Remember to throw out the warm-up samples!"
   ]
  },
  {
   "cell_type": "code",
   "execution_count": 18,
   "metadata": {},
   "outputs": [],
   "source": [
    "import numpy as np\n",
    "import numpy.random as npr\n",
    "import pandas as pd\n",
    "\n",
    "data = pd.read_csv('https://raw.githubusercontent.com/lacerbi/compstats-files/main/data/toydata2.txt', sep='\\t', header=None)\n",
    "data = data.values\n",
    "data = np.array(data[:,0])"
   ]
  },
  {
   "cell_type": "code",
   "execution_count": 26,
   "metadata": {},
   "outputs": [
    {
     "name": "stdout",
     "output_type": "stream",
     "text": [
      "Acceptance rate: 0.51913\n",
      "Acceptance rate: 0.51998\n",
      "Acceptance rate: 0.51744\n"
     ]
    }
   ],
   "source": [
    "\n",
    "# 3.1\n",
    "\n",
    "log_prior = lambda mu: stats.norm(0, 1).logpdf(mu)\n",
    "log_likelihood = lambda mu: stats.nct(5, mu).logpdf(data)\n",
    "log_posterior = lambda mu: np.sum(log_prior(mu) + log_likelihood(mu))\n",
    "proposal = lambda theta, sigma: stats.norm(theta, sigma).rvs()\n",
    "\n",
    "if False:\n",
    "    opt_sigma = optimize_sigma_halfnorm(\n",
    "        mcmc=partial(metropolis_hastings, theta0=np.array([0]), n=1000, log_target=log_posterior, proposal=proposal),\n",
    "        sigma_hyperprior=1.5,\n",
    "        n_iterations=50,\n",
    "    )\n",
    "else:\n",
    "    opt_sigma = np.array(0.21154307)\n",
    "\n",
    "n = 100_000\n",
    "\n",
    "del(samples)\n",
    "results = []\n",
    "for i in range(3):\n",
    "    samples, acceptance_rate = metropolis_hastings(theta0=np.array([0]), \n",
    "                                                n=n, \n",
    "                                                log_target=log_posterior, \n",
    "                                                proposal=proposal,\n",
    "                                                proposal_sigma=opt_sigma,)\n",
    "    results.append(samples[n//2:])\n",
    "    print(f\"Acceptance rate: {acceptance_rate}\")\n",
    "del(n)"
   ]
  },
  {
   "cell_type": "code",
   "execution_count": 27,
   "metadata": {},
   "outputs": [
    {
     "data": {
      "text/plain": [
       "array([[1.20687882],\n",
       "       [1.20653798],\n",
       "       [1.20846213]])"
      ]
     },
     "execution_count": 27,
     "metadata": {},
     "output_type": "execute_result"
    }
   ],
   "source": [
    "np.array(results).mean(axis=1)"
   ]
  },
  {
   "cell_type": "code",
   "execution_count": 30,
   "metadata": {},
   "outputs": [
    {
     "data": {
      "text/plain": [
       "array([[0.11262216],\n",
       "       [0.11286266],\n",
       "       [0.11192676]])"
      ]
     },
     "execution_count": 30,
     "metadata": {},
     "output_type": "execute_result"
    }
   ],
   "source": [
    "np.array(results).std(axis=1)"
   ]
  },
  {
   "cell_type": "code",
   "execution_count": 31,
   "metadata": {},
   "outputs": [
    {
     "name": "stdout",
     "output_type": "stream",
     "text": [
      "Acceptance rate: 0.5029\n",
      "Acceptance rate: 0.50208\n",
      "Acceptance rate: 0.5013\n",
      "Acceptance rate: 0.50136\n",
      "Acceptance rate: 0.50144\n"
     ]
    }
   ],
   "source": [
    "\n",
    "# 3.2\n",
    "n=50_000\n",
    "log_prior = lambda mu: stats.uniform(-5, 10).logpdf(mu)\n",
    "\n",
    "if False:\n",
    "    opt_sigma = optimize_sigma_halfnorm(\n",
    "        mcmc=partial(metropolis_hastings, theta0=np.array([0]), n=1000, log_target=log_posterior, proposal=proposal),\n",
    "        sigma_hyperprior=1,\n",
    "        n_iterations=50,\n",
    "    )\n",
    "else:\n",
    "    opt_sigma = np.array(0.41597794)\n",
    "\n",
    "\n",
    "del(samples)\n",
    "results = []\n",
    "for i in range(5):\n",
    "    samples, acceptance_rate = metropolis_hastings(theta0=np.array([0]), \n",
    "                                                n=n, \n",
    "                                                log_target=log_posterior, \n",
    "                                                proposal=proposal,\n",
    "                                                proposal_sigma=opt_sigma,\n",
    "    )\n",
    "    results.append(samples[n//2:])\n",
    "    print(f\"Acceptance rate: {acceptance_rate}\")\n",
    "\n",
    "\n"
   ]
  },
  {
   "cell_type": "code",
   "execution_count": 37,
   "metadata": {},
   "outputs": [
    {
     "data": {
      "text/plain": [
       "0.20849463582641115"
      ]
     },
     "execution_count": 37,
     "metadata": {},
     "output_type": "execute_result"
    }
   ],
   "source": [
    "rr = np.array(results)\n",
    "np.median(rr.std(axis=1))"
   ]
  },
  {
   "cell_type": "markdown",
   "metadata": {},
   "source": [
    "## 4. MCMC sampling for the posterior of gamma distribution parameters (6 points)\n",
    "\n",
    "In this exercise we test Bayesian estimation of the parameters $\\alpha, \\beta$ of the [gamma distribution](https://en.wikipedia.org/wiki/Gamma_distribution) for a given data set. We will use the shape/rate parametrisation of the gamma distribution. Under this parametrisation, the probability density function of the gamma distribution is\n",
    "$$ p(x) = \\mathrm{Gamma}(x;\\; \\alpha, \\beta) = \\frac{\\beta^\\alpha}{\\Gamma(\\alpha)} x^{\\alpha-1} \\exp(-\\beta x), \\quad \\alpha,\\beta > 0,$$\n",
    "where $\\Gamma(x)$ is the [gamma function](https://en.wikipedia.org/wiki/Gamma_function).\n",
    "\n",
    "The prior distributions of the parameters $\\alpha$ and $\\beta$ are\n",
    "$$ p(\\alpha) = \\mathrm{Gamma}\\left(\\frac{1}{2}, \\frac{1}{2}\\right), \\quad p(\\beta) = \\mathrm{Gamma}\\left(\\frac{1}{2}, \\frac{1}{2}\\right), $$\n",
    "and we assume a factorized prior, i.e. $$p(\\alpha, \\beta) = p(\\alpha) p(\\beta).$$\n",
    "\n",
    "Please remember that the Gamma distribution has the additional constraint that its parameters $\\alpha$ and $\\beta$ need to be positive. This can be accomplised by parametrising using new unconstrained variables $a,b$ with $\\alpha = \\exp(a)$ and $\\beta = \\exp(b)$.\n",
    "\n",
    "1. Load the data set $\\mathcal{D} = \\{ x_i | i = 1, \\dots, n \\}$ using the function below.\n",
    "2. Implement the log-probability density function of the gamma distribution. Report the value of the log-probability density $\\ln p(\\alpha)$ at $\\alpha = 1$.\n",
    "3. Transform the prior probability densities of $\\alpha$ and $\\beta$ to distributions over unbounded variables $a, b$. Report the log-density value $\\ln p(a)$ evaluated at $a=1$ in Moodle. (*Hint*: See Sec. 7.3.3. in the course notes!)\n",
    "4. Sample from the posterior $$p(a, b | \\mathcal{D}) \\propto p(\\mathcal{D}| a, b) p(a) p(b) = \\left[\\prod_{i=1}^n \\text{Gamma}(x_i; \\exp(a), \\exp(b))\\right] p(a) p(b)$$ using a Metropolis-Hastings sampler. *Note*: The symbol $\\propto$ means \"proportional to\", since we omitted the normalization constant $p(\\mathcal{D})$ in the denominator of Bayes' theorem. We can do this since Metropolis-Hastings (as most MCMC samplers) does not need the target density to be normalized.\n",
    "5. Transform the values of $a,b$ back to $\\alpha, \\beta$ and report the posterior means and standard deviations (`np.mean(alpha_samples)`, `np.std(alpha_samples)`, `np.mean(beta_samples)`, `np.std(beta_samples)`) for $\\alpha$ and $\\beta$ in Moodle.\n",
    "\n",
    "The required tolerance for the posterior statistics is $\\pm 0.1$.\n",
    "\n",
    "*Hints*: \n",
    "- You can check your implementations of the probability density functions by making sure they are properly normalised using e.g. `scipy.integrate.quad()`. \n",
    "- A multivariate normal distribution centred at the current point should be a good proposal. Remember to throw out the warm-up samples!\n",
    "- As a help, we already provide an implementation of the log pdf of the gamma distribution."
   ]
  },
  {
   "cell_type": "code",
   "execution_count": 62,
   "metadata": {},
   "outputs": [
    {
     "name": "stdout",
     "output_type": "stream",
     "text": [
      "-1.4189385332046727\n",
      "-2.7780794474341954\n"
     ]
    }
   ],
   "source": [
    "import numpy as np\n",
    "import pandas as pd\n",
    "import scipy.special as scs\n",
    "\n",
    "# 1 load dataset\n",
    "\n",
    "data1 = pd.read_csv('https://raw.githubusercontent.com/lacerbi/compstats-files/main/data/toydata.txt', sep='\\t', header=None)\n",
    "data1 = data1.values\n",
    "data1 = np.array(data1[:,0])\n",
    "\n",
    "# 2\n",
    "\n",
    "def gamma_logpdf(x, alpha, beta):\n",
    "    \"\"\"Log pdf of the gamma distribution with shape/rate parameters alpha and beta.\"\"\"\n",
    "    return (alpha*np.log(beta) - scs.gammaln(alpha) + (alpha-1) * np.log(x) - beta * x)\n",
    "\n",
    "# 3\n",
    "\n",
    "log_alpha_prior = lambda alpha: gamma_logpdf(alpha, .5, .5)\n",
    "log_beta_prior = lambda beta: gamma_logpdf(beta, .5, .5)\n",
    "log_prior = lambda alpha, beta: log_alpha_prior(np.exp(alpha)) + log_beta_prior(np.exp(beta))\n",
    "log_likelihood = lambda alpha, beta: gamma_logpdf(data1, np.exp(alpha), np.exp(beta))\n",
    "log_posterior = lambda theta: np.sum(log_prior(theta[0], theta[1]) + log_likelihood(theta[0], theta[1]))\n",
    "print(log_alpha_prior(1))\n",
    "print(log_alpha_prior(np.exp(1)))\n"
   ]
  },
  {
   "cell_type": "code",
   "execution_count": 49,
   "metadata": {},
   "outputs": [],
   "source": [
    "proposal = lambda theta, sigma: stats.multivariate_normal(theta, sigma**2).rvs()\n",
    "if False:\n",
    "    opt_sigma = optimize_sigma_halfnorm(\n",
    "        mcmc=partial(metropolis_hastings, theta0=np.array([0, 0]), n=1000, log_target=log_posterior, proposal=proposal),\n",
    "        sigma_hyperprior=2,\n",
    "        n_iterations=50,\n",
    "        sigma_dim=2,\n",
    "    )\n",
    "else:\n",
    "    opt_sigma = np.array([[0.19673212,0.        ], [0., 0.19673212]])\n",
    "\n"
   ]
  },
  {
   "cell_type": "code",
   "execution_count": 51,
   "metadata": {},
   "outputs": [
    {
     "name": "stderr",
     "output_type": "stream",
     "text": [
      "/tmp/ipykernel_18166/2891962782.py:15: RuntimeWarning: divide by zero encountered in log\n",
      "  return (alpha*np.log(beta) - scs.gammaln(alpha) + (alpha-1) * np.log(x) - beta * x)\n",
      "/tmp/ipykernel_18166/2891962782.py:23: RuntimeWarning: invalid value encountered in add\n",
      "  log_posterior = lambda theta: np.sum(log_prior(theta[0], theta[1]) + log_likelihood(theta[0], theta[1]))\n"
     ]
    },
    {
     "name": "stdout",
     "output_type": "stream",
     "text": [
      "Acceptance rate: 0.32272\n",
      "Acceptance rate: 0.32724\n",
      "Acceptance rate: 0.32508\n",
      "Acceptance rate: 0.32624\n",
      "Acceptance rate: 0.32376\n"
     ]
    }
   ],
   "source": [
    "results = []\n",
    "for i in range(5):\n",
    "    samples, acceptance_rate = metropolis_hastings(\n",
    "    theta0=np.array([0, 0]),\n",
    "    n=25000,\n",
    "    log_target=log_posterior,\n",
    "    proposal=proposal,\n",
    "    proposal_sigma=opt_sigma,\n",
    "    )\n",
    "    results.append(samples[12500:])\n",
    "    print(f\"Acceptance rate: {acceptance_rate}\")\n"
   ]
  },
  {
   "cell_type": "code",
   "execution_count": 60,
   "metadata": {},
   "outputs": [
    {
     "data": {
      "text/plain": [
       "array([6.73049148e-004, 4.94065646e-324])"
      ]
     },
     "execution_count": 60,
     "metadata": {},
     "output_type": "execute_result"
    }
   ],
   "source": [
    "np.median(np.exp(np.array(results)).mean(axis=1), axis=0)"
   ]
  },
  {
   "cell_type": "code",
   "execution_count": null,
   "metadata": {},
   "outputs": [],
   "source": []
  }
 ],
 "metadata": {
  "kernelspec": {
   "display_name": "computational-statistics-qlF0ErcH-py3.11",
   "language": "python",
   "name": "python3"
  },
  "language_info": {
   "codemirror_mode": {
    "name": "ipython",
    "version": 3
   },
   "file_extension": ".py",
   "mimetype": "text/x-python",
   "name": "python",
   "nbconvert_exporter": "python",
   "pygments_lexer": "ipython3",
   "version": "3.11.5"
  },
  "vscode": {
   "interpreter": {
    "hash": "53d6570113b994f255c5776c8cfb3ba753c6be772e819a2f7ee89343d6cab335"
   }
  }
 },
 "nbformat": 4,
 "nbformat_minor": 1
}
