{
 "cells": [
  {
   "cell_type": "markdown",
   "metadata": {},
   "source": [
    "University of Helsinki, Master's Programme in Mathematics and Statistics  \n",
    "MAST32001 Computational Statistics, Autumn 2023  \n",
    "Luigi Acerbi\n",
    "\n",
    "# Week 3 exercises\n",
    "\n",
    "**General hints**:  \n",
    "- **In order to estimate the accuracy of your answer**, it is recommended to run the sampler a few times and compute the standard deviation of the values you obtain. If the standard deviation of the values you obtain is smaller than the tolerance, the average of the values you obtain should be within the tolerance, assuming everything was done correctly.\n",
    "- Monte Carlo error scales as $1/\\sqrt{n}$ with the number of iterations $n$, i.e. you need to increase the number of iterations by a factor of 4 to cut the error in half."
   ]
  },
  {
   "cell_type": "code",
   "execution_count": 2,
   "metadata": {},
   "outputs": [],
   "source": [
    "from typing import Callable\n",
    "import numpy as np\n",
    "from scipy import stats\n",
    "import matplotlib.pyplot as plt\n",
    "import seaborn as sns\n",
    "import scipy.integrate as integrate\n",
    "from functools import partial\n",
    "from typing import Any\n",
    "\n",
    "\n",
    "plt.rcParams[\"figure.figsize\"] = (12, 8)\n",
    "plt.rcParams[\"font.size\"] = 14\n",
    "\n",
    "sns.set_style(\"whitegrid\")\n",
    "\n",
    "\n",
    "rng = np.random.default_rng(42)\n"
   ]
  },
  {
   "cell_type": "markdown",
   "metadata": {},
   "source": [
    "## 1. Sampling a 1D distribution (4 points)\n",
    "\n",
    "Write a Metropolis-Hastings sampler to sample from the (unnormalised) distribution\n",
    "$$ P^*(\\theta) = \\cos^2(\\theta) \\exp(-|\\theta|^3) $$\n",
    "using a normal distribution with standard deviation $\\sigma$ as the proposal\n",
    "$q(\\theta' ; \\theta) = \\mathcal{N}(\\theta';\\; \\theta, \\sigma^2)$.\n",
    "\n",
    "1. Initialising the sampler at $\\theta = 0$, draw 10000 samples with $\\sigma=0.5$. Report the acceptance rate of the samples in Moodle.\n",
    "2. Find a value of $\\sigma$ that gives an acceptance rate close to the theoretically optimal value of $0.5$.\n",
    "3. Evaluate $\\mathbb{E}[\\cos(\\theta)]$, using samples drawn with the optimally tuned $\\sigma$. Remember to throw out the warm-up samples! Report the value you obtain in Moodle.\n",
    "\n",
    "The required tolerance for the answer is $\\pm 0.03$.\n",
    "\n",
    "*Hint*: It is useful to check your result by plotting a histogram of your samples and the target density (remembering it is unscaled)."
   ]
  },
  {
   "cell_type": "code",
   "execution_count": 47,
   "metadata": {},
   "outputs": [],
   "source": [
    "# 1\n",
    "def metropolis_hastings(theta0: np.ndarray, \n",
    "                        n: int, \n",
    "                        log_target: Callable[..., np.ndarray], \n",
    "                        proposal: Callable[[float, float, float], np.ndarray],\n",
    "                        proposal_sigma: float = 1.0,\n",
    "                        proposal_scalar: float = 1.0\n",
    "                        ) -> tuple[np.ndarray, float]:\n",
    "    theta = theta0\n",
    "    samples = np.zeros(shape=(n, theta0.shape[0]))\n",
    "    accepts = 0\n",
    "    for i in range(n):\n",
    "        theta_prop = proposal(theta, proposal_scalar, proposal_sigma)\n",
    "        u = rng.uniform(size=theta0.shape[0])\n",
    "        if (np.log(u) < log_target(theta_prop) - log_target(theta)).all():\n",
    "            breakpoint()\n",
    "            theta = theta_prop\n",
    "            accepts += 1\n",
    "        samples[i] = theta\n",
    "    return samples, accepts / n\n",
    "\n"
   ]
  },
  {
   "cell_type": "code",
   "execution_count": 48,
   "metadata": {},
   "outputs": [
    {
     "name": "stderr",
     "output_type": "stream",
     "text": [
      "/tmp/ipykernel_5491/178652009.py:3: RuntimeWarning: invalid value encountered in log\n",
      "  log_target = lambda theta: np.array([np.log(2 * np.cos(theta)) + ( -np.abs(theta)**3)])\n"
     ]
    },
    {
     "name": "stdout",
     "output_type": "stream",
     "text": [
      "Acceptance rate: 0.5328\n"
     ]
    },
    {
     "name": "stderr",
     "output_type": "stream",
     "text": [
      "/home/sjack/.cache/pypoetry/virtualenvs/computational-statistics-qlF0ErcH-py3.11/lib/python3.11/site-packages/seaborn/_oldcore.py:1498: FutureWarning: is_categorical_dtype is deprecated and will be removed in a future version. Use isinstance(dtype, CategoricalDtype) instead\n",
      "  if pd.api.types.is_categorical_dtype(vector):\n",
      "/home/sjack/.cache/pypoetry/virtualenvs/computational-statistics-qlF0ErcH-py3.11/lib/python3.11/site-packages/seaborn/_oldcore.py:1498: FutureWarning: is_categorical_dtype is deprecated and will be removed in a future version. Use isinstance(dtype, CategoricalDtype) instead\n",
      "  if pd.api.types.is_categorical_dtype(vector):\n",
      "/home/sjack/.cache/pypoetry/virtualenvs/computational-statistics-qlF0ErcH-py3.11/lib/python3.11/site-packages/seaborn/_oldcore.py:1498: FutureWarning: is_categorical_dtype is deprecated and will be removed in a future version. Use isinstance(dtype, CategoricalDtype) instead\n",
      "  if pd.api.types.is_categorical_dtype(vector):\n",
      "/home/sjack/.cache/pypoetry/virtualenvs/computational-statistics-qlF0ErcH-py3.11/lib/python3.11/site-packages/seaborn/_oldcore.py:1498: FutureWarning: is_categorical_dtype is deprecated and will be removed in a future version. Use isinstance(dtype, CategoricalDtype) instead\n",
      "  if pd.api.types.is_categorical_dtype(vector):\n",
      "/home/sjack/.cache/pypoetry/virtualenvs/computational-statistics-qlF0ErcH-py3.11/lib/python3.11/site-packages/seaborn/_oldcore.py:1498: FutureWarning: is_categorical_dtype is deprecated and will be removed in a future version. Use isinstance(dtype, CategoricalDtype) instead\n",
      "  if pd.api.types.is_categorical_dtype(vector):\n",
      "/home/sjack/.cache/pypoetry/virtualenvs/computational-statistics-qlF0ErcH-py3.11/lib/python3.11/site-packages/seaborn/_oldcore.py:1119: FutureWarning: use_inf_as_na option is deprecated and will be removed in a future version. Convert inf values to NaN before operating instead.\n",
      "  with pd.option_context('mode.use_inf_as_na', True):\n"
     ]
    },
    {
     "data": {
      "text/plain": [
       "<Axes: ylabel='Density'>"
      ]
     },
     "execution_count": 48,
     "metadata": {},
     "output_type": "execute_result"
    },
    {
     "data": {
      "image/png": "[encoded data removed]",
      "text/plain": [
       "<Figure size 1200x800 with 1 Axes>"
      ]
     },
     "metadata": {},
     "output_type": "display_data"
    }
   ],
   "source": [
    "\n",
    "sd = 0.5\n",
    "n = 10000\n",
    "log_target = lambda theta: np.array([np.log(2 * np.cos(theta)) + ( -np.abs(theta)**3)])\n",
    "proposal = lambda theta, scalar, sigma: np.array([ scalar * stats.norm(theta, sigma**2).rvs()])\n",
    "\n",
    "samples, acceptance_rate = metropolis_hastings(np.array([0.0]), n, log_target, proposal, proposal_scalar=1)\n",
    "print(f\"Acceptance rate: {acceptance_rate}\")\n",
    "\n",
    "sns.histplot(samples, stat=\"density\", bins=50)"
   ]
  },
  {
   "cell_type": "code",
   "execution_count": 49,
   "metadata": {},
   "outputs": [],
   "source": [
    "# 2\n",
    "\n",
    "# let's use a halfnormal to try and find appropriate values for sigma\n",
    "def optimize_sigma_halfnorm(\n",
    "        mcmc: Callable[..., tuple[np.ndarray, float]],\n",
    "        sigma_hyperprior: float,\n",
    "        n_iterations: 100,\n",
    "        n_dim: int = 1,\n",
    "        target_accept: float = .5,\n",
    "        eps: float = 0.05\n",
    ") -> float:\n",
    "    \n",
    "    sigma_candidates = stats.halfnorm(scale=sigma_hyperprior).rvs(n_iterations)\n",
    "    acceptance_rates = np.zeros(n_iterations)\n",
    "    best_acceptance_rate_diff = np.inf\n",
    "    best_sigma = None\n",
    "    for i in range(n_iterations):\n",
    "        s = np.eye(n_dim) * sigma_candidates[i]\n",
    "        breakpoint()\n",
    "        _, acceptance_rate = mcmc(proposal_sigma=s)\n",
    "        acceptance_rates[i] = acceptance_rate\n",
    "        acceptance_diff = np.abs(target_accept - acceptance_rate)\n",
    "        if acceptance_diff < best_acceptance_rate_diff:\n",
    "            best_acceptance_rate_diff = acceptance_diff\n",
    "            best_sigma = s\n",
    "            print(f\"New sigma: {best_sigma} - acceptance rate: {acceptance_rate}\")\n",
    "        if target_accept - eps < acceptance_rate < target_accept + eps:\n",
    "            breakpoint()\n",
    "            print(f\"Converged at iteration {i}\")\n",
    "            return best_sigma\n",
    "    return best_sigma\n"
   ]
  },
  {
   "cell_type": "code",
   "execution_count": 50,
   "metadata": {},
   "outputs": [
    {
     "name": "stdout",
     "output_type": "stream",
     "text": [
      "New sigma: [[0.21102168]] - acceptance rate: 0.9778\n"
     ]
    },
    {
     "name": "stderr",
     "output_type": "stream",
     "text": [
      "/tmp/ipykernel_5491/178652009.py:3: RuntimeWarning: invalid value encountered in log\n",
      "  log_target = lambda theta: np.array([np.log(2 * np.cos(theta)) + ( -np.abs(theta)**3)])\n"
     ]
    },
    {
     "name": "stdout",
     "output_type": "stream",
     "text": [
      "New sigma: [[1.90325305]] - acceptance rate: 0.1817\n",
      "New sigma: [[0.62297374]] - acceptance rate: 0.7894\n",
      "New sigma: [[0.69265018]] - acceptance rate: 0.7447\n",
      "New sigma: [[1.53274812]] - acceptance rate: 0.2725\n",
      "New sigma: [[1.04614021]] - acceptance rate: 0.4987\n",
      "Converged at iteration 13\n",
      "Optimal sigma: [[1.04614021]]\n"
     ]
    }
   ],
   "source": [
    "\n",
    "opt_sigma = optimize_sigma_halfnorm(\n",
    "    partial(metropolis_hastings, theta0=np.array([0.0]), n=10000, log_target=log_target, proposal=proposal),\n",
    "    sigma_hyperprior=1,\n",
    "    n_iterations=50,\n",
    "    target_accept=.5,\n",
    "    eps = .01\n",
    "    )\n",
    "print(f\"Optimal sigma: {opt_sigma}\")"
   ]
  },
  {
   "cell_type": "code",
   "execution_count": 51,
   "metadata": {},
   "outputs": [
    {
     "name": "stderr",
     "output_type": "stream",
     "text": [
      "/tmp/ipykernel_5491/178652009.py:3: RuntimeWarning: invalid value encountered in log\n",
      "  log_target = lambda theta: np.array([np.log(2 * np.cos(theta)) + ( -np.abs(theta)**3)])\n"
     ]
    }
   ],
   "source": [
    "e_cos_results = np.zeros(5)\n",
    "n = 25000\n",
    "for i in range(len(e_cos_results)):\n",
    "    samples, acceptance_rate = metropolis_hastings(np.array([0.0]), n, log_target, proposal, proposal_sigma=opt_sigma)\n",
    "    _, valid_samples = samples[:n//2], samples[n//2:]\n",
    "    y = np.mean(np.cos(valid_samples))\n",
    "    e_cos_results[i] = y\n"
   ]
  },
  {
   "cell_type": "code",
   "execution_count": 52,
   "metadata": {},
   "outputs": [
    {
     "name": "stderr",
     "output_type": "stream",
     "text": [
      "/home/sjack/.cache/pypoetry/virtualenvs/computational-statistics-qlF0ErcH-py3.11/lib/python3.11/site-packages/seaborn/_oldcore.py:1498: FutureWarning: is_categorical_dtype is deprecated and will be removed in a future version. Use isinstance(dtype, CategoricalDtype) instead\n",
      "  if pd.api.types.is_categorical_dtype(vector):\n",
      "/home/sjack/.cache/pypoetry/virtualenvs/computational-statistics-qlF0ErcH-py3.11/lib/python3.11/site-packages/seaborn/_oldcore.py:1498: FutureWarning: is_categorical_dtype is deprecated and will be removed in a future version. Use isinstance(dtype, CategoricalDtype) instead\n",
      "  if pd.api.types.is_categorical_dtype(vector):\n",
      "/home/sjack/.cache/pypoetry/virtualenvs/computational-statistics-qlF0ErcH-py3.11/lib/python3.11/site-packages/seaborn/_oldcore.py:1498: FutureWarning: is_categorical_dtype is deprecated and will be removed in a future version. Use isinstance(dtype, CategoricalDtype) instead\n",
      "  if pd.api.types.is_categorical_dtype(vector):\n",
      "/home/sjack/.cache/pypoetry/virtualenvs/computational-statistics-qlF0ErcH-py3.11/lib/python3.11/site-packages/seaborn/_oldcore.py:1498: FutureWarning: is_categorical_dtype is deprecated and will be removed in a future version. Use isinstance(dtype, CategoricalDtype) instead\n",
      "  if pd.api.types.is_categorical_dtype(vector):\n",
      "/home/sjack/.cache/pypoetry/virtualenvs/computational-statistics-qlF0ErcH-py3.11/lib/python3.11/site-packages/seaborn/_oldcore.py:1498: FutureWarning: is_categorical_dtype is deprecated and will be removed in a future version. Use isinstance(dtype, CategoricalDtype) instead\n",
      "  if pd.api.types.is_categorical_dtype(vector):\n",
      "/home/sjack/.cache/pypoetry/virtualenvs/computational-statistics-qlF0ErcH-py3.11/lib/python3.11/site-packages/seaborn/_oldcore.py:1119: FutureWarning: use_inf_as_na option is deprecated and will be removed in a future version. Convert inf values to NaN before operating instead.\n",
      "  with pd.option_context('mode.use_inf_as_na', True):\n"
     ]
    },
    {
     "data": {
      "text/plain": [
       "<seaborn.axisgrid.FacetGrid at 0x7fe1a5090090>"
      ]
     },
     "execution_count": 52,
     "metadata": {},
     "output_type": "execute_result"
    },
    {
     "data": {
      "image/png": "[encoded data removed]",
      "text/plain": [
       "<Figure size 582.25x500 with 1 Axes>"
      ]
     },
     "metadata": {},
     "output_type": "display_data"
    }
   ],
   "source": [
    "sns.displot(np.cos(valid_samples), stat=\"density\", bins=50)"
   ]
  },
  {
   "cell_type": "code",
   "execution_count": 53,
   "metadata": {},
   "outputs": [
    {
     "name": "stdout",
     "output_type": "stream",
     "text": [
      "0.0025844397294153285 0.8718382476742391\n"
     ]
    }
   ],
   "source": [
    "print(e_cos_results.std(), e_cos_results.mean())"
   ]
  },
  {
   "cell_type": "markdown",
   "metadata": {},
   "source": [
    "## 2. Sampling a 2D distribution (4 points)\n",
    "\n",
    "Write a Metropolis-Hastings sampler to evaluate the following expectations over the given (unnormalised) distributions using a suitably scaled multivariate normal distribution with diagonal covariance as the proposal.\n",
    "\n",
    "1. $E[\\theta_1^2 + \\theta_2^2]$, when $P^*(\\boldsymbol{\\theta}) = \\exp\\left(-3(\\sqrt{(\\theta_1-\\mu_1)^2 + (\\theta_2-\\mu_2)^2} - r^2)^2 \\right)$.\n",
    "2. $E[\\theta_1^2 + \\theta_2^2]$, when $P^*(\\boldsymbol{\\theta}) = \\exp\\left(-3(\\sqrt{(\\theta_1-\\mu_1)^2 + (\\theta_2-\\mu_2)^2} - r^2)^2 + |2\\theta_1 - \\theta_2|\\right)$.\n",
    "\n",
    "Here $\\mu_1 = 1, \\mu_2 = 2$ and $r = \\sqrt{2}$.\n",
    "\n",
    "The required tolerance for the answer is $\\pm 0.3$.\n",
    "\n",
    "*Hint*: It is useful to check your result by plotting a scatter plot of your samples and a contour plot of the logarithm of the target function. Remember to throw out the warm-up samples!"
   ]
  },
  {
   "cell_type": "code",
   "execution_count": 54,
   "metadata": {},
   "outputs": [
    {
     "name": "stdout",
     "output_type": "stream",
     "text": [
      "New sigma: [[0.52827341 0.        ]\n",
      " [0.         0.52827341]] - acceptance rate: 0.5269\n",
      "New sigma: [[0.52649841 0.        ]\n",
      " [0.         0.52649841]] - acceptance rate: 0.5242\n",
      "New sigma: [[0.57796871 0.        ]\n",
      " [0.         0.57796871]] - acceptance rate: 0.5031\n",
      "Converged at iteration 15\n",
      "Optimal sigma: [[0.57796871 0.        ]\n",
      " [0.         0.57796871]]\n"
     ]
    }
   ],
   "source": [
    "mu_1 = 1\n",
    "mu_2 = 2\n",
    "r = np.sqrt(2)\n",
    "\n",
    "# 2.1\n",
    "log_target = lambda theta: -3 * ( np.sqrt( (theta[0] - mu_1)**2 + (theta[1] - mu_2)**2) - r **2 ) **2\n",
    "proposal = lambda theta, scalar, sigma: scalar * stats.multivariate_normal(theta, sigma**2).rvs()\n",
    "\n",
    "opt_sigma = optimize_sigma_halfnorm(\n",
    "    partial(metropolis_hastings, theta0=np.array([0.0, 0.0]), n=10000, log_target=log_target, proposal=proposal),\n",
    "    n_iterations=50,\n",
    "    sigma_hyperprior=1,\n",
    "    n_dim=2,\n",
    "    eps=.01\n",
    "    )\n",
    "print(f\"Optimal sigma: {opt_sigma}\")"
   ]
  },
  {
   "cell_type": "code",
   "execution_count": 55,
   "metadata": {},
   "outputs": [
    {
     "name": "stdout",
     "output_type": "stream",
     "text": [
      "0.41705767192964616 9.213080888285532\n"
     ]
    },
    {
     "name": "stderr",
     "output_type": "stream",
     "text": [
      "/home/sjack/.cache/pypoetry/virtualenvs/computational-statistics-qlF0ErcH-py3.11/lib/python3.11/site-packages/seaborn/_oldcore.py:1498: FutureWarning: is_categorical_dtype is deprecated and will be removed in a future version. Use isinstance(dtype, CategoricalDtype) instead\n",
      "  if pd.api.types.is_categorical_dtype(vector):\n",
      "/home/sjack/.cache/pypoetry/virtualenvs/computational-statistics-qlF0ErcH-py3.11/lib/python3.11/site-packages/seaborn/_oldcore.py:1498: FutureWarning: is_categorical_dtype is deprecated and will be removed in a future version. Use isinstance(dtype, CategoricalDtype) instead\n",
      "  if pd.api.types.is_categorical_dtype(vector):\n",
      "/home/sjack/.cache/pypoetry/virtualenvs/computational-statistics-qlF0ErcH-py3.11/lib/python3.11/site-packages/seaborn/_oldcore.py:1498: FutureWarning: is_categorical_dtype is deprecated and will be removed in a future version. Use isinstance(dtype, CategoricalDtype) instead\n",
      "  if pd.api.types.is_categorical_dtype(vector):\n",
      "/home/sjack/.cache/pypoetry/virtualenvs/computational-statistics-qlF0ErcH-py3.11/lib/python3.11/site-packages/seaborn/_oldcore.py:1498: FutureWarning: is_categorical_dtype is deprecated and will be removed in a future version. Use isinstance(dtype, CategoricalDtype) instead\n",
      "  if pd.api.types.is_categorical_dtype(vector):\n",
      "/home/sjack/.cache/pypoetry/virtualenvs/computational-statistics-qlF0ErcH-py3.11/lib/python3.11/site-packages/seaborn/_oldcore.py:1119: FutureWarning: use_inf_as_na option is deprecated and will be removed in a future version. Convert inf values to NaN before operating instead.\n",
      "  with pd.option_context('mode.use_inf_as_na', True):\n",
      "/home/sjack/.cache/pypoetry/virtualenvs/computational-statistics-qlF0ErcH-py3.11/lib/python3.11/site-packages/seaborn/_oldcore.py:1119: FutureWarning: use_inf_as_na option is deprecated and will be removed in a future version. Convert inf values to NaN before operating instead.\n",
      "  with pd.option_context('mode.use_inf_as_na', True):\n",
      "/home/sjack/.cache/pypoetry/virtualenvs/computational-statistics-qlF0ErcH-py3.11/lib/python3.11/site-packages/seaborn/_oldcore.py:1498: FutureWarning: is_categorical_dtype is deprecated and will be removed in a future version. Use isinstance(dtype, CategoricalDtype) instead\n",
      "  if pd.api.types.is_categorical_dtype(vector):\n",
      "/home/sjack/.cache/pypoetry/virtualenvs/computational-statistics-qlF0ErcH-py3.11/lib/python3.11/site-packages/seaborn/_oldcore.py:1119: FutureWarning: use_inf_as_na option is deprecated and will be removed in a future version. Convert inf values to NaN before operating instead.\n",
      "  with pd.option_context('mode.use_inf_as_na', True):\n",
      "/home/sjack/.cache/pypoetry/virtualenvs/computational-statistics-qlF0ErcH-py3.11/lib/python3.11/site-packages/seaborn/_oldcore.py:1498: FutureWarning: is_categorical_dtype is deprecated and will be removed in a future version. Use isinstance(dtype, CategoricalDtype) instead\n",
      "  if pd.api.types.is_categorical_dtype(vector):\n",
      "/home/sjack/.cache/pypoetry/virtualenvs/computational-statistics-qlF0ErcH-py3.11/lib/python3.11/site-packages/seaborn/_oldcore.py:1119: FutureWarning: use_inf_as_na option is deprecated and will be removed in a future version. Convert inf values to NaN before operating instead.\n",
      "  with pd.option_context('mode.use_inf_as_na', True):\n"
     ]
    },
    {
     "data": {
      "image/png": "[encoded data removed]",
      "text/plain": [
       "<Figure size 600x600 with 3 Axes>"
      ]
     },
     "metadata": {},
     "output_type": "display_data"
    }
   ],
   "source": [
    "n = 50_000\n",
    "e_xsq_plus_ysq_results = np.zeros(10)\n",
    "for i in range(len(e_xsq_plus_ysq_results)):\n",
    "    samples, _ = metropolis_hastings(np.array([0.0, 0.0]), n, log_target, proposal, proposal_sigma=opt_sigma)\n",
    "    _, valid_samples = samples[:n//2], samples[n//2:]\n",
    "    y = np.mean(valid_samples[:, 0] ** 2 + valid_samples[:, 1] ** 2)\n",
    "    e_xsq_plus_ysq_results[i] = y\n",
    "print(e_xsq_plus_ysq_results.std(), e_xsq_plus_ysq_results.mean())\n",
    "sns.jointplot(x=samples[n//2:, 0], y=samples[n//2:, 1], kind=\"kde\", fill=True)\n",
    "del(n)"
   ]
  },
  {
   "cell_type": "code",
   "execution_count": 60,
   "metadata": {},
   "outputs": [
    {
     "name": "stdout",
     "output_type": "stream",
     "text": [
      "New sigma: [[1.24086871 0.        ]\n",
      " [0.         1.24086871]] - acceptance rate: 0.185\n",
      "New sigma: [[0.87683837 0.        ]\n",
      " [0.         0.87683837]] - acceptance rate: 0.2821\n",
      "New sigma: [[0.70469512 0.        ]\n",
      " [0.         0.70469512]] - acceptance rate: 0.356\n",
      "New sigma: [[0.33791283 0.        ]\n",
      " [0.         0.33791283]] - acceptance rate: 0.6084\n",
      "New sigma: [[0.45347612 0.        ]\n",
      " [0.         0.45347612]] - acceptance rate: 0.5124\n",
      "New sigma: [[0.49245615 0.        ]\n",
      " [0.         0.49245615]] - acceptance rate: 0.4879\n",
      "Optimal sigma: [[0.49245615 0.        ]\n",
      " [0.         0.49245615]]\n"
     ]
    }
   ],
   "source": [
    "# 2.2\n",
    "n = 50_000\n",
    "log_target = lambda theta:  -3 * ( np.sqrt( (theta[0] - mu_1)**2 + (theta[1] - mu_2)**2) - r **2 ) **2 + np.abs(2*theta[0] - theta[1])\n",
    "\n",
    "\n",
    "opt_sigma = optimize_sigma_halfnorm(\n",
    "        partial(metropolis_hastings, theta0=np.array([0.0, 0.0]), n=10000, log_target=log_target, proposal=proposal),\n",
    "        n_iterations=50,\n",
    "        sigma_hyperprior=1,\n",
    "        n_dim=2,\n",
    "        eps=.01\n",
    "    )\n",
    "print(f\"Optimal sigma: {opt_sigma}\")"
   ]
  },
  {
   "cell_type": "code",
   "execution_count": 61,
   "metadata": {},
   "outputs": [],
   "source": [
    "e_xsq_plus_ysq_results_2 = np.zeros(10)\n",
    "for i in range(len(e_xsq_plus_ysq_results_2)):\n",
    "    samples, acceptance_rate = metropolis_hastings(np.array([0.0, 0.0]), n, log_target, proposal, proposal_sigma=opt_sigma)\n",
    "    _, valid_samples = samples[:n//2], samples[n//2:]\n",
    "    y = np.mean(valid_samples[:, 0] ** 2 + valid_samples[:, 1] ** 2)\n",
    "    e_xsq_plus_ysq_results_2[i] = y\n"
   ]
  },
  {
   "cell_type": "code",
   "execution_count": 62,
   "metadata": {},
   "outputs": [
    {
     "name": "stdout",
     "output_type": "stream",
     "text": [
      "0.13161684905432824 10.849037555375016\n",
      "[10.88201978 10.76631596 10.99417849 11.06014285 10.97107112 10.91031009\n",
      " 10.73798917 10.75998908 10.80111332 10.60724569]\n"
     ]
    },
    {
     "name": "stderr",
     "output_type": "stream",
     "text": [
      "/home/sjack/.cache/pypoetry/virtualenvs/computational-statistics-qlF0ErcH-py3.11/lib/python3.11/site-packages/seaborn/_oldcore.py:1498: FutureWarning: is_categorical_dtype is deprecated and will be removed in a future version. Use isinstance(dtype, CategoricalDtype) instead\n",
      "  if pd.api.types.is_categorical_dtype(vector):\n",
      "/home/sjack/.cache/pypoetry/virtualenvs/computational-statistics-qlF0ErcH-py3.11/lib/python3.11/site-packages/seaborn/_oldcore.py:1498: FutureWarning: is_categorical_dtype is deprecated and will be removed in a future version. Use isinstance(dtype, CategoricalDtype) instead\n",
      "  if pd.api.types.is_categorical_dtype(vector):\n",
      "/home/sjack/.cache/pypoetry/virtualenvs/computational-statistics-qlF0ErcH-py3.11/lib/python3.11/site-packages/seaborn/_oldcore.py:1498: FutureWarning: is_categorical_dtype is deprecated and will be removed in a future version. Use isinstance(dtype, CategoricalDtype) instead\n",
      "  if pd.api.types.is_categorical_dtype(vector):\n",
      "/home/sjack/.cache/pypoetry/virtualenvs/computational-statistics-qlF0ErcH-py3.11/lib/python3.11/site-packages/seaborn/_oldcore.py:1498: FutureWarning: is_categorical_dtype is deprecated and will be removed in a future version. Use isinstance(dtype, CategoricalDtype) instead\n",
      "  if pd.api.types.is_categorical_dtype(vector):\n",
      "/home/sjack/.cache/pypoetry/virtualenvs/computational-statistics-qlF0ErcH-py3.11/lib/python3.11/site-packages/seaborn/_oldcore.py:1119: FutureWarning: use_inf_as_na option is deprecated and will be removed in a future version. Convert inf values to NaN before operating instead.\n",
      "  with pd.option_context('mode.use_inf_as_na', True):\n",
      "/home/sjack/.cache/pypoetry/virtualenvs/computational-statistics-qlF0ErcH-py3.11/lib/python3.11/site-packages/seaborn/_oldcore.py:1119: FutureWarning: use_inf_as_na option is deprecated and will be removed in a future version. Convert inf values to NaN before operating instead.\n",
      "  with pd.option_context('mode.use_inf_as_na', True):\n",
      "/home/sjack/.cache/pypoetry/virtualenvs/computational-statistics-qlF0ErcH-py3.11/lib/python3.11/site-packages/seaborn/_oldcore.py:1498: FutureWarning: is_categorical_dtype is deprecated and will be removed in a future version. Use isinstance(dtype, CategoricalDtype) instead\n",
      "  if pd.api.types.is_categorical_dtype(vector):\n",
      "/home/sjack/.cache/pypoetry/virtualenvs/computational-statistics-qlF0ErcH-py3.11/lib/python3.11/site-packages/seaborn/_oldcore.py:1119: FutureWarning: use_inf_as_na option is deprecated and will be removed in a future version. Convert inf values to NaN before operating instead.\n",
      "  with pd.option_context('mode.use_inf_as_na', True):\n",
      "/home/sjack/.cache/pypoetry/virtualenvs/computational-statistics-qlF0ErcH-py3.11/lib/python3.11/site-packages/seaborn/_oldcore.py:1498: FutureWarning: is_categorical_dtype is deprecated and will be removed in a future version. Use isinstance(dtype, CategoricalDtype) instead\n",
      "  if pd.api.types.is_categorical_dtype(vector):\n",
      "/home/sjack/.cache/pypoetry/virtualenvs/computational-statistics-qlF0ErcH-py3.11/lib/python3.11/site-packages/seaborn/_oldcore.py:1119: FutureWarning: use_inf_as_na option is deprecated and will be removed in a future version. Convert inf values to NaN before operating instead.\n",
      "  with pd.option_context('mode.use_inf_as_na', True):\n"
     ]
    },
    {
     "data": {
      "image/png": "[encoded data removed]",
      "text/plain": [
       "<Figure size 600x600 with 3 Axes>"
      ]
     },
     "metadata": {},
     "output_type": "display_data"
    }
   ],
   "source": [
    "print(e_xsq_plus_ysq_results_2.std(), e_xsq_plus_ysq_results_2.mean())\n",
    "print(e_xsq_plus_ysq_results_2)\n",
    "\n",
    "sns.jointplot(x=samples[n//2:, 0], y=samples[n//2:, 1], kind=\"kde\", fill=True)\n",
    "del(n)"
   ]
  },
  {
   "cell_type": "code",
   "execution_count": 63,
   "metadata": {},
   "outputs": [
    {
     "data": {
      "text/plain": [
       "10.841566549996163"
      ]
     },
     "execution_count": 63,
     "metadata": {},
     "output_type": "execute_result"
    }
   ],
   "source": [
    "np.median(e_xsq_plus_ysq_results_2)"
   ]
  },
  {
   "cell_type": "markdown",
   "metadata": {},
   "source": [
    "## 3. MCMC sampling for the posterior of the mean of the Student-t distribution (6 points)\n",
    "\n",
    "In this exercise we will use MCMC to sample the posterior distribution over the location (or mean) parameter $\\mu$ of [Student's $t$-distribution](https://en.wikipedia.org/wiki/Student%27s_t-distribution) for a set of data points $X = (x_i)_{i=1}^n$ that are assumed to be conditionally independent given $\\mu$, i.e.\n",
    "$$ p(X | \\mu) = \\prod_{i=1}^n p(x_i | \\mu), $$\n",
    "where $p(x_i | \\mu)$ is the Student's $t$-distribution centred at $\\mu$ with $\\nu = 5$ degrees of freedom.\n",
    "\n",
    "Using the data loaded in the below code as $X$,\n",
    "write a Metropolis-Hastings sampler to draw samples from $p(\\mu | X)$ when the prior $p(\\mu)$ is as follows, and return the required posterior statistics to Moodle.\n",
    "\n",
    "1. $p(\\mu) = \\mathcal{N}(\\mu;\\; 0, 1^2)$. Report the posterior mean and standard deviation of $\\mu$, i.e. mean and standard deviation of $p(\\mu | X)$ estimated from the Monte Carlo samples to Moodle.\n",
    "2. $p(\\mu) = \\mathrm{Uniform}(\\mu;\\; -5, 5)$. Report the posterior mean and standard deviation of $\\mu$, i.e. mean and standard deviation of $p(\\mu | X)$ estimated from the Monte Carlo samples to Moodle.\n",
    "\n",
    "The require tolerance is $\\pm 0.03$.\n",
    "\n",
    "*Hints*: \n",
    "- Please see Chapter 7 of the course notes for more background. \n",
    "- You can evaluate the log-pdf of the Student's $t$-distribution using `scipy.stats.t.logpdf()`.\n",
    "- You can compute posterior mean and standard deviation directly as the mean and standard deviation of your samples. \n",
    "- A suitably scaled normal distribution centred at the current point should be a good proposal.\n",
    "- Remember to throw out the warm-up samples!"
   ]
  },
  {
   "cell_type": "code",
   "execution_count": 64,
   "metadata": {},
   "outputs": [],
   "source": [
    "import numpy as np\n",
    "import numpy.random as npr\n",
    "import pandas as pd\n",
    "\n",
    "data = pd.read_csv('https://raw.githubusercontent.com/lacerbi/compstats-files/main/data/toydata2.txt', sep='\\t', header=None)\n",
    "data = data.values\n",
    "data = np.array(data[:,0])"
   ]
  },
  {
   "cell_type": "code",
   "execution_count": 66,
   "metadata": {},
   "outputs": [],
   "source": [
    "\n",
    "# 3.1\n",
    "log_prior = lambda mu: np.sum(stats.norm(0, 1**2).logpdf(mu))\n",
    "log_likelihood = lambda mu: np.sum(stats.t(df=5).logpdf(data - mu))\n",
    "log_posterior = lambda mu: log_likelihood(mu) + log_prior(mu)\n",
    "proposal = lambda theta, scalar, sigma: scalar * stats.norm(theta, sigma**2).rvs()\n",
    "\n",
    "#this code takes too long to run\n",
    "# opt_sigma = optimize_sigma_halfnorm(\n",
    "#     mcmc=partial(metropolis_hastings, theta0=np.array([0]), n=10000, log_target=log_posterior, proposal=proposal),\n",
    "#     sigma_hyperprior=1,\n",
    "#     n_iterations=50,\n",
    "#     target_accept=.5,\n",
    "#     eps = .01\n",
    "#     )\n",
    "# print(f\"Optimal sigma: {opt_sigma}\")\n",
    "\n",
    "opt_sigma = 0.57364846"
   ]
  },
  {
   "cell_type": "code",
   "execution_count": 67,
   "metadata": {},
   "outputs": [
    {
     "name": "stdout",
     "output_type": "stream",
     "text": [
      "Acceptance rate: 0.53032\n",
      "Acceptance rate: 0.52938\n",
      "Acceptance rate: 0.52942\n"
     ]
    }
   ],
   "source": [
    "n = 50_000\n",
    "\n",
    "results = []\n",
    "for i in range(3):\n",
    "    samples, acceptance_rate = metropolis_hastings(theta0=np.array([1.0]), \n",
    "                                                n=n, \n",
    "                                                log_target=log_posterior, \n",
    "                                                proposal=proposal,\n",
    "                                                proposal_sigma=opt_sigma)\n",
    "    results.append(samples[n//2:])\n",
    "    print(f\"Acceptance rate: {acceptance_rate}\")"
   ]
  },
  {
   "cell_type": "code",
   "execution_count": 68,
   "metadata": {},
   "outputs": [
    {
     "name": "stdout",
     "output_type": "stream",
     "text": [
      "0.00362479158762443 3.8101262863408016\n"
     ]
    }
   ],
   "source": [
    "print(np.array(results).mean(axis=1).std(), np.median(np.array(results).mean(axis=1)))"
   ]
  },
  {
   "cell_type": "code",
   "execution_count": 69,
   "metadata": {},
   "outputs": [
    {
     "data": {
      "text/plain": [
       "0.18249822157892368"
      ]
     },
     "execution_count": 69,
     "metadata": {},
     "output_type": "execute_result"
    }
   ],
   "source": [
    "np.median(np.array(results).std(axis=1))"
   ]
  },
  {
   "cell_type": "code",
   "execution_count": 70,
   "metadata": {},
   "outputs": [
    {
     "name": "stdout",
     "output_type": "stream",
     "text": [
      "New sigma: [[0.48544461]] - acceptance rate: 0.6363\n",
      "New sigma: [[0.50829644]] - acceptance rate: 0.6037\n",
      "New sigma: [[0.71215093]] - acceptance rate: 0.4015\n",
      "New sigma: [[0.68590528]] - acceptance rate: 0.4245\n",
      "Optimal sigma: [[0.68590528]]\n"
     ]
    }
   ],
   "source": [
    "\n",
    "# 3.2\n",
    "n=50_000\n",
    "log_prior = lambda mu: np.sum(stats.uniform(-5, 10).logpdf(mu))\n",
    "log_posterior = lambda mu: log_likelihood(mu) + log_prior(mu)\n",
    "\n",
    "opt_sigma = optimize_sigma_halfnorm(\n",
    "    mcmc=partial(metropolis_hastings, theta0=np.array([0]), n=10000, log_target=log_posterior, proposal=proposal),\n",
    "    sigma_hyperprior=1,\n",
    "    n_iterations=25,\n",
    "    target_accept=.5,\n",
    "    eps = .01\n",
    ")\n",
    "print(f\"Optimal sigma: {opt_sigma}\")\n",
    "\n",
    "\n",
    "\n",
    "\n",
    "\n"
   ]
  },
  {
   "cell_type": "code",
   "execution_count": 72,
   "metadata": {},
   "outputs": [
    {
     "name": "stdout",
     "output_type": "stream",
     "text": [
      "Acceptance rate: 0.45076\n",
      "Acceptance rate: 0.45294\n",
      "Acceptance rate: 0.4538\n"
     ]
    }
   ],
   "source": [
    "samples, results = None, None\n",
    "results = []\n",
    "n=50_000\n",
    "\n",
    "for i in range(3):\n",
    "    samples, acceptance_rate = metropolis_hastings(theta0=np.array([0]), \n",
    "                                                n=n, \n",
    "                                                log_target=log_posterior, \n",
    "                                                proposal=proposal,\n",
    "                                                proposal_sigma=.65,\n",
    "    )\n",
    "    results.append(samples[n//2:])\n",
    "    print(f\"Acceptance rate: {acceptance_rate}\")\n"
   ]
  },
  {
   "cell_type": "code",
   "execution_count": 73,
   "metadata": {},
   "outputs": [],
   "source": [
    "rr = np.array(results)"
   ]
  },
  {
   "cell_type": "code",
   "execution_count": 74,
   "metadata": {},
   "outputs": [
    {
     "data": {
      "text/plain": [
       "0.0025802052171569126"
      ]
     },
     "execution_count": 74,
     "metadata": {},
     "output_type": "execute_result"
    }
   ],
   "source": [
    "rr.mean(axis=1).std()"
   ]
  },
  {
   "cell_type": "code",
   "execution_count": 75,
   "metadata": {},
   "outputs": [
    {
     "data": {
      "text/plain": [
       "3.9418914003414334"
      ]
     },
     "execution_count": 75,
     "metadata": {},
     "output_type": "execute_result"
    }
   ],
   "source": [
    "np.median(rr.mean(axis=1))"
   ]
  },
  {
   "cell_type": "code",
   "execution_count": 76,
   "metadata": {},
   "outputs": [
    {
     "data": {
      "text/plain": [
       "0.18272044073744367"
      ]
     },
     "execution_count": 76,
     "metadata": {},
     "output_type": "execute_result"
    }
   ],
   "source": [
    "np.median(rr.std(axis=1))"
   ]
  },
  {
   "cell_type": "code",
   "execution_count": 86,
   "metadata": {},
   "outputs": [
    {
     "data": {
      "text/plain": [
       "(array([2.000e+00, 0.000e+00, 0.000e+00, 1.100e+01, 6.000e+00, 1.100e+01,\n",
       "        9.000e+00, 2.600e+01, 2.800e+01, 5.600e+01, 7.300e+01, 1.060e+02,\n",
       "        1.400e+02, 1.920e+02, 3.080e+02, 3.410e+02, 4.440e+02, 5.370e+02,\n",
       "        6.960e+02, 8.850e+02, 1.049e+03, 1.191e+03, 1.203e+03, 1.448e+03,\n",
       "        1.449e+03, 1.501e+03, 1.543e+03, 1.613e+03, 1.545e+03, 1.401e+03,\n",
       "        1.241e+03, 1.153e+03, 9.320e+02, 8.150e+02, 6.810e+02, 5.650e+02,\n",
       "        4.700e+02, 3.510e+02, 2.850e+02, 2.160e+02, 1.760e+02, 1.060e+02,\n",
       "        6.400e+01, 5.300e+01, 3.600e+01, 9.000e+00, 1.800e+01, 3.000e+00,\n",
       "        1.100e+01, 1.000e+00]),\n",
       " array([3.19141823, 3.21976535, 3.24811246, 3.27645958, 3.3048067 ,\n",
       "        3.33315382, 3.36150094, 3.38984806, 3.41819518, 3.4465423 ,\n",
       "        3.47488942, 3.50323654, 3.53158366, 3.55993078, 3.5882779 ,\n",
       "        3.61662502, 3.64497214, 3.67331926, 3.70166638, 3.7300135 ,\n",
       "        3.75836062, 3.78670774, 3.81505486, 3.84340198, 3.8717491 ,\n",
       "        3.90009621, 3.92844333, 3.95679045, 3.98513757, 4.01348469,\n",
       "        4.04183181, 4.07017893, 4.09852605, 4.12687317, 4.15522029,\n",
       "        4.18356741, 4.21191453, 4.24026165, 4.26860877, 4.29695589,\n",
       "        4.32530301, 4.35365013, 4.38199725, 4.41034437, 4.43869149,\n",
       "        4.46703861, 4.49538573, 4.52373284, 4.55207996, 4.58042708,\n",
       "        4.6087742 ]),\n",
       " <BarContainer object of 50 artists>)"
      ]
     },
     "execution_count": 86,
     "metadata": {},
     "output_type": "execute_result"
    },
    {
     "data": {
      "image/png": "[encoded data removed]",
      "text/plain": [
       "<Figure size 1200x800 with 3 Axes>"
      ]
     },
     "metadata": {},
     "output_type": "display_data"
    }
   ],
   "source": [
    "fig, ax = plt.subplots(1, 3)\n",
    "ax[0].hist(rr[0], bins=50)\n",
    "ax[1].hist(rr[1], bins=50)\n",
    "ax[2].hist(rr[2], bins=50)"
   ]
  },
  {
   "cell_type": "markdown",
   "metadata": {},
   "source": [
    "## 4. MCMC sampling for the posterior of gamma distribution parameters (6 points)\n",
    "\n",
    "In this exercise we test Bayesian estimation of the parameters $\\alpha, \\beta$ of the [gamma distribution](https://en.wikipedia.org/wiki/Gamma_distribution) for a given data set. We will use the shape/rate parametrisation of the gamma distribution. Under this parametrisation, the probability density function of the gamma distribution is\n",
    "$$ p(x) = \\mathrm{Gamma}(x;\\; \\alpha, \\beta) = \\frac{\\beta^\\alpha}{\\Gamma(\\alpha)} x^{\\alpha-1} \\exp(-\\beta x), \\quad \\alpha,\\beta > 0,$$\n",
    "where $\\Gamma(x)$ is the [gamma function](https://en.wikipedia.org/wiki/Gamma_function).\n",
    "\n",
    "The prior distributions of the parameters $\\alpha$ and $\\beta$ are\n",
    "$$ p(\\alpha) = \\mathrm{Gamma}\\left(\\frac{1}{2}, \\frac{1}{2}\\right), \\quad p(\\beta) = \\mathrm{Gamma}\\left(\\frac{1}{2}, \\frac{1}{2}\\right), $$\n",
    "and we assume a factorized prior, i.e. $$p(\\alpha, \\beta) = p(\\alpha) p(\\beta).$$\n",
    "\n",
    "Please remember that the Gamma distribution has the additional constraint that its parameters $\\alpha$ and $\\beta$ need to be positive. This can be accomplised by parametrising using new unconstrained variables $a,b$ with $\\alpha = \\exp(a)$ and $\\beta = \\exp(b)$.\n",
    "\n",
    "1. Load the data set $\\mathcal{D} = \\{ x_i | i = 1, \\dots, n \\}$ using the function below.\n",
    "2. Implement the log-probability density function of the gamma distribution. Report the value of the log-probability density $\\ln p(\\alpha)$ at $\\alpha = 1$.\n",
    "3. Transform the prior probability densities of $\\alpha$ and $\\beta$ to distributions over unbounded variables $a, b$. Report the log-density value $\\ln p(a)$ evaluated at $a=1$ in Moodle. (*Hint*: See Sec. 7.3.3. in the course notes!)\n",
    "4. Sample from the posterior $$p(a, b | \\mathcal{D}) \\propto p(\\mathcal{D}| a, b) p(a) p(b) = \\left[\\prod_{i=1}^n \\text{Gamma}(x_i; \\exp(a), \\exp(b))\\right] p(a) p(b)$$ using a Metropolis-Hastings sampler. *Note*: The symbol $\\propto$ means \"proportional to\", since we omitted the normalization constant $p(\\mathcal{D})$ in the denominator of Bayes' theorem. We can do this since Metropolis-Hastings (as most MCMC samplers) does not need the target density to be normalized.\n",
    "5. Transform the values of $a,b$ back to $\\alpha, \\beta$ and report the posterior means and standard deviations (`np.mean(alpha_samples)`, `np.std(alpha_samples)`, `np.mean(beta_samples)`, `np.std(beta_samples)`) for $\\alpha$ and $\\beta$ in Moodle.\n",
    "\n",
    "The required tolerance for the posterior statistics is $\\pm 0.1$.\n",
    "\n",
    "*Hints*: \n",
    "- You can check your implementations of the probability density functions by making sure they are properly normalised using e.g. `scipy.integrate.quad()`. \n",
    "- A multivariate normal distribution centred at the current point should be a good proposal. Remember to throw out the warm-up samples!\n",
    "- As a help, we already provide an implementation of the log pdf of the gamma distribution."
   ]
  },
  {
   "cell_type": "code",
   "execution_count": 96,
   "metadata": {},
   "outputs": [
    {
     "name": "stdout",
     "output_type": "stream",
     "text": [
      "-1.4189385332046727\n"
     ]
    },
    {
     "ename": "TypeError",
     "evalue": "<lambda>() missing 1 required positional argument: 'phi_beta'",
     "output_type": "error",
     "traceback": [
      "\u001b[0;31m---------------------------------------------------------------------------\u001b[0m",
      "\u001b[0;31mTypeError\u001b[0m                                 Traceback (most recent call last)",
      "Cell \u001b[0;32mIn[96], line 28\u001b[0m\n\u001b[1;32m     26\u001b[0m log_posterior \u001b[39m=\u001b[39m \u001b[39mlambda\u001b[39;00m theta: np\u001b[39m.\u001b[39msum(log_prior(theta[\u001b[39m0\u001b[39m], theta[\u001b[39m1\u001b[39m]) \u001b[39m+\u001b[39m log_likelihood(theta[\u001b[39m0\u001b[39m], theta[\u001b[39m1\u001b[39m]))\n\u001b[1;32m     27\u001b[0m \u001b[39mprint\u001b[39m(log_alpha_prior(\u001b[39m1\u001b[39m))\n\u001b[0;32m---> 28\u001b[0m \u001b[39mprint\u001b[39m(log_phi_prior(\u001b[39m1\u001b[39;49m,))\n",
      "\u001b[0;31mTypeError\u001b[0m: <lambda>() missing 1 required positional argument: 'phi_beta'"
     ]
    }
   ],
   "source": [
    "import numpy as np\n",
    "import pandas as pd\n",
    "import scipy.special as scs\n",
    "\n",
    "# 1 load dataset\n",
    "\n",
    "data1 = pd.read_csv('https://raw.githubusercontent.com/lacerbi/compstats-files/main/data/toydata.txt', sep='\\t', header=None)\n",
    "data1 = data1.values\n",
    "data1 = np.array(data1[:,0])\n",
    "\n",
    "# 2\n",
    "\n",
    "def gamma_logpdf(x, alpha, beta):\n",
    "    \"\"\"Log pdf of the gamma distribution with shape/rate parameters alpha and beta.\"\"\"\n",
    "    return (alpha*np.log(beta) - scs.gammaln(alpha) + (alpha-1) * np.log(x) - beta * x)\n",
    "\n",
    "def gamma_pdf(x, alpha, beta):\n",
    "    return beta**alpha * x**(alpha-1) * np.exp(-beta*x) / scs.gamma(alpha)\n",
    "# 3\n",
    "\n",
    "log_alpha_prior = lambda alpha: gamma_logpdf(alpha, .5, .5)\n",
    "log_beta_prior = lambda beta: gamma_logpdf(beta, .5, .5)\n",
    "log_a_prior = lambda a: gamma_logpdf(np.exp(a), .5, .5) * a\n",
    "log_b_prior = lambda b: gamma_logpdf(np.exp(b), .5, .5) * b\n",
    "log_prior = lambda alpha, beta: log_alpha_prior(alpha) + log_beta_prior(beta)\n",
    "log_likelihood = lambda alpha, beta: gamma_logpdf(data1, np.exp(alpha), np.exp(beta))\n",
    "log_posterior = lambda theta: np.sum(log_prior(theta[0], theta[1]) + log_likelihood(theta[0], theta[1]))\n",
    "print(log_alpha_prior(1))\n",
    "print(log_phi_prior(1,))\n"
   ]
  },
  {
   "cell_type": "code",
   "execution_count": null,
   "metadata": {},
   "outputs": [],
   "source": [
    "proposal = lambda theta, sigma: stats.multivariate_normal(theta, sigma**2).rvs()\n",
    "if False:\n",
    "    opt_sigma = optimize_sigma_halfnorm(\n",
    "        mcmc=partial(metropolis_hastings, theta0=np.array([0, 0]), n=1000, log_target=log_posterior, proposal=proposal),\n",
    "        sigma_hyperprior=2,\n",
    "        n_iterations=50,\n",
    "        n_dim=2,\n",
    "    )\n",
    "else:\n",
    "    opt_sigma = np.array([[0.19673212,0.        ], [0., 0.19673212]])\n",
    "\n"
   ]
  },
  {
   "cell_type": "code",
   "execution_count": null,
   "metadata": {},
   "outputs": [],
   "source": [
    "results = []\n",
    "for i in range(5):\n",
    "    samples, acceptance_rate = metropolis_hastings(\n",
    "    theta0=np.array([0, 0]),\n",
    "    n=25000,\n",
    "    log_target=log_posterior,\n",
    "    proposal=proposal,\n",
    "    proposal_sigma=opt_sigma,\n",
    "    )\n",
    "    results.append(samples[12500:])\n",
    "    print(f\"Acceptance rate: {acceptance_rate}\")\n"
   ]
  },
  {
   "cell_type": "code",
   "execution_count": null,
   "metadata": {},
   "outputs": [],
   "source": [
    "np.median(np.exp(np.array(results)).mean(axis=1), axis=0)"
   ]
  },
  {
   "cell_type": "code",
   "execution_count": null,
   "metadata": {},
   "outputs": [],
   "source": []
  }
 ],
 "metadata": {
  "kernelspec": {
   "display_name": "computational-statistics-qlF0ErcH-py3.11",
   "language": "python",
   "name": "python3"
  },
  "language_info": {
   "codemirror_mode": {
    "name": "ipython",
    "version": 3
   },
   "file_extension": ".py",
   "mimetype": "text/x-python",
   "name": "python",
   "nbconvert_exporter": "python",
   "pygments_lexer": "ipython3",
   "version": "3.11.5"
  },
  "vscode": {
   "interpreter": {
    "hash": "53d6570113b994f255c5776c8cfb3ba753c6be772e819a2f7ee89343d6cab335"
   }
  }
 },
 "nbformat": 4,
 "nbformat_minor": 1
}
