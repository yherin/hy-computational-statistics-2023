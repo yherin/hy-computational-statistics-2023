{
 "cells": [
  {
   "cell_type": "markdown",
   "metadata": {},
   "source": [
    "University of Helsinki, Master's Programme in Mathematics and Statistics  \n",
    "MAST32001 Computational Statistics, Autumn 2023  \n",
    "Luigi Acerbi\n",
    "\n",
    "# Week 3 exercises\n",
    "\n",
    "**General hints**:  \n",
    "- **In order to estimate the accuracy of your answer**, it is recommended to run the sampler a few times and compute the standard deviation of the values you obtain. If the standard deviation of the values you obtain is smaller than the tolerance, the average of the values you obtain should be within the tolerance, assuming everything was done correctly.\n",
    "- Monte Carlo error scales as $1/\\sqrt{n}$ with the number of iterations $n$, i.e. you need to increase the number of iterations by a factor of 4 to cut the error in half."
   ]
  },
  {
   "cell_type": "code",
   "execution_count": 1,
   "metadata": {},
   "outputs": [],
   "source": [
    "from typing import Callable\n",
    "import numpy as np\n",
    "from scipy import stats\n",
    "import matplotlib.pyplot as plt\n",
    "import seaborn as sns\n",
    "import scipy.integrate as integrate\n",
    "from functools import partial\n",
    "from typing import Any\n",
    "\n",
    "\n",
    "plt.rcParams[\"figure.figsize\"] = (12, 8)\n",
    "plt.rcParams[\"font.size\"] = 14\n",
    "\n",
    "sns.set_style(\"whitegrid\")\n",
    "\n",
    "\n",
    "rng = np.random.default_rng(42)\n"
   ]
  },
  {
   "cell_type": "markdown",
   "metadata": {},
   "source": [
    "## 1. Sampling a 1D distribution (4 points)\n",
    "\n",
    "Write a Metropolis-Hastings sampler to sample from the (unnormalised) distribution\n",
    "$$ P^*(\\theta) = \\cos^2(\\theta) \\exp(-|\\theta|^3) $$\n",
    "using a normal distribution with standard deviation $\\sigma$ as the proposal\n",
    "$q(\\theta' ; \\theta) = \\mathcal{N}(\\theta';\\; \\theta, \\sigma^2)$.\n",
    "\n",
    "1. Initialising the sampler at $\\theta = 0$, draw 10000 samples with $\\sigma=0.5$. Report the acceptance rate of the samples in Moodle.\n",
    "2. Find a value of $\\sigma$ that gives an acceptance rate close to the theoretically optimal value of $0.5$.\n",
    "3. Evaluate $\\mathbb{E}[\\cos(\\theta)]$, using samples drawn with the optimally tuned $\\sigma$. Remember to throw out the warm-up samples! Report the value you obtain in Moodle.\n",
    "\n",
    "The required tolerance for the answer is $\\pm 0.03$.\n",
    "\n",
    "*Hint*: It is useful to check your result by plotting a histogram of your samples and the target density (remembering it is unscaled)."
   ]
  },
  {
   "cell_type": "code",
   "execution_count": 2,
   "metadata": {},
   "outputs": [],
   "source": [
    "# 1\n",
    "def metropolis_hastings(theta0: np.ndarray, \n",
    "                        n: int, \n",
    "                        log_target: Callable[..., np.ndarray], \n",
    "                        proposal: Callable[..., np.ndarray],\n",
    "                        proposal_scalar: float = 1.0\n",
    "                        ) -> tuple[np.ndarray, float]:\n",
    "    theta = theta0\n",
    "    samples = np.zeros(shape=(n, theta0.shape[0]))\n",
    "    accepts = 0\n",
    "    for i in range(n):\n",
    "        theta_prop = proposal(theta, proposal_scalar)\n",
    "        u = rng.uniform(size=theta0.shape[0])\n",
    "        if (np.log(u) < log_target(theta_prop) - log_target(theta)).all():\n",
    "            theta = theta_prop\n",
    "            accepts += 1\n",
    "        samples[i] = theta\n",
    "    return samples, accepts / n\n",
    "\n"
   ]
  },
  {
   "cell_type": "code",
   "execution_count": 4,
   "metadata": {},
   "outputs": [
    {
     "name": "stderr",
     "output_type": "stream",
     "text": [
      "/var/folders/h7/h1t9twn9577g_ykyc9r8cprr0000gn/T/ipykernel_11123/710481730.py:3: RuntimeWarning: invalid value encountered in log\n",
      "  log_target = lambda theta: np.array([np.log(2 * np.cos(theta)) + ( -np.abs(theta)**3)])\n"
     ]
    },
    {
     "name": "stdout",
     "output_type": "stream",
     "text": [
      "Acceptance rate: 0.5406\n"
     ]
    },
    {
     "data": {
      "text/plain": [
       "<Axes: ylabel='Density'>"
      ]
     },
     "execution_count": 4,
     "metadata": {},
     "output_type": "execute_result"
    },
    {
     "data": {
      "image/png": "[encoded data removed]",
      "text/plain": [
       "<Figure size 1200x800 with 1 Axes>"
      ]
     },
     "metadata": {},
     "output_type": "display_data"
    }
   ],
   "source": [
    "\n",
    "sd = 0.5\n",
    "n = 10000\n",
    "log_target = lambda theta: np.array([np.log(2 * np.cos(theta)) + ( -np.abs(theta)**3)])\n",
    "proposal = lambda theta, sigma: np.array([stats.norm(theta, sigma**2).rvs()])\n",
    "\n",
    "samples, acceptance_rate = metropolis_hastings(np.array([0.0]), n, log_target, proposal, proposal_scalar=1)\n",
    "print(f\"Acceptance rate: {acceptance_rate}\")\n",
    "\n",
    "sns.histplot(samples, stat=\"density\", bins=50)"
   ]
  },
  {
   "cell_type": "code",
   "execution_count": 35,
   "metadata": {},
   "outputs": [],
   "source": [
    "# 2\n",
    "\n",
    "# let's use a halfnormal to try and find appropriate values for sigma\n",
    "def optimize_sigma_halfnorm(\n",
    "        mcmc: Callable[..., tuple[np.ndarray, float]],\n",
    "        sigma_hyperprior: float,\n",
    "        n_iterations: int,\n",
    "        sigma_dim: int = 1,\n",
    "        target_accept: float = .5,\n",
    ") -> float:\n",
    "    \n",
    "    sigma_candidates = stats.halfnorm(scale=sigma_hyperprior).rvs(n_iterations)\n",
    "    acceptance_rates = np.zeros(n_iterations)\n",
    "    best_acceptance_rate_diff = np.inf\n",
    "    best_sigma = None\n",
    "    for i in range(n_iterations):\n",
    "        s = np.eye(sigma_dim) * sigma_candidates[i]\n",
    "        breakpoint()\n",
    "        _, acceptance_rate = mcmc(proposal_sigma=s)\n",
    "        acceptance_rates[i] = acceptance_rate\n",
    "        acceptance_diff = np.abs(target_accept - acceptance_rate)\n",
    "        if acceptance_diff < best_acceptance_rate_diff:\n",
    "            best_acceptance_rate_diff = acceptance_diff\n",
    "            best_sigma = s\n",
    "            print(f\"New best sigma: {best_sigma}\")\n",
    "            print(f\"Acceptance rate: {acceptance_rate}\")\n",
    "    return best_sigma\n"
   ]
  },
  {
   "cell_type": "code",
   "execution_count": 36,
   "metadata": {},
   "outputs": [],
   "source": [
    "\n",
    "if False:\n",
    "    opt_sigma = optimize_sigma_halfnorm(\n",
    "    partial(metropolis_hastings, theta0=np.array([0.0]), n=n, log_target=log_target, proposal=proposal),\n",
    "    sigma_hyperprior=1.5,\n",
    "    n_iterations=50,\n",
    "    target_accept=.5\n",
    "    )\n",
    "else:\n",
    "    opt_sigma = np.array(1.07263718)\n",
    "    "
   ]
  },
  {
   "cell_type": "code",
   "execution_count": 37,
   "metadata": {},
   "outputs": [
    {
     "name": "stderr",
     "output_type": "stream",
     "text": [
      "/var/folders/h7/h1t9twn9577g_ykyc9r8cprr0000gn/T/ipykernel_4596/262228101.py:3: RuntimeWarning: invalid value encountered in log\n",
      "  log_target = lambda theta: np.array([np.log(2 * np.cos(theta)) + ( -np.abs(theta)**3)])\n"
     ]
    }
   ],
   "source": [
    "e_cos_results = np.zeros(10)\n",
    "for i in range(len(e_cos_results)):\n",
    "    samples, acceptance_rate = metropolis_hastings(np.array([0.0]), n, log_target, proposal, proposal_sigma=opt_sigma)\n",
    "    _, valid_samples = samples[:n//2], samples[n//2:]\n",
    "    y = np.mean(np.cos(valid_samples))\n",
    "    e_cos_results[i] = y\n"
   ]
  },
  {
   "cell_type": "code",
   "execution_count": 38,
   "metadata": {},
   "outputs": [
    {
     "data": {
      "text/plain": [
       "<seaborn.axisgrid.FacetGrid at 0x16c3e7090>"
      ]
     },
     "execution_count": 38,
     "metadata": {},
     "output_type": "execute_result"
    },
    {
     "data": {
      "image/png": "[encoded data removed]",
      "text/plain": [
       "<Figure size 580.75x500 with 1 Axes>"
      ]
     },
     "metadata": {},
     "output_type": "display_data"
    }
   ],
   "source": [
    "sns.displot(np.cos(valid_samples), stat=\"density\", bins=50)"
   ]
  },
  {
   "cell_type": "code",
   "execution_count": 39,
   "metadata": {},
   "outputs": [
    {
     "name": "stdout",
     "output_type": "stream",
     "text": [
      "0.003218672052462504 0.8741428240870626\n"
     ]
    }
   ],
   "source": [
    "print(e_cos_results.std(), e_cos_results.mean())"
   ]
  },
  {
   "cell_type": "markdown",
   "metadata": {},
   "source": [
    "## 2. Sampling a 2D distribution (4 points)\n",
    "\n",
    "Write a Metropolis-Hastings sampler to evaluate the following expectations over the given (unnormalised) distributions using a suitably scaled multivariate normal distribution with diagonal covariance as the proposal.\n",
    "\n",
    "1. $E[\\theta_1^2 + \\theta_2^2]$, when $P^*(\\boldsymbol{\\theta}) = \\exp\\left(-3(\\sqrt{(\\theta_1-\\mu_1)^2 + (\\theta_2-\\mu_2)^2} - r^2)^2 \\right)$.\n",
    "2. $E[\\theta_1^2 + \\theta_2^2]$, when $P^*(\\boldsymbol{\\theta}) = \\exp\\left(-3(\\sqrt{(\\theta_1-\\mu_1)^2 + (\\theta_2-\\mu_2)^2} - r^2)^2 + |2\\theta_1 - \\theta_2|\\right)$.\n",
    "\n",
    "Here $\\mu_1 = 1, \\mu_2 = 2$ and $r = \\sqrt{2}$.\n",
    "\n",
    "The required tolerance for the answer is $\\pm 0.3$.\n",
    "\n",
    "*Hint*: It is useful to check your result by plotting a scatter plot of your samples and a contour plot of the logarithm of the target function. Remember to throw out the warm-up samples!"
   ]
  },
  {
   "cell_type": "code",
   "execution_count": 100,
   "metadata": {},
   "outputs": [],
   "source": [
    "mu_1 = 1\n",
    "mu_2 = 2\n",
    "r = np.sqrt(2)\n",
    "\n",
    "# 2.1\n",
    "log_target = lambda theta: -3 * ( np.sqrt( (theta[0] - mu_1)**2 + (theta[1] - mu_2)**2) - r **2 ) **2\n",
    "proposal = lambda theta, sigma: stats.multivariate_normal(theta, sigma**2).rvs()\n",
    "\n",
    "if False:\n",
    "    opt_sigma = optimize_sigma_halfnorm(\n",
    "        partial(metropolis_hastings, theta0=np.array([0.0, 0.0]), n=n, log_target=log_target, proposal=proposal),\n",
    "        n_iterations=50,\n",
    "        sigma_hyperprior=1,\n",
    "        sigma_dim=2,\n",
    "    )\n",
    "else:\n",
    "    opt_sigma = np.array(\n",
    "    [[0.61127744, 0.], [0.,0.61127744]]\n",
    ")"
   ]
  },
  {
   "cell_type": "code",
   "execution_count": 50,
   "metadata": {},
   "outputs": [
    {
     "name": "stdout",
     "output_type": "stream",
     "text": [
      "0.26827105815187896 9.192447056832474\n"
     ]
    },
    {
     "data": {
      "image/png": "[encoded data removed]",
      "text/plain": [
       "<Figure size 600x600 with 3 Axes>"
      ]
     },
     "metadata": {},
     "output_type": "display_data"
    }
   ],
   "source": [
    "n = 50_000\n",
    "e_xsq_plus_ysq_results = np.zeros(10)\n",
    "for i in range(len(e_xsq_plus_ysq_results)):\n",
    "    samples, _ = metropolis_hastings(np.array([0.0, 0.0]), n, log_target, proposal, proposal_sigma=opt_sigma)\n",
    "    _, valid_samples = samples[:n//2], samples[n//2:]\n",
    "    y = np.mean(valid_samples[:, 0] ** 2 + valid_samples[:, 1] ** 2)\n",
    "    e_xsq_plus_ysq_results[i] = y\n",
    "print(e_xsq_plus_ysq_results.std(), e_xsq_plus_ysq_results.mean())\n",
    "sns.jointplot(x=samples[n//2:, 0], y=samples[n//2:, 1], kind=\"kde\", fill=True)\n",
    "del(n)"
   ]
  },
  {
   "cell_type": "code",
   "execution_count": 101,
   "metadata": {},
   "outputs": [
    {
     "name": "stdout",
     "output_type": "stream",
     "text": [
      "New best sigma: [[1.33088225 0.        ]\n",
      " [0.         1.33088225]]\n",
      "Acceptance rate: 0.16354\n",
      "New best sigma: [[0.68940397 0.        ]\n",
      " [0.         0.68940397]]\n",
      "Acceptance rate: 0.36858\n",
      "New best sigma: [[0.48209024 0.        ]\n",
      " [0.         0.48209024]]\n",
      "Acceptance rate: 0.49948\n"
     ]
    }
   ],
   "source": [
    "# 2.2\n",
    "n = 50_000\n",
    "log_target = lambda theta:  -3 * ( np.sqrt( (theta[0] - mu_1)**2 + (theta[1] - mu_2)**2) - r **2 ) **2 + np.abs(2*theta[0] - theta[1])\n",
    "\n",
    "if True:\n",
    "    opt_sigma = optimize_sigma_halfnorm(\n",
    "        partial(metropolis_hastings, theta0=np.array([0.0, 0.0]), n=n, log_target=log_target, proposal=proposal),\n",
    "        n_iterations=50,\n",
    "        sigma_hyperprior=1,\n",
    "        sigma_dim=2,\n",
    "    )\n",
    "else:\n",
    "    opt_sigma = np.array(\n",
    "    [[0.47050587, 0.], [0.,0.47050587]]\n",
    ")"
   ]
  },
  {
   "cell_type": "code",
   "execution_count": 102,
   "metadata": {},
   "outputs": [],
   "source": [
    "e_xsq_plus_ysq_results_2 = np.zeros(10)\n",
    "for i in range(len(e_xsq_plus_ysq_results_2)):\n",
    "    samples, acceptance_rate = metropolis_hastings(np.array([0.0, 0.0]), n, log_target, proposal, proposal_sigma=opt_sigma)\n",
    "    _, valid_samples = samples[:n//2], samples[n//2:]\n",
    "    y = np.mean(valid_samples[:, 0] ** 2 + valid_samples[:, 1] ** 2)\n",
    "    e_xsq_plus_ysq_results_2[i] = y\n"
   ]
  },
  {
   "cell_type": "code",
   "execution_count": 103,
   "metadata": {},
   "outputs": [
    {
     "name": "stdout",
     "output_type": "stream",
     "text": [
      "0.05558391626335786 10.803793330163993\n",
      "[10.80471956 10.84704425 10.75045777 10.89678825 10.82094844 10.71238742\n",
      " 10.74015079 10.79978871 10.87238519 10.79326292]\n"
     ]
    },
    {
     "data": {
      "image/png": "[encoded data removed]",
      "text/plain": [
       "<Figure size 600x600 with 3 Axes>"
      ]
     },
     "metadata": {},
     "output_type": "display_data"
    }
   ],
   "source": [
    "print(e_xsq_plus_ysq_results_2.std(), e_xsq_plus_ysq_results_2.mean())\n",
    "print(e_xsq_plus_ysq_results_2)\n",
    "\n",
    "sns.jointplot(x=samples[n//2:, 0], y=samples[n//2:, 1], kind=\"kde\", fill=True)\n",
    "del(n)"
   ]
  },
  {
   "cell_type": "code",
   "execution_count": 104,
   "metadata": {},
   "outputs": [
    {
     "data": {
      "text/plain": [
       "10.80225413273499"
      ]
     },
     "execution_count": 104,
     "metadata": {},
     "output_type": "execute_result"
    }
   ],
   "source": [
    "np.median(e_xsq_plus_ysq_results_2)"
   ]
  },
  {
   "cell_type": "markdown",
   "metadata": {},
   "source": [
    "## 3. MCMC sampling for the posterior of the mean of the Student-t distribution (6 points)\n",
    "\n",
    "In this exercise we will use MCMC to sample the posterior distribution over the location (or mean) parameter $\\mu$ of [Student's $t$-distribution](https://en.wikipedia.org/wiki/Student%27s_t-distribution) for a set of data points $X = (x_i)_{i=1}^n$ that are assumed to be conditionally independent given $\\mu$, i.e.\n",
    "$$ p(X | \\mu) = \\prod_{i=1}^n p(x_i | \\mu), $$\n",
    "where $p(x_i | \\mu)$ is the Student's $t$-distribution centred at $\\mu$ with $\\nu = 5$ degrees of freedom.\n",
    "\n",
    "Using the data loaded in the below code as $X$,\n",
    "write a Metropolis-Hastings sampler to draw samples from $p(\\mu | X)$ when the prior $p(\\mu)$ is as follows, and return the required posterior statistics to Moodle.\n",
    "\n",
    "1. $p(\\mu) = \\mathcal{N}(\\mu;\\; 0, 1^2)$. Report the posterior mean and standard deviation of $\\mu$, i.e. mean and standard deviation of $p(\\mu | X)$ estimated from the Monte Carlo samples to Moodle.\n",
    "2. $p(\\mu) = \\mathrm{Uniform}(\\mu;\\; -5, 5)$. Report the posterior mean and standard deviation of $\\mu$, i.e. mean and standard deviation of $p(\\mu | X)$ estimated from the Monte Carlo samples to Moodle.\n",
    "\n",
    "The require tolerance is $\\pm 0.03$.\n",
    "\n",
    "*Hints*: \n",
    "- Please see Chapter 7 of the course notes for more background. \n",
    "- You can evaluate the log-pdf of the Student's $t$-distribution using `scipy.stats.t.logpdf()`.\n",
    "- You can compute posterior mean and standard deviation directly as the mean and standard deviation of your samples. \n",
    "- A suitably scaled normal distribution centred at the current point should be a good proposal.\n",
    "- Remember to throw out the warm-up samples!"
   ]
  },
  {
   "cell_type": "code",
   "execution_count": 110,
   "metadata": {},
   "outputs": [],
   "source": [
    "import numpy as np\n",
    "import numpy.random as npr\n",
    "import pandas as pd\n",
    "\n",
    "data = pd.read_csv('https://raw.githubusercontent.com/lacerbi/compstats-files/main/data/toydata2.txt', sep='\\t', header=None)\n",
    "data = data.values\n",
    "data = np.array(data[:,0])"
   ]
  },
  {
   "cell_type": "code",
   "execution_count": 125,
   "metadata": {},
   "outputs": [],
   "source": [
    "\n",
    "# 3.1\n",
    "log_prior = lambda mu: np.sum(stats.norm(0, 1**2).logpdf(mu))\n",
    "log_likelihood = lambda mu: np.sum(stats.nct(df=5, nc=mu).logpdf(data))\n",
    "log_posterior = lambda mu: log_likelihood(mu) + log_prior(mu)\n",
    "proposal = lambda theta, scalar: scalar * stats.norm(theta, 1**2).rvs()\n",
    "\n",
    "if False:\n",
    "    opt_sigma = optimize_sigma_halfnorm(\n",
    "        mcmc=partial(metropolis_hastings, theta0=np.array([0]), n=10000, log_target=log_posterior, proposal=proposal),\n",
    "        sigma_hyperprior=1,\n",
    "        n_iterations=25,\n",
    "    )\n",
    "else:\n",
    "    opt_sigma = np.array(0.225)\n",
    "\n"
   ]
  },
  {
   "cell_type": "code",
   "execution_count": 121,
   "metadata": {},
   "outputs": [
    {
     "name": "stdout",
     "output_type": "stream",
     "text": [
      "Acceptance rate: 0.50489\n",
      "Acceptance rate: 0.50419\n",
      "Acceptance rate: 0.50423\n"
     ]
    }
   ],
   "source": [
    "n = 100_000\n",
    "\n",
    "results = []\n",
    "for i in range(3):\n",
    "    samples, acceptance_rate = metropolis_hastings(theta0=np.array([1.0]), \n",
    "                                                n=n, \n",
    "                                                log_target=log_posterior, \n",
    "                                                proposal=proposal,\n",
    "                                                proposal_sigma=.4,)\n",
    "    results.append(samples[n//2:])\n",
    "    print(f\"Acceptance rate: {acceptance_rate}\")"
   ]
  },
  {
   "cell_type": "code",
   "execution_count": 122,
   "metadata": {},
   "outputs": [
    {
     "name": "stdout",
     "output_type": "stream",
     "text": [
      "0.0017745083978238628 3.390810390941439\n"
     ]
    }
   ],
   "source": [
    "print(np.array(results).mean(axis=1).std(), np.median(np.array(results).mean(axis=1)))"
   ]
  },
  {
   "cell_type": "code",
   "execution_count": 123,
   "metadata": {},
   "outputs": [
    {
     "data": {
      "text/plain": [
       "0.20405444893047678"
      ]
     },
     "execution_count": 123,
     "metadata": {},
     "output_type": "execute_result"
    }
   ],
   "source": [
    "np.median(np.array(results).std(axis=1))"
   ]
  },
  {
   "cell_type": "code",
   "execution_count": 129,
   "metadata": {},
   "outputs": [],
   "source": [
    "\n",
    "# 3.2\n",
    "n=50_000\n",
    "log_prior = lambda mu: np.sum(stats.uniform(-5, 10).logpdf(mu))\n",
    "log_posterior = lambda mu: log_likelihood(mu) + log_prior(mu)\n",
    "\n",
    "if False:\n",
    "    opt_scalar = optimize_sigma_halfnorm(\n",
    "        mcmc=partial(metropolis_hastings, theta0=np.array([0]), n=1000, log_target=log_posterior, proposal=proposal),\n",
    "        sigma_hyperprior=1,\n",
    "        n_iterations=50,\n",
    "    )\n",
    "\n",
    "\n",
    "\n",
    "\n"
   ]
  },
  {
   "cell_type": "code",
   "execution_count": 141,
   "metadata": {},
   "outputs": [
    {
     "name": "stdout",
     "output_type": "stream",
     "text": [
      "Acceptance rate: 0.25942\n",
      "Acceptance rate: 0.25909\n",
      "Acceptance rate: 0.26023\n"
     ]
    }
   ],
   "source": [
    "samples, results = None, None\n",
    "results = []\n",
    "n=100_000\n",
    "\n",
    "for i in range(3):\n",
    "    samples, acceptance_rate = metropolis_hastings(theta0=np.array([0]), \n",
    "                                                n=n, \n",
    "                                                log_target=log_posterior, \n",
    "                                                proposal=proposal,\n",
    "                                                proposal_scalar=.93,\n",
    "    )\n",
    "    results.append(samples[n//2:])\n",
    "    print(f\"Acceptance rate: {acceptance_rate}\")\n"
   ]
  },
  {
   "cell_type": "code",
   "execution_count": 142,
   "metadata": {},
   "outputs": [],
   "source": [
    "rr = np.array(results)"
   ]
  },
  {
   "cell_type": "code",
   "execution_count": 143,
   "metadata": {},
   "outputs": [
    {
     "data": {
      "text/plain": [
       "0.003550751380792554"
      ]
     },
     "execution_count": 143,
     "metadata": {},
     "output_type": "execute_result"
    }
   ],
   "source": [
    "rr.mean(axis=1).std()"
   ]
  },
  {
   "cell_type": "code",
   "execution_count": 144,
   "metadata": {},
   "outputs": [
    {
     "data": {
      "text/plain": [
       "3.5145304058856417"
      ]
     },
     "execution_count": 144,
     "metadata": {},
     "output_type": "execute_result"
    }
   ],
   "source": [
    "np.median(rr.mean(axis=1))"
   ]
  },
  {
   "cell_type": "code",
   "execution_count": 146,
   "metadata": {},
   "outputs": [
    {
     "data": {
      "text/plain": [
       "0.20734098915355903"
      ]
     },
     "execution_count": 146,
     "metadata": {},
     "output_type": "execute_result"
    }
   ],
   "source": [
    "np.median(rr.std(axis=1))"
   ]
  },
  {
   "cell_type": "markdown",
   "metadata": {},
   "source": [
    "## 4. MCMC sampling for the posterior of gamma distribution parameters (6 points)\n",
    "\n",
    "In this exercise we test Bayesian estimation of the parameters $\\alpha, \\beta$ of the [gamma distribution](https://en.wikipedia.org/wiki/Gamma_distribution) for a given data set. We will use the shape/rate parametrisation of the gamma distribution. Under this parametrisation, the probability density function of the gamma distribution is\n",
    "$$ p(x) = \\mathrm{Gamma}(x;\\; \\alpha, \\beta) = \\frac{\\beta^\\alpha}{\\Gamma(\\alpha)} x^{\\alpha-1} \\exp(-\\beta x), \\quad \\alpha,\\beta > 0,$$\n",
    "where $\\Gamma(x)$ is the [gamma function](https://en.wikipedia.org/wiki/Gamma_function).\n",
    "\n",
    "The prior distributions of the parameters $\\alpha$ and $\\beta$ are\n",
    "$$ p(\\alpha) = \\mathrm{Gamma}\\left(\\frac{1}{2}, \\frac{1}{2}\\right), \\quad p(\\beta) = \\mathrm{Gamma}\\left(\\frac{1}{2}, \\frac{1}{2}\\right), $$\n",
    "and we assume a factorized prior, i.e. $$p(\\alpha, \\beta) = p(\\alpha) p(\\beta).$$\n",
    "\n",
    "Please remember that the Gamma distribution has the additional constraint that its parameters $\\alpha$ and $\\beta$ need to be positive. This can be accomplised by parametrising using new unconstrained variables $a,b$ with $\\alpha = \\exp(a)$ and $\\beta = \\exp(b)$.\n",
    "\n",
    "1. Load the data set $\\mathcal{D} = \\{ x_i | i = 1, \\dots, n \\}$ using the function below.\n",
    "2. Implement the log-probability density function of the gamma distribution. Report the value of the log-probability density $\\ln p(\\alpha)$ at $\\alpha = 1$.\n",
    "3. Transform the prior probability densities of $\\alpha$ and $\\beta$ to distributions over unbounded variables $a, b$. Report the log-density value $\\ln p(a)$ evaluated at $a=1$ in Moodle. (*Hint*: See Sec. 7.3.3. in the course notes!)\n",
    "4. Sample from the posterior $$p(a, b | \\mathcal{D}) \\propto p(\\mathcal{D}| a, b) p(a) p(b) = \\left[\\prod_{i=1}^n \\text{Gamma}(x_i; \\exp(a), \\exp(b))\\right] p(a) p(b)$$ using a Metropolis-Hastings sampler. *Note*: The symbol $\\propto$ means \"proportional to\", since we omitted the normalization constant $p(\\mathcal{D})$ in the denominator of Bayes' theorem. We can do this since Metropolis-Hastings (as most MCMC samplers) does not need the target density to be normalized.\n",
    "5. Transform the values of $a,b$ back to $\\alpha, \\beta$ and report the posterior means and standard deviations (`np.mean(alpha_samples)`, `np.std(alpha_samples)`, `np.mean(beta_samples)`, `np.std(beta_samples)`) for $\\alpha$ and $\\beta$ in Moodle.\n",
    "\n",
    "The required tolerance for the posterior statistics is $\\pm 0.1$.\n",
    "\n",
    "*Hints*: \n",
    "- You can check your implementations of the probability density functions by making sure they are properly normalised using e.g. `scipy.integrate.quad()`. \n",
    "- A multivariate normal distribution centred at the current point should be a good proposal. Remember to throw out the warm-up samples!\n",
    "- As a help, we already provide an implementation of the log pdf of the gamma distribution."
   ]
  },
  {
   "cell_type": "code",
   "execution_count": 95,
   "metadata": {},
   "outputs": [
    {
     "name": "stdout",
     "output_type": "stream",
     "text": [
      "-1.4189385332046727\n",
      "-5.613466582669997\n"
     ]
    }
   ],
   "source": [
    "import numpy as np\n",
    "import pandas as pd\n",
    "import scipy.special as scs\n",
    "\n",
    "# 1 load dataset\n",
    "\n",
    "data1 = pd.read_csv('https://raw.githubusercontent.com/lacerbi/compstats-files/main/data/toydata.txt', sep='\\t', header=None)\n",
    "data1 = data1.values\n",
    "data1 = np.array(data1[:,0])\n",
    "\n",
    "# 2\n",
    "\n",
    "def gamma_logpdf(x, alpha, beta):\n",
    "    \"\"\"Log pdf of the gamma distribution with shape/rate parameters alpha and beta.\"\"\"\n",
    "    return (alpha*np.log(beta) - scs.gammaln(alpha) + (alpha-1) * np.log(x) - beta * x)\n",
    "\n",
    "# 3\n",
    "\n",
    "log_alpha_prior = lambda alpha: gamma_logpdf(alpha, .5, .5)\n",
    "log_beta_prior = lambda beta: gamma_logpdf(beta, .5, .5)\n",
    "log_prior = lambda alpha, beta: log_alpha_prior(np.exp(alpha)) + log_beta_prior(np.exp(beta))\n",
    "log_likelihood = lambda alpha, beta: gamma_logpdf(data1, np.exp(alpha), np.exp(beta))\n",
    "log_posterior = lambda theta: np.sum(log_prior(theta[0], theta[1]) + log_likelihood(theta[0], theta[1]))\n",
    "print(log_alpha_prior(1))\n",
    "print(log_alpha_prior(np.exp(1) * np.exp(1)))\n"
   ]
  },
  {
   "cell_type": "code",
   "execution_count": 24,
   "metadata": {},
   "outputs": [],
   "source": [
    "proposal = lambda theta, sigma: stats.multivariate_normal(theta, sigma**2).rvs()\n",
    "if False:\n",
    "    opt_sigma = optimize_sigma_halfnorm(\n",
    "        mcmc=partial(metropolis_hastings, theta0=np.array([0, 0]), n=1000, log_target=log_posterior, proposal=proposal),\n",
    "        sigma_hyperprior=2,\n",
    "        n_iterations=50,\n",
    "        sigma_dim=2,\n",
    "    )\n",
    "else:\n",
    "    opt_sigma = np.array([[0.19673212,0.        ], [0., 0.19673212]])\n",
    "\n"
   ]
  },
  {
   "cell_type": "code",
   "execution_count": 25,
   "metadata": {},
   "outputs": [
    {
     "name": "stderr",
     "output_type": "stream",
     "text": [
      "/var/folders/h7/h1t9twn9577g_ykyc9r8cprr0000gn/T/ipykernel_4596/3395907899.py:15: RuntimeWarning: divide by zero encountered in log\n",
      "  return (alpha*np.log(beta) - scs.gammaln(alpha) + (alpha-1) * np.log(x) - beta * x)\n",
      "/var/folders/h7/h1t9twn9577g_ykyc9r8cprr0000gn/T/ipykernel_4596/3395907899.py:23: RuntimeWarning: invalid value encountered in add\n",
      "  log_posterior = lambda theta: np.sum(log_prior(theta[0], theta[1]) + log_likelihood(theta[0], theta[1]))\n"
     ]
    },
    {
     "name": "stdout",
     "output_type": "stream",
     "text": [
      "Acceptance rate: 0.33296\n",
      "Acceptance rate: 0.32532\n",
      "Acceptance rate: 0.32544\n",
      "Acceptance rate: 0.3284\n",
      "Acceptance rate: 0.3248\n"
     ]
    }
   ],
   "source": [
    "results = []\n",
    "for i in range(5):\n",
    "    samples, acceptance_rate = metropolis_hastings(\n",
    "    theta0=np.array([0, 0]),\n",
    "    n=25000,\n",
    "    log_target=log_posterior,\n",
    "    proposal=proposal,\n",
    "    proposal_sigma=opt_sigma,\n",
    "    )\n",
    "    results.append(samples[12500:])\n",
    "    print(f\"Acceptance rate: {acceptance_rate}\")\n"
   ]
  },
  {
   "cell_type": "code",
   "execution_count": 26,
   "metadata": {},
   "outputs": [
    {
     "data": {
      "text/plain": [
       "array([6.72571707e-004, 4.94065646e-324])"
      ]
     },
     "execution_count": 26,
     "metadata": {},
     "output_type": "execute_result"
    }
   ],
   "source": [
    "np.median(np.exp(np.array(results)).mean(axis=1), axis=0)"
   ]
  },
  {
   "cell_type": "code",
   "execution_count": null,
   "metadata": {},
   "outputs": [],
   "source": []
  }
 ],
 "metadata": {
  "kernelspec": {
   "display_name": "computational-statistics-qlF0ErcH-py3.11",
   "language": "python",
   "name": "python3"
  },
  "language_info": {
   "codemirror_mode": {
    "name": "ipython",
    "version": 3
   },
   "file_extension": ".py",
   "mimetype": "text/x-python",
   "name": "python",
   "nbconvert_exporter": "python",
   "pygments_lexer": "ipython3",
   "version": "3.11.5"
  },
  "vscode": {
   "interpreter": {
    "hash": "53d6570113b994f255c5776c8cfb3ba753c6be772e819a2f7ee89343d6cab335"
   }
  }
 },
 "nbformat": 4,
 "nbformat_minor": 1
}
