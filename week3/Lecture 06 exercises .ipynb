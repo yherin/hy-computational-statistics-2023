{
 "cells": [
  {
   "cell_type": "markdown",
   "metadata": {},
   "source": [
    "University of Helsinki, Master's Programme in Mathematics and Statistics  \n",
    "MAST32001 Computational Statistics, Autumn 2023  \n",
    "Luigi Acerbi  \n",
    "Based on notebook by Antti Honkela  \n",
    "\n",
    "# Lecture 6: Markov chain Monte Carlo (MCMC) basics\n",
    "\n",
    "Background reading: please see Chapter 6 of the \"Course notes\" available in Moodle.\n"
   ]
  },
  {
   "cell_type": "code",
   "execution_count": 3,
   "metadata": {},
   "outputs": [],
   "source": [
    "# imports\n",
    "import numpy as np\n",
    "rng = np.random.default_rng(42)\n",
    "\n",
    "from typing import Callable\n",
    "from scipy import stats"
   ]
  },
  {
   "cell_type": "markdown",
   "metadata": {},
   "source": [
    "## 1. Metropolis-Hastings sampling of a 1D target\n",
    "\n",
    "1. Write a Metropolis-Hastings sampler to draw samples having as target density the standard normal distribution (zero mean, unit variance) $\\mathcal{N}(0, 1)$, using the following proposal distribution: $$Q(\\theta^\\prime ; \\theta) = \\mathrm{Uniform}(\\theta^\\prime; \\theta-0.5, \\theta+0.5).$$ Draw 1000 samples and compute the acceptance rate of your sampler.\n",
    "2. Throw away the first half of the samples (warmup), from now on we only consider the second half. Plot a normalized (`density=True`) histogram of the samples you have drawn together with the true density. *Hint*: For a 1D array `a`, you can throw away the first half with `a = a[len(a)//2:]`.\n",
    "3. Plot a trace plot of the samples: a line plot of the samples (*Hint*: Simply use `plt.plot`). Do consecutive samples appear independent or are they correlated? Plot a similar trace of the samples when they are permuted to a random order. Do the curves look simiar?\n",
    "4. Try increasing the number of samples to 10000 and only including every 10th sample in the plots. This is called *thinning*. (*Hint*: you can extract every 10th element of a numpy.array `theta` using `theta[::10]`.)\n",
    "5. Try changing the bounds of the proposal distribution such that they remain symmetric about $\\theta$, run the sampler and redraw the plots. Can you make the samples appear more independent? Is there a connection between the acceptance rate and the appearance of the plots?\n",
    "6. Compute the expectation $E[\\theta^2]$ using your samples using the Monte Carlo approximation\n",
    "$$ E[f(\\theta)] \\approx \\frac{1}{n} \\sum_{i=1}^n f(\\theta_i) \\quad \\Longrightarrow \\quad E[\\theta^2] \\approx \\frac{1}{n} \\sum_{i=1}^n (\\theta_i)^2, $$\n",
    "where $\\theta_i, i = 1, \\dots, n$ are the samples you have drawn. Compare the value you obtained with the known ground truth (i.e., the second moment of a standard normal distribution)."
   ]
  },
  {
   "cell_type": "code",
   "execution_count": 13,
   "metadata": {},
   "outputs": [],
   "source": [
    "# 1\n",
    "def metropolis_hastings(theta0: float, n: int, logtarget: Callable[[float], float], drawproposal: Callable[[], float]) -> np.ndarray:\n",
    "    thetas = np.zeros(n)"
   ]
  },
  {
   "cell_type": "markdown",
   "metadata": {},
   "source": [
    "## 2. Tuning a Metropolis-Hastings sampler\n",
    "\n",
    "Let us consider Metropolis-Hastings sampling of a $\\mathcal{N}(0, 1)$ target with $$q(\\theta', \\theta) = \\mathcal{N}(\\theta';\\; \\theta, \\sigma^2)$$ as the proposal. Your aim is to tune the proposal width $\\sigma > 0$ to obtain optimal mixing.\n",
    "\n",
    "1. Implement the sampler and run it 20 times with a number of different values of $\\sigma$. Record the acceptance rates and the mean and variance of the samples you obtain. What value of $\\sigma$ gives the most accurate estimates? What is the corresponding acceptance rate?\n",
    "2. Repeat the task with $q(\\theta', \\theta) = \\mathrm{Uniform}(\\theta-\\sigma/2, \\theta+\\sigma/2)$ as the proposal.  What value of $\\sigma$ now gives the most accurate estimates? What is the corresponding acceptance rate?"
   ]
  },
  {
   "cell_type": "code",
   "execution_count": null,
   "metadata": {},
   "outputs": [],
   "source": []
  },
  {
   "cell_type": "markdown",
   "metadata": {},
   "source": [
    "## 3. Metropolis-Hastings sampling of a higher dimensional target\n",
    "\n",
    "1. Implement a Metropolis-Hastings sampler for multivariate targets and test it for sampling from the standard zero-mean, unit covariance $d$-dimensional multivariate normal $\\mathcal{N}(0, I_d)$ for $d = 2$ using $Q(\\theta' ; \\theta) = \\mathcal{N}(\\theta' ;\\; \\theta, w I_d)$ as the proposal with $w = 0.5$. Draw 10000 samples and thin by a factor of 10.\n",
    "2. Plot trace plots, histograms and pairwise scatter plots of all pairs of variables.\n",
    "3. Run the sampler and draw the plots again with different $w$. How do the results change? Can you see the link between the acceptance ratio and the appearence of the plots?\n",
    "4. Repeat the analysis for $d=5$."
   ]
  },
  {
   "cell_type": "code",
   "execution_count": null,
   "metadata": {},
   "outputs": [],
   "source": []
  },
  {
   "cell_type": "markdown",
   "metadata": {},
   "source": [
    "## 4. Sampling a multimodal distribution, convergence checking\n",
    "\n",
    "In this exercise we consider Metropolis-Hastings sampling from a two-dimensional unnormalised target distribution\n",
    "$$ P^*(\\theta; R) = \\sum_{i=1}^5 \\exp\\left( -\\frac{1}{2} (\\theta-\\mu_i)^T (\\theta - \\mu_i) \\right) $$\n",
    "with $\\mu_1 = (0, 0), \\mu_2 = (R, R), \\mu_3 = (R, -R), \\mu_4 = (-R, R), \\mu_5 = (-R, -R)$. Here $R$ denotes a parameter that specifies the spread of the modes of the distribution.\n",
    "\n",
    "1. Plot a contour plot of $\\log P^*(\\theta; R)$ for $R = 6$. *Hint*: We already provide the code for making a contour plot, you only need to write the code for the target log density.\n",
    "2. Write a Metropolis-Hastings sampler for the target using $q(\\theta' ; \\theta) = \\mathcal{N}(\\theta'; \\; \\theta, I_2)$ as the proposal and run it to obtain 10000 samples.\n",
    "3. Plot a scatter plot of the samples and compare it to the contour plot. Is the sampler exploring the density well?\n",
    "4. Start several chains from different initial values and compare the results. Do the chains converge?\n",
    "5. Try repeating the experiment with $R=3$.\n",
    "6. Try repeating the experiment with $R=100$ using the same initial points as with $R=3$.\n",
    "7. Try to get the sampler to explore the density for $R=6$. Try running the sampler for longer, changing the proposal, ..."
   ]
  },
  {
   "cell_type": "code",
   "execution_count": 2,
   "metadata": {},
   "outputs": [
    {
     "name": "stderr",
     "output_type": "stream",
     "text": [
      "C:\\Users\\luigi\\AppData\\Local\\Temp/ipykernel_15616/1718424646.py:24: UserWarning: No contour levels were found within the data range.\n",
      "  plt.contour(X, Y, Z)\n"
     ]
    },
    {
     "data": {
      "image/png": "[encoded data removed]",
      "text/plain": [
       "<Figure size 432x288 with 1 Axes>"
      ]
     },
     "metadata": {
      "needs_background": "light"
     },
     "output_type": "display_data"
    }
   ],
   "source": [
    "%matplotlib inline\n",
    "import numpy as np\n",
    "import numpy.random as npr\n",
    "import matplotlib.pyplot as plt\n",
    "import scipy.special as scs\n",
    "\n",
    "npr.seed(41)\n",
    "\n",
    "def target(theta, R):\n",
    "    \"\"\"Target log density.\"\"\"\n",
    "    # Write here the code that computes the target log density at theta (a numpy array), for parameter R.    \n",
    "    return 0.0\n",
    "\n",
    "# 1\n",
    "R = 6.0\n",
    "x = np.linspace(-10, 10, 100)\n",
    "y = np.linspace(-10, 10, 100)\n",
    "X, Y = np.meshgrid(x, y)\n",
    "Z = np.zeros(X.shape)\n",
    "for i, x_ in enumerate(x):\n",
    "    for j, y_ in enumerate(y):\n",
    "        Z[i,j] = target(np.array([x_, y_]), R)\n",
    "        \n",
    "plt.contour(X, Y, Z)\n",
    "plt.title('Target log density')\n",
    "plt.xlabel(r'$x$')\n",
    "plt.ylabel(r'$y$')\n",
    "plt.show()"
   ]
  },
  {
   "cell_type": "code",
   "execution_count": null,
   "metadata": {},
   "outputs": [],
   "source": []
  }
 ],
 "metadata": {
  "kernelspec": {
   "display_name": "bayesian-analysis-with-python-2PZ-H5WS-py3.11",
   "language": "python",
   "name": "python3"
  },
  "language_info": {
   "codemirror_mode": {
    "name": "ipython",
    "version": 3
   },
   "file_extension": ".py",
   "mimetype": "text/x-python",
   "name": "python",
   "nbconvert_exporter": "python",
   "pygments_lexer": "ipython3",
   "version": "3.11.5"
  },
  "vscode": {
   "interpreter": {
    "hash": "9758a00ff0fd6d6ab446baa6dde1736e04c27ca35999186ac6517ef6a8f9472b"
   }
  }
 },
 "nbformat": 4,
 "nbformat_minor": 1
}
