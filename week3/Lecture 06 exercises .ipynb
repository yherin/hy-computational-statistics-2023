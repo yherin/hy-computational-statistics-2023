{
 "cells": [
  {
   "cell_type": "markdown",
   "metadata": {},
   "source": [
    "University of Helsinki, Master's Programme in Mathematics and Statistics  \n",
    "MAST32001 Computational Statistics, Autumn 2023  \n",
    "Luigi Acerbi  \n",
    "Based on notebook by Antti Honkela  \n",
    "\n",
    "# Lecture 6: Markov chain Monte Carlo (MCMC) basics\n",
    "\n",
    "Background reading: please see Chapter 6 of the \"Course notes\" available in Moodle.\n"
   ]
  },
  {
   "cell_type": "code",
   "execution_count": 1,
   "metadata": {},
   "outputs": [],
   "source": [
    "# imports\n",
    "import numpy as np\n",
    "rng = np.random.default_rng(42)\n",
    "\n",
    "from typing import Callable\n",
    "from scipy import stats\n",
    "import seaborn as sns"
   ]
  },
  {
   "cell_type": "markdown",
   "metadata": {},
   "source": [
    "## 1. Metropolis-Hastings sampling of a 1D target\n",
    "\n",
    "1. Write a Metropolis-Hastings sampler to draw samples having as target density the standard normal distribution (zero mean, unit variance) $\\mathcal{N}(0, 1)$, using the following proposal distribution: $$Q(\\theta^\\prime ; \\theta) = \\mathrm{Uniform}(\\theta^\\prime; \\theta-0.5, \\theta+0.5).$$ Draw 1000 samples and compute the acceptance rate of your sampler.\n",
    "2. Throw away the first half of the samples (warmup), from now on we only consider the second half. Plot a normalized (`density=True`) histogram of the samples you have drawn together with the true density. *Hint*: For a 1D array `a`, you can throw away the first half with `a = a[len(a)//2:]`.\n",
    "3. Plot a trace plot of the samples: a line plot of the samples (*Hint*: Simply use `plt.plot`). Do consecutive samples appear independent or are they correlated? Plot a similar trace of the samples when they are permuted to a random order. Do the curves look simiar?\n",
    "4. Try increasing the number of samples to 10000 and only including every 10th sample in the plots. This is called *thinning*. (*Hint*: you can extract every 10th element of a numpy.array `theta` using `theta[::10]`.)\n",
    "5. Try changing the bounds of the proposal distribution such that they remain symmetric about $\\theta$, run the sampler and redraw the plots. Can you make the samples appear more independent? Is there a connection between the acceptance rate and the appearance of the plots?\n",
    "6. Compute the expectation $E[\\theta^2]$ using your samples using the Monte Carlo approximation\n",
    "$$ E[f(\\theta)] \\approx \\frac{1}{n} \\sum_{i=1}^n f(\\theta_i) \\quad \\Longrightarrow \\quad E[\\theta^2] \\approx \\frac{1}{n} \\sum_{i=1}^n (\\theta_i)^2, $$\n",
    "where $\\theta_i, i = 1, \\dots, n$ are the samples you have drawn. Compare the value you obtained with the known ground truth (i.e., the second moment of a standard normal distribution)."
   ]
  },
  {
   "cell_type": "code",
   "execution_count": 10,
   "metadata": {},
   "outputs": [
    {
     "name": "stdout",
     "output_type": "stream",
     "text": [
      "5000\n"
     ]
    },
    {
     "name": "stderr",
     "output_type": "stream",
     "text": [
      "/home/sjack/.cache/pypoetry/virtualenvs/bayesian-analysis-with-python-2PZ-H5WS-py3.11/lib/python3.11/site-packages/seaborn/_oldcore.py:1498: FutureWarning: is_categorical_dtype is deprecated and will be removed in a future version. Use isinstance(dtype, CategoricalDtype) instead\n",
      "  if pd.api.types.is_categorical_dtype(vector):\n",
      "/home/sjack/.cache/pypoetry/virtualenvs/bayesian-analysis-with-python-2PZ-H5WS-py3.11/lib/python3.11/site-packages/seaborn/_oldcore.py:1119: FutureWarning: use_inf_as_na option is deprecated and will be removed in a future version. Convert inf values to NaN before operating instead.\n",
      "  with pd.option_context('mode.use_inf_as_na', True):\n",
      "/home/sjack/.cache/pypoetry/virtualenvs/bayesian-analysis-with-python-2PZ-H5WS-py3.11/lib/python3.11/site-packages/seaborn/axisgrid.py:118: UserWarning: The figure layout has changed to tight\n",
      "  self._figure.tight_layout(*args, **kwargs)\n"
     ]
    },
    {
     "data": {
      "text/plain": [
       "<seaborn.axisgrid.FacetGrid at 0x7f5978454190>"
      ]
     },
     "execution_count": 10,
     "metadata": {},
     "output_type": "execute_result"
    },
    {
     "data": {
      "image/png": "[encoded data removed]",
      "text/plain": [
       "<Figure size 500x500 with 1 Axes>"
      ]
     },
     "metadata": {},
     "output_type": "display_data"
    }
   ],
   "source": [
    "# 1\n",
    "def metropolis_hastings(theta0: float, n: int, target: Callable[[float], float], proposal_draw: Callable[[float], float]) -> np.ndarray:\n",
    "    theta = theta0\n",
    "    thetas = np.zeros(n)\n",
    "    accepts = 0\n",
    "    for i in range(n):\n",
    "        theta_prop = proposal_draw(theta)\n",
    "        u = rng.uniform(0, 1)\n",
    "        if np.log(u) < np.log(target(theta_prop)) - np.log(target(theta)):\n",
    "            theta = theta_prop\n",
    "            accepts += 1\n",
    "        thetas[i] = theta\n",
    "    return thetas, accepts/n\n",
    "\n",
    "n = 10000\n",
    "\n",
    "\n",
    "target_pdf = stats.norm(loc=0, scale=1).pdf\n",
    "\n",
    "samples, _ = metropolis_hastings(\n",
    "    theta0 = 0,\n",
    "    n = n,\n",
    "    target = target_pdf,\n",
    "    proposal_draw = lambda theta: rng.uniform(theta -.5, theta + .5)\n",
    ")\n",
    "\n",
    "samples = samples[n//2:]\n",
    "print(len(samples))\n",
    "sns.displot(samples, bins=50)"
   ]
  },
  {
   "cell_type": "markdown",
   "metadata": {},
   "source": [
    "## 2. Tuning a Metropolis-Hastings sampler\n",
    "\n",
    "Let us consider Metropolis-Hastings sampling of a $\\mathcal{N}(0, 1)$ target with $$q(\\theta', \\theta) = \\mathcal{N}(\\theta';\\; \\theta, \\sigma^2)$$ as the proposal. Your aim is to tune the proposal width $\\sigma > 0$ to obtain optimal mixing.\n",
    "\n",
    "1. Implement the sampler and run it 20 times with a number of different values of $\\sigma$. Record the acceptance rates and the mean and variance of the samples you obtain. What value of $\\sigma$ gives the most accurate estimates? What is the corresponding acceptance rate?\n",
    "2. Repeat the task with $q(\\theta', \\theta) = \\mathrm{Uniform}(\\theta-\\sigma/2, \\theta+\\sigma/2)$ as the proposal.  What value of $\\sigma$ now gives the most accurate estimates? What is the corresponding acceptance rate?"
   ]
  },
  {
   "cell_type": "code",
   "execution_count": 11,
   "metadata": {},
   "outputs": [
    {
     "name": "stdout",
     "output_type": "stream",
     "text": [
      "sigma = 1e-05, acceptance rate = 1.0\n",
      "sigma = 0.040826122448979596, acceptance rate = 0.9835\n",
      "sigma = 0.08164224489795918, acceptance rate = 0.977\n",
      "sigma = 0.12245836734693878, acceptance rate = 0.9665\n",
      "sigma = 0.16327448979591838, acceptance rate = 0.9605\n",
      "sigma = 0.20409061224489797, acceptance rate = 0.923\n",
      "sigma = 0.24490673469387758, acceptance rate = 0.928\n",
      "sigma = 0.28572285714285717, acceptance rate = 0.8885\n",
      "sigma = 0.32653897959183675, acceptance rate = 0.8955\n",
      "sigma = 0.36735510204081634, acceptance rate = 0.8845\n",
      "sigma = 0.4081712244897959, acceptance rate = 0.88\n",
      "sigma = 0.4489873469387755, acceptance rate = 0.8675\n",
      "sigma = 0.48980346938775515, acceptance rate = 0.8375\n",
      "sigma = 0.5306195918367347, acceptance rate = 0.8315\n",
      "sigma = 0.5714357142857143, acceptance rate = 0.8305\n",
      "sigma = 0.6122518367346939, acceptance rate = 0.8065\n",
      "sigma = 0.6530679591836734, acceptance rate = 0.7945\n",
      "sigma = 0.693884081632653, acceptance rate = 0.7655\n",
      "sigma = 0.7347002040816326, acceptance rate = 0.768\n",
      "sigma = 0.7755163265306122, acceptance rate = 0.7645\n",
      "sigma = 0.8163324489795918, acceptance rate = 0.7625\n",
      "sigma = 0.8571485714285714, acceptance rate = 0.7515\n",
      "sigma = 0.897964693877551, acceptance rate = 0.7325\n",
      "sigma = 0.9387808163265305, acceptance rate = 0.725\n",
      "sigma = 0.9795969387755102, acceptance rate = 0.706\n",
      "sigma = 1.02041306122449, acceptance rate = 0.7075\n",
      "sigma = 1.0612291836734695, acceptance rate = 0.6955\n",
      "sigma = 1.102045306122449, acceptance rate = 0.704\n",
      "sigma = 1.1428614285714287, acceptance rate = 0.664\n",
      "sigma = 1.1836775510204083, acceptance rate = 0.66\n",
      "sigma = 1.2244936734693879, acceptance rate = 0.6665\n",
      "sigma = 1.2653097959183675, acceptance rate = 0.653\n",
      "sigma = 1.306125918367347, acceptance rate = 0.622\n",
      "sigma = 1.3469420408163266, acceptance rate = 0.609\n",
      "sigma = 1.3877581632653062, acceptance rate = 0.618\n",
      "sigma = 1.4285742857142858, acceptance rate = 0.6065\n",
      "sigma = 1.4693904081632654, acceptance rate = 0.5835\n",
      "sigma = 1.510206530612245, acceptance rate = 0.5705\n",
      "sigma = 1.5510226530612246, acceptance rate = 0.577\n",
      "sigma = 1.5918387755102041, acceptance rate = 0.556\n",
      "sigma = 1.6326548979591837, acceptance rate = 0.5775\n",
      "sigma = 1.6734710204081633, acceptance rate = 0.5295\n",
      "sigma = 1.714287142857143, acceptance rate = 0.548\n",
      "sigma = 1.7551032653061225, acceptance rate = 0.543\n",
      "sigma = 1.795919387755102, acceptance rate = 0.511\n",
      "sigma = 1.8367355102040817, acceptance rate = 0.5125\n",
      "sigma = 1.8775516326530612, acceptance rate = 0.531\n",
      "sigma = 1.9183677551020408, acceptance rate = 0.515\n",
      "sigma = 1.9591838775510206, acceptance rate = 0.51\n",
      "sigma = 2.0, acceptance rate = 0.496\n",
      "Optimal sigma = 1e-05\n"
     ]
    }
   ],
   "source": [
    "sigmas = np.linspace(1e-5, 2, 50)\n",
    "\n",
    "n = 10000\n",
    "acceptance_rates = np.zeros(len(sigmas))\n",
    "for s in sigmas:\n",
    "\n",
    "    samples, acceptance_rate = metropolis_hastings(\n",
    "        theta0 = 0,\n",
    "        n = 2000,\n",
    "        target = stats.norm(loc=0, scale=1).pdf,\n",
    "        proposal_draw = lambda x: stats.norm(loc=x, scale=s).rvs()\n",
    "    )\n",
    "    print(f\"sigma = {s}, acceptance rate = {acceptance_rate}\")\n",
    "\n",
    "print(f\"Optimal sigma = {sigmas[np.argmax(acceptance_rates)]}\")"
   ]
  },
  {
   "cell_type": "markdown",
   "metadata": {},
   "source": [
    "## 3. Metropolis-Hastings sampling of a higher dimensional target\n",
    "\n",
    "1. Implement a Metropolis-Hastings sampler for multivariate targets and test it for sampling from the standard zero-mean, unit covariance $d$-dimensional multivariate normal $\\mathcal{N}(0, I_d)$ for $d = 2$ using $Q(\\theta' ; \\theta) = \\mathcal{N}(\\theta' ;\\; \\theta, w I_d)$ as the proposal with $w = 0.5$. Draw 10000 samples and thin by a factor of 10.\n",
    "2. Plot trace plots, histograms and pairwise scatter plots of all pairs of variables.\n",
    "3. Run the sampler and draw the plots again with different $w$. How do the results change? Can you see the link between the acceptance ratio and the appearence of the plots?\n",
    "4. Repeat the analysis for $d=5$."
   ]
  },
  {
   "cell_type": "code",
   "execution_count": null,
   "metadata": {},
   "outputs": [],
   "source": []
  },
  {
   "cell_type": "markdown",
   "metadata": {},
   "source": [
    "## 4. Sampling a multimodal distribution, convergence checking\n",
    "\n",
    "In this exercise we consider Metropolis-Hastings sampling from a two-dimensional unnormalised target distribution\n",
    "$$ P^*(\\theta; R) = \\sum_{i=1}^5 \\exp\\left( -\\frac{1}{2} (\\theta-\\mu_i)^T (\\theta - \\mu_i) \\right) $$\n",
    "with $\\mu_1 = (0, 0), \\mu_2 = (R, R), \\mu_3 = (R, -R), \\mu_4 = (-R, R), \\mu_5 = (-R, -R)$. Here $R$ denotes a parameter that specifies the spread of the modes of the distribution.\n",
    "\n",
    "1. Plot a contour plot of $\\log P^*(\\theta; R)$ for $R = 6$. *Hint*: We already provide the code for making a contour plot, you only need to write the code for the target log density.\n",
    "2. Write a Metropolis-Hastings sampler for the target using $q(\\theta' ; \\theta) = \\mathcal{N}(\\theta'; \\; \\theta, I_2)$ as the proposal and run it to obtain 10000 samples.\n",
    "3. Plot a scatter plot of the samples and compare it to the contour plot. Is the sampler exploring the density well?\n",
    "4. Start several chains from different initial values and compare the results. Do the chains converge?\n",
    "5. Try repeating the experiment with $R=3$.\n",
    "6. Try repeating the experiment with $R=100$ using the same initial points as with $R=3$.\n",
    "7. Try to get the sampler to explore the density for $R=6$. Try running the sampler for longer, changing the proposal, ..."
   ]
  },
  {
   "cell_type": "code",
   "execution_count": 4,
   "metadata": {},
   "outputs": [
    {
     "data": {
      "image/png": "[encoded data removed]",
      "text/plain": [
       "<Figure size 640x480 with 1 Axes>"
      ]
     },
     "metadata": {},
     "output_type": "display_data"
    }
   ],
   "source": [
    "%matplotlib inline\n",
    "import numpy as np\n",
    "import numpy.random as npr\n",
    "import matplotlib.pyplot as plt\n",
    "import scipy.special as scs\n",
    "\n",
    "npr.seed(41)\n",
    "\n",
    "def target(theta, R):\n",
    "    \"\"\"Target log density.\"\"\"\n",
    "    # Write here the code that computes the target log density at theta (a numpy array), for parameter R.    \n",
    "    return 0.0\n",
    "\n",
    "# 1\n",
    "R = 6.0\n",
    "x = np.linspace(-10, 10, 100)\n",
    "y = np.linspace(-10, 10, 100)\n",
    "X, Y = np.meshgrid(x, y)\n",
    "Z = np.zeros(X.shape)\n",
    "for i, x_ in enumerate(x):\n",
    "    for j, y_ in enumerate(y):\n",
    "        Z[i,j] = target(np.array([x_, y_]), R)\n",
    "        \n",
    "plt.contour(X, Y, Z)\n",
    "plt.title('Target log density')\n",
    "plt.xlabel(r'$x$')\n",
    "plt.ylabel(r'$y$')\n",
    "plt.show()"
   ]
  },
  {
   "cell_type": "code",
   "execution_count": null,
   "metadata": {},
   "outputs": [],
   "source": []
  }
 ],
 "metadata": {
  "kernelspec": {
   "display_name": "bayesian-analysis-with-python-2PZ-H5WS-py3.11",
   "language": "python",
   "name": "python3"
  },
  "language_info": {
   "codemirror_mode": {
    "name": "ipython",
    "version": 3
   },
   "file_extension": ".py",
   "mimetype": "text/x-python",
   "name": "python",
   "nbconvert_exporter": "python",
   "pygments_lexer": "ipython3",
   "version": "3.11.5"
  },
  "vscode": {
   "interpreter": {
    "hash": "9758a00ff0fd6d6ab446baa6dde1736e04c27ca35999186ac6517ef6a8f9472b"
   }
  }
 },
 "nbformat": 4,
 "nbformat_minor": 1
}
